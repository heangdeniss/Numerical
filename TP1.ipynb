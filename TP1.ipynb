{
 "cells": [
  {
   "cell_type": "code",
   "execution_count": 1,
   "metadata": {},
   "outputs": [],
   "source": [
    "def f(x):\n",
    "    return 600*x**4 - 550*x**3 + 200*x**2 - 20*x - 1\n",
    "\n",
    "def bisection_method(f, a, b, tol=1e-4, max_iter=100):\n",
    "    if f(a) * f(b) > 0:\n",
    "        raise ValueError(\"No sign change in the interval\")\n",
    "    \n",
    "    iter_count = 0\n",
    "    while (b - a) / 2 > tol:\n",
    "        c = (a + b) / 2\n",
    "        if f(c) == 0 or (b - a) / 2 < tol:\n",
    "            return c\n",
    "        iter_count += 1\n",
    "        if f(c) * f(a) < 0:\n",
    "            b = c\n",
    "        else:\n",
    "            a = c\n",
    "        if iter_count > max_iter:\n",
    "            raise ValueError(\"Maximum iterations reached\")\n",
    "    return (a + b) / 2"
   ]
  },
  {
   "cell_type": "code",
   "execution_count": 2,
   "metadata": {},
   "outputs": [
    {
     "name": "stdout",
     "output_type": "stream",
     "text": [
      "Root found by Bisection Method: 0.23233032226562503\n"
     ]
    }
   ],
   "source": [
    "#Applying Bisection Method\n",
    "root_bisection = bisection_method(f, 0.1, 1)\n",
    "print(f\"Root found by Bisection Method: {root_bisection}\")"
   ]
  },
  {
   "cell_type": "code",
   "execution_count": 3,
   "metadata": {},
   "outputs": [],
   "source": [
    "\n",
    "def f_prime(x):\n",
    "    return 2400*x**3 - 1650*x**2 + 400*x - 20\n",
    "\n",
    "def newtons_method(f, f_prime, x0, tol=1e-4, max_iter=100):\n",
    "    iter_count = 0\n",
    "    x = x0\n",
    "    while abs(f(x)) > tol and iter_count < max_iter:\n",
    "        x = x - f(x) / f_prime(x)\n",
    "        iter_count += 1\n",
    "    return x"
   ]
  },
  {
   "cell_type": "code",
   "execution_count": 4,
   "metadata": {},
   "outputs": [
    {
     "name": "stdout",
     "output_type": "stream",
     "text": [
      "Root found by Newton's Method: 0.2323578624218841\n"
     ]
    }
   ],
   "source": [
    "# Applying Newton's Method\n",
    "root_newton = newtons_method(f, f_prime, 0.5)\n",
    "print(f\"Root found by Newton's Method: {root_newton}\")"
   ]
  }
 ],
 "metadata": {
  "kernelspec": {
   "display_name": "Python 3",
   "language": "python",
   "name": "python3"
  },
  "language_info": {
   "codemirror_mode": {
    "name": "ipython",
    "version": 3
   },
   "file_extension": ".py",
   "mimetype": "text/x-python",
   "name": "python",
   "nbconvert_exporter": "python",
   "pygments_lexer": "ipython3",
   "version": "3.12.0"
  }
 },
 "nbformat": 4,
 "nbformat_minor": 2
}
