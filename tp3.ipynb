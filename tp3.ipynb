{
 "cells": [
  {
   "cell_type": "markdown",
   "id": "c61f1c20-5923-4170-b9a0-fecc6d8fb08e",
   "metadata": {},
   "source": [
    "# **TP3:  Numerical Differentiations and Integrations**"
   ]
  },
  {
   "cell_type": "code",
   "execution_count": 325,
   "id": "22fade95-2d4d-4619-aea0-323ad4ce24b3",
   "metadata": {
    "tags": []
   },
   "outputs": [],
   "source": [
    "import numpy as np\n",
    "import pandas as pd\n",
    "import matplotlib.pyplot as plt\n",
    "\n",
    "import math\n",
    "#import sympy4567    \n",
    "import scipy\n",
    "from collections.abc import Callable"
   ]
  },
  {
   "cell_type": "markdown",
   "id": "a480607f-c7c2-4d95-ac02-18a9fc6d8fad",
   "metadata": {},
   "source": [
    "## **Exo1:**"
   ]
  },
  {
   "cell_type": "markdown",
   "id": "04c4e31e-b435-4c17-a2a2-5fba975655a9",
   "metadata": {},
   "source": [
    "Use the forward-difference formulas and backward-difference formulas to determine\n",
    "each missing entry in the following tables."
   ]
  },
  {
   "cell_type": "markdown",
   "id": "de325a02-d52f-4cf1-87da-bc0e2ca3a426",
   "metadata": {},
   "source": [
    "### **(a)**"
   ]
  },
  {
   "cell_type": "markdown",
   "id": "3500930b-a382-4e58-aad4-621a3cdd4d56",
   "metadata": {},
   "source": [
    "\\begin{array}{l|l|l}\n",
    "x & f(x) & f^{\\prime}(x) \\\\\n",
    "\\hline 0.5 & 0.4794 & 0.852 \\\\\n",
    "\\hline 0.6 & 0.5646 & 0.852 \\\\\n",
    "\\hline 0.7 & 0.6442 & 0.796 \\\\\n",
    "\\hline\n",
    "\\end{array}\n",
    "We used the forward difference formula to compute $f^{\\prime}(0.5)$ and the backward difference formula to compute $f^{\\prime}(0.6)$ and $f^{\\prime}(0.7)$. If the forward difference formula were used to compute $f^{\\prime}(0)$, the result would be 0.796 ."
   ]
  },
  {
   "cell_type": "markdown",
   "id": "69bef7b9-5e41-4635-bf88-b8adafdd2658",
   "metadata": {},
   "source": [
    "### **(b)**"
   ]
  },
  {
   "cell_type": "markdown",
   "id": "5c762249-93ce-4ac3-a976-233795120051",
   "metadata": {},
   "source": [
    "\\begin{array}{l|l|l}\n",
    "x & f(x) & f^{\\prime}(x) \\\\\n",
    "\\hline 0.0 & 0.00000 & 3.707 \\\\\n",
    "\\hline 0.2 & 0.74140 & 3.152 \\\\\n",
    "\\hline 0.4 & 1.3718 & 3.152 \\\\\n",
    "\\hline\n",
    "\\end{array}\n",
    "Forward difference was used for the first two, and backward difference for the last one. If backward difference were used for the second one, the answer would be 3.707."
   ]
  },
  {
   "cell_type": "markdown",
   "id": "065f64ac-e95d-495a-b879-c4436eed9731",
   "metadata": {},
   "source": [
    "## **Exo2:**"
   ]
  },
  {
   "cell_type": "markdown",
   "id": "a6f527a4-7274-44be-8b5a-864474cd8632",
   "metadata": {},
   "source": [
    "Use the most accurate three-point formula to determine each missing entry in the\n",
    "following tables."
   ]
  },
  {
   "cell_type": "markdown",
   "id": "50069a52-f394-44c2-a1e4-29007ceb7d16",
   "metadata": {},
   "source": [
    "### **(a)**"
   ]
  },
  {
   "cell_type": "markdown",
   "id": "d1869034-edcd-4fee-a779-7209d27738bf",
   "metadata": {},
   "source": [
    "\\begin{array}{l|l|l}\n",
    "x & f(x) & f^{\\prime}(x) \\\\\n",
    "\\hline 1.1 & 9.025013 & 17.769705 \\\\\n",
    "\\hline 1.2 & 11.02318 & 22.193635 \\\\\n",
    "\\hline 1.3 & 13.46374 & 27.107350 \\\\\n",
    "\\hline 1.4 & 16.44465 & 32.150850 \\\\\n",
    "\\hline\n",
    "\\end{array}"
   ]
  },
  {
   "cell_type": "markdown",
   "id": "dad6e421-0f19-43a9-8995-15dba3c52c88",
   "metadata": {},
   "source": [
    "For the endpoints of the tables, we use 3-Point Endpoint Formula. The other approximations come from 3-Point Midpoint formula."
   ]
  },
  {
   "cell_type": "markdown",
   "id": "46e45036-8ead-4cd2-b81c-ca4bbbd4cc0c",
   "metadata": {},
   "source": [
    "### **(b)**"
   ]
  },
  {
   "cell_type": "markdown",
   "id": "d945155b-35e8-4661-a443-45f8d5088da9",
   "metadata": {},
   "source": [
    "\\begin{array}{l|l|l}\n",
    "x & f(x) & f^{\\prime}(x) \\\\\n",
    "\\hline 8.1 & 16.94410 & 3.092050 \\\\\n",
    "\\hline 8.3 & 17.56492 & 3.116150 \\\\\n",
    "\\hline 8.5 & 18.19056 & 3.139975 \\\\\n",
    "\\hline 8.7 & 18.82091 & 3.163525 \\\\\n",
    "\\hline\n",
    "\\end{array}"
   ]
  },
  {
   "cell_type": "markdown",
   "id": "424db414-276f-469f-a3d5-82e34103ee82",
   "metadata": {},
   "source": [
    "## **Exo3:**"
   ]
  },
  {
   "cell_type": "code",
   "execution_count": 326,
   "id": "7f4ed8b0-645a-4e04-8dea-363415920682",
   "metadata": {},
   "outputs": [
    {
     "name": "stdout",
     "output_type": "stream",
     "text": [
      "-1.4360429333333333 -1.0127697 -1.0006965333333335\n",
      "-0.9845514844444444 -0.9998916555555558\n",
      "-1.0001351503350973\n"
     ]
    }
   ],
   "source": [
    "A_0_h = 2.356194\n",
    "A_0_h_2 = -0.4879837\n",
    "A_0_h_4 = -0.8815732\n",
    "A_0_h_8 = -0.9709157\n",
    "\n",
    "A_1_h = A_0_h_2 + (A_0_h_2 - A_0_h)/(2**2 - 1)\n",
    "A_1_h_2 = A_0_h_4 + (A_0_h_4 - A_0_h_2)/(2**2 - 1)\n",
    "A_1_h_4 = A_0_h_8 + (A_0_h_8 - A_0_h_4)/(2**2 - 1)\n",
    "print(A_1_h, A_1_h_2, A_1_h_4)\n",
    "\n",
    "A_2_h = A_1_h_2 + (A_1_h_2 - A_1_h)/(2**4 - 1)\n",
    "A_2_h_2 = A_1_h_4 + (A_1_h_4 - A_1_h_2)/(2**4 - 1)\n",
    "print(A_2_h, A_2_h_2)\n",
    "\n",
    "A_3_h = A_2_h_2 + (A_2_h_2 - A_2_h)/(2**6 - 1)\n",
    "print(A_3_h)"
   ]
  },
  {
   "cell_type": "code",
   "execution_count": 327,
   "id": "f7e7e349-f1d9-4dfb-92e7-ef3620a2c0ab",
   "metadata": {
    "tags": []
   },
   "outputs": [],
   "source": [
    "def Richardson_Extrapolation(f: Callable[[float], float],\n",
    "                             x: float,\n",
    "                             h: float,\n",
    "                             n: int = 9,\n",
    "                             rtol: float = 1e-10\n",
    "                            ) -> tuple[float, pd.DataFrame]:\n",
    "    N = n + 1\n",
    "    D = np.full(shape=(N,N), fill_value=np.nan, dtype=np.float64)\n",
    "    D[0, 0] = 0.5 * (f(x + h) - f(x - h)) / h\n",
    "    for i in range(1, N, 1):\n",
    "        h = 0.5 * h\n",
    "        D[i, 0] = 0.5 * (f(x + h) - f(x - h)) / h\n",
    "        I = i + 1\n",
    "        p = 1\n",
    "        for j in range(1, I, 1):\n",
    "            p = 4*p\n",
    "            D[i, j] = D[i, j-1] + (D[i, j-1] - D[i-1, j-1]) / (p-1)\n",
    "        if abs(D[i,i] - D[i-1, i-1]) < rtol:\n",
    "            break\n",
    "    d = D[i,i]\n",
    "    columns = [f'O(h^{2*(k+1)})' for k in range(0, I, 1)]\n",
    "    D = pd.DataFrame(data=D[:I, :I], columns=columns)\n",
    "    return (d, D)"
   ]
  },
  {
   "cell_type": "code",
   "execution_count": 328,
   "id": "26fab837-8f53-4053-aad4-34578c80bbfd",
   "metadata": {
    "tags": []
   },
   "outputs": [
    {
     "name": "stdout",
     "output_type": "stream",
     "text": [
      "d = 0.5000000000\n",
      "     O(h^2) O(h^4) O(h^6) O(h^8)\n",
      "0  0.500417                     \n",
      "1  0.500104    0.5              \n",
      "2  0.500026    0.5    0.5       \n",
      "3  0.500007    0.5    0.5    0.5\n"
     ]
    },
    {
     "name": "stderr",
     "output_type": "stream",
     "text": [
      "/var/folders/vb/nb0122bd5lg5w4j7n_3zzb0w0000gn/T/ipykernel_1105/1249246569.py:4: FutureWarning: Setting an item of incompatible dtype is deprecated and will raise in a future error of pandas. Value '' has dtype incompatible with float64, please explicitly cast to a compatible dtype first.\n",
      "  D.fillna(value='', inplace=True)\n"
     ]
    }
   ],
   "source": [
    "def f(x): return np.log(1+x)\n",
    "d, D = Richardson_Extrapolation(f=f, x=1, h=0.1)\n",
    "print(f\"d = {d:.10f}\")\n",
    "D.fillna(value='', inplace=True)\n",
    "print(D)"
   ]
  },
  {
   "cell_type": "markdown",
   "id": "ddd8a6a9-22f0-419b-a98f-0d7f6523ff5c",
   "metadata": {},
   "source": [
    "## **Exo4**"
   ]
  },
  {
   "cell_type": "markdown",
   "id": "a33f8815-97bb-48df-8b65-435af7f8c0d0",
   "metadata": {},
   "source": [
    "## **Exo5**"
   ]
  },
  {
   "cell_type": "markdown",
   "id": "57ff9644-b39f-444f-8742-45f8d90536dc",
   "metadata": {},
   "source": [
    "Approximate the following integrals using the Trapezoidal rule, Simpson’s rule and Midpoint rule."
   ]
  },
  {
   "cell_type": "markdown",
   "id": "ae03b3a6-539a-4098-a62b-3abbbf0bef05",
   "metadata": {},
   "source": [
    "### **(a)**"
   ]
  },
  {
   "cell_type": "markdown",
   "id": "327e22ba-0bed-4d48-89a3-d40d1575202b",
   "metadata": {},
   "source": [
    "With $f(x)=x^2 \\ln x$ and $h=(1.5-1)=0.5$ the Trapezoid Rule gives\n",
    "$$\n",
    "\\begin{aligned}\n",
    "\\int_1^{1.5} x^2 \\ln x d x & \\approx \\frac{h}{2}[f(1)+f(1.5)] \\\\\n",
    "& =\\frac{0.5}{2}\\left[1^2 \\ln 1+1.5^2 \\ln 1.5\\right] \\approx 0.228\n",
    "\\end{aligned}\n",
    "$$\n",
    "The absolute error is\n",
    "$$\n",
    "|E|=\\frac{h^3}{12}\\left|f^{\\prime \\prime}(\\xi)\\right|\n",
    "$$\n",
    "for some $\\xi \\in[1,1.5]$. Note that\n",
    "$$\n",
    "\\left|f^{\\prime \\prime}(x)\\right|=3+2 \\ln x\n",
    "$$\n",
    "is increasing $\\forall x>1$ so\n",
    "$$\n",
    "\\left|f^{\\prime \\prime}(\\xi)\\right| \\leq\\left|f^{\\prime \\prime}(1.5)\\right|=3+2 \\ln 1.5 .\n",
    "$$\n",
    "Thus\n",
    "$$\n",
    "|E|=\\frac{0.5^3}{12}\\left|f^{\\prime \\prime}(\\xi)\\right| \\leq \\frac{0.5^3}{12}(3+2 \\ln 1.5) \\approx 0.040 .\n",
    "$$\n",
    "We can conclude:\n",
    "$$\n",
    "\\int_1^{1.5} x^2 \\ln x d x=0.228 \\pm 0.040\n",
    "$$"
   ]
  },
  {
   "cell_type": "code",
   "execution_count": 329,
   "id": "5d13c403-bf2b-4f88-a627-1d21d752b1bc",
   "metadata": {
    "tags": []
   },
   "outputs": [],
   "source": [
    "def TrapezoidalRule(f, a, b):\n",
    "    h = b - a\n",
    "    return (h * 0.5 * (f(a) + f(b)))"
   ]
  },
  {
   "cell_type": "code",
   "execution_count": 330,
   "id": "6f362863-b5bf-4030-93b1-ec0db3d5611b",
   "metadata": {
    "tags": []
   },
   "outputs": [
    {
     "data": {
      "text/plain": [
       "0.22807412331084248"
      ]
     },
     "execution_count": 330,
     "metadata": {},
     "output_type": "execute_result"
    }
   ],
   "source": [
    "f_a = lambda x : x**2 * np.log(x)\n",
    "TrapezoidalRule(f = f_a, a = 1, b = 1.5)"
   ]
  },
  {
   "cell_type": "code",
   "execution_count": 331,
   "id": "b78c7199-2c66-4e07-be2e-22e4eb03349d",
   "metadata": {
    "tags": []
   },
   "outputs": [],
   "source": [
    "def SimpsonRule(f, a, b):\n",
    "    h = (b - a)/2\n",
    "    c = a + h\n",
    "    return (h/3 * (f(a) + 4*f(c) + f(b))) "
   ]
  },
  {
   "cell_type": "code",
   "execution_count": 332,
   "id": "c2cf8c52-db4b-4791-b45f-e2b248ca6204",
   "metadata": {
    "tags": []
   },
   "outputs": [
    {
     "data": {
      "text/plain": [
       "0.19224530741309842"
      ]
     },
     "execution_count": 332,
     "metadata": {},
     "output_type": "execute_result"
    }
   ],
   "source": [
    "SimpsonRule(f = f_a, a = 1, b = 1.5)"
   ]
  },
  {
   "cell_type": "code",
   "execution_count": 333,
   "id": "d00d2ea8-67b9-481b-bbf6-3855a7492d6d",
   "metadata": {
    "tags": []
   },
   "outputs": [],
   "source": [
    "def MidpointRule(f, a, b):\n",
    "    h = (b - a)/2\n",
    "    x_0 = a + h\n",
    "    return 2*h*f(x_0)"
   ]
  },
  {
   "cell_type": "code",
   "execution_count": 334,
   "id": "4b536c4e-607f-4233-8ba0-06224ca94d0b",
   "metadata": {
    "tags": []
   },
   "outputs": [
    {
     "data": {
      "text/plain": [
       "0.1743308994642264"
      ]
     },
     "execution_count": 334,
     "metadata": {},
     "output_type": "execute_result"
    }
   ],
   "source": [
    "MidpointRule(f = f_a, a = 1, b = 1.5)"
   ]
  },
  {
   "cell_type": "markdown",
   "id": "ba400664-fcc0-4048-a5eb-851378c20fb3",
   "metadata": {},
   "source": [
    "### **(b)**"
   ]
  },
  {
   "cell_type": "code",
   "execution_count": 335,
   "id": "5e766bfe-7d36-4a03-b065-c6f88170e400",
   "metadata": {
    "tags": []
   },
   "outputs": [
    {
     "name": "stdout",
     "output_type": "stream",
     "text": [
      "4.143259655194082\n",
      "2.5836964032474845\n",
      "1.8039147772741861\n"
     ]
    }
   ],
   "source": [
    "f_b = lambda x : np.exp(1)**(3*x) * np.sin(2*x)\n",
    "print(TrapezoidalRule(f = f_b, a = 0, b = np.pi/4))\n",
    "print(SimpsonRule(f = f_b, a = 0, b = np.pi/4))\n",
    "print(MidpointRule(f = f_b, a = 0, b = np.pi/4))"
   ]
  },
  {
   "cell_type": "markdown",
   "id": "ac0c0a6d-39fa-4bda-a0cf-bfb9b3c82d88",
   "metadata": {},
   "source": [
    "## **Exo6**"
   ]
  },
  {
   "cell_type": "markdown",
   "id": "7369ada9-3721-4e7f-b761-31538685d55d",
   "metadata": {},
   "source": [
    "The degree of precision of a quadrature formula is the largest positive integer $n$ such that the formula is exact for $x^k$, for any $k=0,1,2, \\dots, n$."
   ]
  },
  {
   "cell_type": "code",
   "execution_count": null,
   "id": "3b0e91ac-a335-4882-addf-9bc06ba2cc4f",
   "metadata": {},
   "outputs": [],
   "source": []
  },
  {
   "cell_type": "code",
   "execution_count": null,
   "id": "3b17afbe-5252-4adb-b823-ed62fc9f66e3",
   "metadata": {},
   "outputs": [],
   "source": []
  },
  {
   "cell_type": "markdown",
   "id": "c1fa21dd-a65e-4481-8632-ebabe9ae3ecc",
   "metadata": {},
   "source": [
    "## **Exo9**"
   ]
  },
  {
   "cell_type": "code",
   "execution_count": 336,
   "id": "b0e7a93b-971c-4fd3-bbcf-2e7e666b4a82",
   "metadata": {
    "tags": []
   },
   "outputs": [],
   "source": [
    "def CompositeTrapezoidal(f: Callable[[float], float], a:float, b:float, n:int) -> float:\n",
    "    \"\"\"\n",
    "    --------------------\n",
    "    Approximate the integral of 'f(x)' from 'a' to 'b' using Composite Trapezoidal rule/formula\n",
    "    \n",
    "    Parameters\n",
    "    --------------------\n",
    "    'f' : 'callable'\n",
    "        function that we want to integrate\n",
    "    'a' : 'float'\n",
    "        lower limit of the integral\n",
    "    'b' : 'float'\n",
    "        upper limit of the integral\n",
    "    'n' : 'int'\n",
    "        (n+1) be the number of nodes\n",
    "        \n",
    "    Return\n",
    "    -------------------\n",
    "    'A' : 'float'\n",
    "        the approximated value of the integral\n",
    "    \"\"\"\n",
    "    h = (b-a) / n\n",
    "    f_0 = f(a) + f(b)\n",
    "    f_i = 0\n",
    "    for i in range(1, n):\n",
    "        x = a + i*h\n",
    "        f_i = f_i + f(x)\n",
    "    A = 0.5 * h * (f_0 + 2*f_i)\n",
    "    return A"
   ]
  },
  {
   "cell_type": "markdown",
   "id": "e1ded654-b780-4303-8eba-c7a12d8243f8",
   "metadata": {},
   "source": [
    "## **Exo10**"
   ]
  },
  {
   "cell_type": "markdown",
   "id": "56f39577-daff-44c0-a85e-703bf1d6d0c6",
   "metadata": {},
   "source": [
    "Use the Composite Trapezoidal rule with the indicated values of n to approximate the\n",
    "following integrals."
   ]
  },
  {
   "cell_type": "markdown",
   "id": "bc2cd094-736d-45d8-9411-0ac49e129641",
   "metadata": {},
   "source": [
    "### **(a)**"
   ]
  },
  {
   "cell_type": "code",
   "execution_count": 337,
   "id": "a2aba018-67e4-40f3-ae9d-ddb852ad7a6a",
   "metadata": {
    "tags": []
   },
   "outputs": [
    {
     "data": {
      "text/plain": [
       "0.639900477687986"
      ]
     },
     "execution_count": 337,
     "metadata": {},
     "output_type": "execute_result"
    }
   ],
   "source": [
    "f_10_a = lambda x: x * np.log(x)\n",
    "CompositeTrapezoidal(f = f_10_a, a = 1, b = 2, n = 4)"
   ]
  },
  {
   "cell_type": "markdown",
   "id": "0128b302-3fab-4a8e-b634-1d172a8d0fd1",
   "metadata": {},
   "source": [
    "### **(b)**"
   ]
  },
  {
   "cell_type": "code",
   "execution_count": 338,
   "id": "2dc89904-40b1-4135-8f2b-8e788351dbe4",
   "metadata": {
    "tags": []
   },
   "outputs": [
    {
     "data": {
      "text/plain": [
       "0.4769768665147184"
      ]
     },
     "execution_count": 338,
     "metadata": {},
     "output_type": "execute_result"
    }
   ],
   "source": [
    "f_10_b = lambda x: x / (x**2 + 4)\n",
    "CompositeTrapezoidal(f = f_10_b, a = 1, b = 3, n = 8)"
   ]
  },
  {
   "cell_type": "markdown",
   "id": "dbf02b20-fbbb-4036-87bb-ae5ab5048763",
   "metadata": {},
   "source": [
    "## **Exo11**"
   ]
  },
  {
   "cell_type": "code",
   "execution_count": 339,
   "id": "69f88585-a2fd-4ce6-95aa-b7c7e20b6457",
   "metadata": {
    "tags": []
   },
   "outputs": [],
   "source": [
    "def CompositeSimpson(f: Callable[[float], float], a:float, b:float, n:int) -> float:\n",
    "    \"\"\"\n",
    "    --------------------\n",
    "    Approximate the integral of 'f(x)' from 'a' to 'b' using Composite Simpson rule/formula\n",
    "    \n",
    "    Parameters\n",
    "    --------------------\n",
    "    'f' : 'callable'\n",
    "        function that we want to integrate\n",
    "    'a' : 'float'\n",
    "        lower limit of the integral\n",
    "    'b' : 'float'\n",
    "        upper limit of the integral\n",
    "    'n' : 'int'\n",
    "        (n+1) be the number of nodes\n",
    "        \n",
    "    Return\n",
    "    -------------------\n",
    "    'A' : 'float'\n",
    "        the approximated value of the integral\n",
    "    \"\"\"\n",
    "    h = (b-a) / n\n",
    "    f_0 = f(a) + f(b)\n",
    "    f_1 = 0\n",
    "    f_2 = 0\n",
    "    for i in range(1, n):\n",
    "        x = a + i*h\n",
    "        if (i % 2 == 0):\n",
    "            f_2 = f_2 + f(x)\n",
    "        else:\n",
    "            f_1 = f_1 + f(x)\n",
    "    A = h * (f_0 + 2*f_2 + 4*f_1) / 3\n",
    "    return A"
   ]
  },
  {
   "cell_type": "markdown",
   "id": "603c5611-ace1-4af2-ad03-23762da0655a",
   "metadata": {},
   "source": [
    "## **Exo12**"
   ]
  },
  {
   "cell_type": "markdown",
   "id": "868c983d-a2be-45d3-93ae-dfe1a9a50f9f",
   "metadata": {},
   "source": [
    "Use the Composite Simpson’s rule with the indicated values of n to approximate the\n",
    "following integrals."
   ]
  },
  {
   "cell_type": "markdown",
   "id": "9faabaa3-07d7-4491-816b-77370825adbf",
   "metadata": {},
   "source": [
    "### **(a)**"
   ]
  },
  {
   "cell_type": "code",
   "execution_count": 340,
   "id": "406e0b10-125a-45c8-a171-41f22778b5bc",
   "metadata": {
    "tags": []
   },
   "outputs": [
    {
     "data": {
      "text/plain": [
       "22.477125358234236"
      ]
     },
     "execution_count": 340,
     "metadata": {},
     "output_type": "execute_result"
    }
   ],
   "source": [
    "f_12_a = lambda x: x**3 * np.exp(x)\n",
    "CompositeSimpson(f = f_12_a, a = -2, b = 2, n = 4)"
   ]
  },
  {
   "cell_type": "markdown",
   "id": "3839d41a-4d89-410f-bccc-23adece081ec",
   "metadata": {},
   "source": [
    "### **(b)**"
   ]
  },
  {
   "cell_type": "code",
   "execution_count": 341,
   "id": "ebb0482d-b361-4a56-986a-468b71e8fb8a",
   "metadata": {
    "tags": []
   },
   "outputs": [
    {
     "name": "stdout",
     "output_type": "stream",
     "text": [
      "-6.274868388453119\n"
     ]
    }
   ],
   "source": [
    "f_12_b = lambda x: x**2 * np.cos(x)\n",
    "CompositeSimpson(f = f_12_b, a = 1, b = 3, n = 6)\n",
    "print(CompositeSimpson(f = f_12_b, a = 0, b = np.pi, n = 6))"
   ]
  },
  {
   "cell_type": "markdown",
   "id": "2f219829-b620-4f1c-90c3-6217a2d7d480",
   "metadata": {},
   "source": [
    "## **Exo13**"
   ]
  },
  {
   "cell_type": "code",
   "execution_count": 342,
   "id": "fdf1c560-c3c1-4fcc-8836-95e6b020b6ac",
   "metadata": {
    "tags": []
   },
   "outputs": [],
   "source": [
    "def CompositeMidpoint(f: Callable[[float], float], a:float, b:float, n:int) -> float:\n",
    "    \"\"\"\n",
    "    --------------------\n",
    "    Approximate the integral of 'f(x)' from 'a' to 'b' using Composite Midpoint rule/formula\n",
    "    \n",
    "    Parameters\n",
    "    --------------------\n",
    "    'f' : 'callable'\n",
    "        function that we want to integrate\n",
    "    'a' : 'float'\n",
    "        lower limit of the integral\n",
    "    'b' : 'float'\n",
    "        upper limit of the integral\n",
    "    'n' : 'int'\n",
    "        (n+1) be the number of nodes\n",
    "        \n",
    "    Return\n",
    "    -------------------\n",
    "    'A' : 'float'\n",
    "        the approximated value of the integral\n",
    "    \"\"\"\n",
    "    h = (b-a) / (n+2)\n",
    "    f_2 = 0\n",
    "    for i in range(0, n+3):\n",
    "        x = a + i*h\n",
    "        if (i % 2 != 0):\n",
    "            f_2 = f_2 + f(x)\n",
    "    A = 2 * h * f_2\n",
    "    return A"
   ]
  },
  {
   "cell_type": "markdown",
   "id": "2a5d8db9-c063-4842-9882-545854328a86",
   "metadata": {},
   "source": [
    "## **Exo14**"
   ]
  },
  {
   "cell_type": "markdown",
   "id": "5724d698-2742-415f-8e1e-64334897fe42",
   "metadata": {},
   "source": [
    "Use the Composite Midpoint rule with $n + 2$ subintervals to approximate the following\n",
    "integrals."
   ]
  },
  {
   "cell_type": "markdown",
   "id": "e7ff74d7-b40e-434d-a833-23a3a1edc48a",
   "metadata": {},
   "source": [
    "### **(a)**"
   ]
  },
  {
   "cell_type": "code",
   "execution_count": 343,
   "id": "f2f9b7f0-5d9d-4026-ac65-28be24c264ac",
   "metadata": {
    "tags": []
   },
   "outputs": [
    {
     "data": {
      "text/plain": [
       "0.7867001295984857"
      ]
     },
     "execution_count": 343,
     "metadata": {},
     "output_type": "execute_result"
    }
   ],
   "source": [
    "f_14_a = lambda x: 2 / (x**2 + 4)\n",
    "CompositeMidpoint(f = f_14_a, a = 0, b = 2, n = 6)"
   ]
  },
  {
   "cell_type": "markdown",
   "id": "b82adba6-b4fe-41e3-8355-58c6c2a5c9e9",
   "metadata": {},
   "source": [
    "### **(b)**"
   ]
  },
  {
   "cell_type": "code",
   "execution_count": 344,
   "id": "c5421ca4-8163-45ff-9c00-72937c0e392c",
   "metadata": {
    "tags": []
   },
   "outputs": [
    {
     "data": {
      "text/plain": [
       "-14.998476941632308"
      ]
     },
     "execution_count": 344,
     "metadata": {},
     "output_type": "execute_result"
    }
   ],
   "source": [
    "f_14_b = lambda x: np.exp(2*x) * np.sin(3*x)\n",
    "CompositeMidpoint(f = f_14_b, a = 0, b = 2, n = 8)"
   ]
  },
  {
   "cell_type": "markdown",
   "id": "8393feb8-6e3b-4e73-b72f-989daf5a8618",
   "metadata": {},
   "source": [
    "## **Exo15**"
   ]
  },
  {
   "cell_type": "code",
   "execution_count": 345,
   "id": "037384e4-f19a-457f-bde8-22313468d320",
   "metadata": {
    "tags": []
   },
   "outputs": [
    {
     "name": "stdout",
     "output_type": "stream",
     "text": [
      "0.42199311293715774\n",
      "0.42272181145798154\n",
      "0.4237375413895468\n"
     ]
    }
   ],
   "source": [
    "f_15 = lambda x: x**2 * np.exp(-x**2)\n",
    "print(CompositeTrapezoidal(f = f_15, a = 0, b = 2, n = 10))\n",
    "print(CompositeSimpson(f = f_15, a = 0, b = 2, n = 10))\n",
    "print(CompositeMidpoint(f = f_15, a = 0, b = 2, n = 10))"
   ]
  },
  {
   "cell_type": "markdown",
   "id": "311afe70-3330-4a88-bace-8ba135336f3f",
   "metadata": {},
   "source": [
    "## **Exo16**"
   ]
  },
  {
   "cell_type": "markdown",
   "id": "4c1b6402-3cb2-4a05-a444-3d791ba6a548",
   "metadata": {},
   "source": [
    "### **(a)**"
   ]
  },
  {
   "cell_type": "code",
   "execution_count": 346,
   "id": "38f15362-328d-479c-b680-17db06a5ce62",
   "metadata": {
    "tags": []
   },
   "outputs": [
    {
     "name": "stdout",
     "output_type": "stream",
     "text": [
      "0.04381780460041329 45.64354645876384\n"
     ]
    }
   ],
   "source": [
    "h_CT = np.sqrt(6*10**(-5)/0.03125)\n",
    "n_CT = 2/h_CT\n",
    "print(h_CT, n_CT)"
   ]
  },
  {
   "cell_type": "code",
   "execution_count": 347,
   "id": "f2adce26-7f58-4788-9f4d-02d55cba631a",
   "metadata": {
    "tags": []
   },
   "outputs": [
    {
     "data": {
      "text/plain": [
       "0.40547057780408446"
      ]
     },
     "execution_count": 347,
     "metadata": {},
     "output_type": "execute_result"
    }
   ],
   "source": [
    "f_16 = lambda x: 1 / (x + 4)\n",
    "CompositeTrapezoidal(f = f_16, a = 0, b = 2, n = 46)"
   ]
  },
  {
   "cell_type": "markdown",
   "id": "cf310391-daaf-4b04-b09c-832e027d2556",
   "metadata": {},
   "source": [
    "### **(b)**"
   ]
  },
  {
   "cell_type": "code",
   "execution_count": 348,
   "id": "e3be8b99-20b0-488d-9fee-eae3a493a26d",
   "metadata": {
    "tags": []
   },
   "outputs": [
    {
     "name": "stdout",
     "output_type": "stream",
     "text": [
      "0.44267276788012866 4.518010018049224\n"
     ]
    }
   ],
   "source": [
    "h_CS = (90*10**(-5)/0.0234375)**(1/4)\n",
    "n_CS = 2/h_CS\n",
    "print(h_CS, n_CS)"
   ]
  },
  {
   "cell_type": "code",
   "execution_count": 349,
   "id": "36f3dec6-7bcf-4af9-a2c6-bc08f5c7312f",
   "metadata": {
    "tags": []
   },
   "outputs": [
    {
     "data": {
      "text/plain": [
       "0.4054663745840217"
      ]
     },
     "execution_count": 349,
     "metadata": {},
     "output_type": "execute_result"
    }
   ],
   "source": [
    "CompositeSimpson(f = f_16, a = 0, b = 2, n = 6)"
   ]
  },
  {
   "cell_type": "markdown",
   "id": "532e2d9f-487c-4c5d-b229-cc28810732c3",
   "metadata": {},
   "source": [
    "### **(c)**"
   ]
  },
  {
   "cell_type": "code",
   "execution_count": 350,
   "id": "1a7619b4-ccee-452f-bc12-4a20f08d79b6",
   "metadata": {
    "tags": []
   },
   "outputs": [
    {
     "name": "stdout",
     "output_type": "stream",
     "text": [
      "0.03098386676965934 62.549722436790276\n"
     ]
    }
   ],
   "source": [
    "h_CM = np.sqrt(3*10**(-5)/0.03125)\n",
    "n_CM = (2/h_CM) - 2\n",
    "print(h_CM, n_CM)"
   ]
  },
  {
   "cell_type": "code",
   "execution_count": 351,
   "id": "5cb047b8-4866-4419-b182-fc276215bab8",
   "metadata": {
    "tags": []
   },
   "outputs": [
    {
     "data": {
      "text/plain": [
       "0.40545979433290036"
      ]
     },
     "execution_count": 351,
     "metadata": {},
     "output_type": "execute_result"
    }
   ],
   "source": [
    "CompositeMidpoint(f = f_16, a = 0, b = 2, n = 64)"
   ]
  },
  {
   "cell_type": "markdown",
   "id": "15999ce1-a1c5-4061-9099-9ade34ec1d8d",
   "metadata": {},
   "source": [
    "## **Exo17**"
   ]
  },
  {
   "cell_type": "markdown",
   "id": "08715b67-fe79-4206-8637-8d5593df01e9",
   "metadata": {},
   "source": [
    "### **(a)**"
   ]
  },
  {
   "cell_type": "code",
   "execution_count": 352,
   "id": "3e36b4b9-da4e-4b90-9be4-90ebcc3a8ef6",
   "metadata": {},
   "outputs": [],
   "source": [
    "f_17_a = lambda x: 1 + x**3\n",
    "f_17_b = lambda x: 1.001 + 0.03*(x-0.1) + 0.3*(x-0.1)**2 + 2*(x-0.1)**3\n",
    "f_17_c = lambda x: 1.009 + 0.15*(x-0.2) + 0.9*(x-0.2)**2 + 2*(x-0.2)**3"
   ]
  },
  {
   "cell_type": "code",
   "execution_count": 353,
   "id": "1ddbae61-5cb0-4b06-8499-43089faceea8",
   "metadata": {},
   "outputs": [
    {
     "name": "stdout",
     "output_type": "stream",
     "text": [
      "True\n",
      "True\n"
     ]
    }
   ],
   "source": [
    "print(f_17_a(0.1) == f_17_b(0.1))\n",
    "print(round(f_17_b(0.2),3) == f_17_c(0.2))"
   ]
  },
  {
   "cell_type": "code",
   "execution_count": 354,
   "id": "2cd69dff-ceae-48f3-9e6f-79f18f0ea51d",
   "metadata": {
    "scrolled": true,
    "tags": []
   },
   "outputs": [],
   "source": [
    "D_f_17_a = lambda x: 3*x**2\n",
    "D_f_17_b = lambda x: 0.03 + 0.6*(x-0.1) + 6*(x-0.1)**2\n",
    "D_f_17_c = lambda x: 0.15 + 1.8*(x-0.2) + 6*(x-0.2)**2"
   ]
  },
  {
   "cell_type": "code",
   "execution_count": 355,
   "id": "229fa995-6177-44d3-9e7b-d3d16b1c2f52",
   "metadata": {
    "tags": []
   },
   "outputs": [
    {
     "name": "stdout",
     "output_type": "stream",
     "text": [
      "True\n",
      "True\n"
     ]
    }
   ],
   "source": [
    "print(round(D_f_17_a(0.1), 3) == D_f_17_b(0.1))\n",
    "print(round(D_f_17_b(0.2),3) == D_f_17_c(0.2))"
   ]
  },
  {
   "cell_type": "code",
   "execution_count": 356,
   "id": "147df690-bd79-4291-aefe-f4c6f12a83c9",
   "metadata": {
    "tags": []
   },
   "outputs": [],
   "source": [
    "DD_f_17_a = lambda x: 6*x\n",
    "DD_f_17_b = lambda x: 0.6 + 12*(x-0.1)\n",
    "DD_f_17_c = lambda x: 1.8 + 12*(x-0.2)"
   ]
  },
  {
   "cell_type": "code",
   "execution_count": 357,
   "id": "ddac8490-3ad6-40f2-b642-2149cc5fef21",
   "metadata": {
    "tags": []
   },
   "outputs": [
    {
     "name": "stdout",
     "output_type": "stream",
     "text": [
      "True\n",
      "True\n"
     ]
    }
   ],
   "source": [
    "print(round(DD_f_17_a(0.1), 3) == DD_f_17_b(0.1))\n",
    "print(round(DD_f_17_b(0.2),3) == DD_f_17_c(0.2))"
   ]
  },
  {
   "cell_type": "code",
   "execution_count": 358,
   "id": "7c03b55d-2793-4c04-9792-7d59e9fb4c59",
   "metadata": {
    "tags": []
   },
   "outputs": [],
   "source": [
    "DDD_f_17_a = lambda x: 6\n",
    "DDD_f_17_b = lambda x: 12\n",
    "DDD_f_17_c = lambda x: 12"
   ]
  },
  {
   "cell_type": "code",
   "execution_count": 359,
   "id": "9b75a882-62c8-486f-90a9-81d66018355a",
   "metadata": {
    "tags": []
   },
   "outputs": [
    {
     "name": "stdout",
     "output_type": "stream",
     "text": [
      "False\n",
      "True\n"
     ]
    }
   ],
   "source": [
    "print(DDD_f_17_a(0.1) == DDD_f_17_b(0.1))\n",
    "print(DDD_f_17_b(0.2) == DDD_f_17_c(0.2))"
   ]
  },
  {
   "cell_type": "markdown",
   "id": "17d31337-fc35-4b4c-980c-9ac54a679cdc",
   "metadata": {},
   "source": [
    "Since the right and left limits at 0.1 and 0.2 for $f, f', f''$ are the same, the functions are continuous on $[0,0.3]$. However, for the third derivative $f'''$, they are not the same; it is discontinuous at $x=0.1$ but continuous at $x=0.2$."
   ]
  },
  {
   "cell_type": "markdown",
   "id": "e014bf33-01d7-4094-b302-027297215776",
   "metadata": {},
   "source": [
    "### **(b)**"
   ]
  },
  {
   "cell_type": "code",
   "execution_count": 360,
   "id": "33c4e96a-f156-4c58-8f9a-8b81125f89ea",
   "metadata": {
    "tags": []
   },
   "outputs": [
    {
     "data": {
      "text/plain": [
       "0.302435"
      ]
     },
     "execution_count": 360,
     "metadata": {},
     "output_type": "execute_result"
    }
   ],
   "source": [
    "sol_b = round(CompositeTrapezoidal(f = f_17_a, a = 0, b = 0.1, n = 6),6) + round(CompositeTrapezoidal(f = f_17_b, a = 0.1, b = 0.2, n = 6),6) + round(CompositeTrapezoidal(f = f_17_c, a = 0.2, b = 0.3, n = 6),6)\n",
    "sol_b"
   ]
  },
  {
   "cell_type": "code",
   "execution_count": 361,
   "id": "1e82d817-9996-4aed-8b76-03b853177a06",
   "metadata": {
    "tags": []
   },
   "outputs": [
    {
     "data": {
      "text/plain": [
       "1.25e-05"
      ]
     },
     "execution_count": 361,
     "metadata": {},
     "output_type": "execute_result"
    }
   ],
   "source": [
    "## error bond\n",
    "(0.1/12)*(0.1/6)**2 * (0.6+1.8+3)"
   ]
  },
  {
   "cell_type": "markdown",
   "id": "6c96bd1c-0704-4d25-b66d-a62badbcd9e0",
   "metadata": {},
   "source": [
    "### **(c)**"
   ]
  },
  {
   "cell_type": "code",
   "execution_count": 362,
   "id": "a8bb56f8-5ac4-4197-b320-fb062c66da4e",
   "metadata": {
    "tags": []
   },
   "outputs": [
    {
     "data": {
      "text/plain": [
       "0.302425"
      ]
     },
     "execution_count": 362,
     "metadata": {},
     "output_type": "execute_result"
    }
   ],
   "source": [
    "sol_c = round(CompositeSimpson(f = f_17_a, a = 0, b = 0.1, n = 6),6) + round(CompositeSimpson(f = f_17_b, a = 0.1, b = 0.2, n = 6),6) + round(CompositeSimpson(f = f_17_c, a = 0.2, b = 0.3, n = 6),6)\n",
    "sol_c"
   ]
  },
  {
   "cell_type": "markdown",
   "id": "6af44499-622b-4f83-a26a-6350154ba3d1",
   "metadata": {},
   "source": [
    "The value of the actual integral and the estimation using Composite Simpson's rule in this case is the same."
   ]
  },
  {
   "cell_type": "markdown",
   "id": "f742e295-56c3-46ba-b8b9-408c70658041",
   "metadata": {},
   "source": [
    "## **Exo18**"
   ]
  },
  {
   "cell_type": "markdown",
   "id": "1a5effdc-d8a8-4a2e-8469-6078546ed4cc",
   "metadata": {},
   "source": [
    "The length $l$ of the track is $l=\\int_0^{84} v(t) d t$.\n",
    "We don't know the exact formula of $s(t)$. So, the integral can only be approximated by numerical quadrature using the above 15 data points given in the table:\n",
    "$$\n",
    "\\int_0^{84} v(t) d t \\approx \\sum_{i=1}^{15} a_i v\\left(t_i\\right)\n",
    "$$"
   ]
  },
  {
   "cell_type": "markdown",
   "id": "56860591-658d-4b8a-9779-38fab6fb1a3f",
   "metadata": {},
   "source": [
    "Using Composite trapezoidal rule with $h=6$, we get:\n",
    "$$\n",
    "\\begin{aligned}\n",
    "l=\\int_0^{84} v(t) d t & \\approx \\frac{6}{2}[124+2(134+148+\\cdots+116)+123] \\\\\n",
    "& =9855\n",
    "\\end{aligned}\n",
    "$$\n",
    "Using composite Simpson's rule with $h=6$, we get:\n",
    "$$\n",
    "\\begin{aligned}\n",
    "l=\\int_0^{84} v(t) d t \\approx & \\frac{6}{3}[124+4(134+156+133+109+85+89+116) \\\\\n",
    "& +2(148+147+121+99+78+104)+123] \\\\\n",
    "& =9858\n",
    "\\end{aligned}\n",
    "$$"
   ]
  },
  {
   "cell_type": "markdown",
   "id": "85908d93-fb2a-46e1-91ce-3dda2a4c4a44",
   "metadata": {},
   "source": [
    "## **Exo19**"
   ]
  },
  {
   "cell_type": "code",
   "execution_count": 363,
   "id": "03db4bf5-7e69-4e60-af42-76a081eb25d6",
   "metadata": {
    "tags": []
   },
   "outputs": [],
   "source": [
    "def Richardson_Extrapolation(f: Callable[[float], float],\n",
    "                             x: float,\n",
    "                             h: float,\n",
    "                             n: int = 9,\n",
    "                             rtol: float = 1e-10\n",
    "                            ) -> tuple[float, pd.DataFrame]:\n",
    "    N = n + 1\n",
    "    D = np.full(shape=(N,N), fill_value=np.nan, dtype=np.float64)\n",
    "    D[0, 0] = 0.5 * (f(x + h) - f(x - h)) / h\n",
    "    for i in range(1, N, 1):\n",
    "        h = 0.5 * h\n",
    "        D[i, 0] = 0.5 * (f(x + h) - f(x - h)) / h\n",
    "        I = i + 1\n",
    "        p = 1\n",
    "        for j in range(1, I, 1):\n",
    "            p = 4*p\n",
    "            D[i, j] = D[i, j-1] + (D[i, j-1] - D[i-1, j-1]) / (p-1)\n",
    "        if abs(D[i,i] - D[i-1, i-1]) < rtol:\n",
    "            break\n",
    "    d = D[i,i]\n",
    "    columns = [f'O(h^{2*(k+1)})' for k in range(0, I, 1)]\n",
    "    D = pd.DataFrame(data=D[:I, :I], columns=columns)\n",
    "    return (d, D)"
   ]
  },
  {
   "cell_type": "code",
   "execution_count": 364,
   "id": "12f436ef-6241-4032-970f-06362c6c4d9c",
   "metadata": {
    "tags": []
   },
   "outputs": [],
   "source": [
    "def Romberg_integration(f, a, b, n):\n",
    "    \"\"\"Calculate the integral from the Romberg method.\n",
    "    Args:\n",
    "        f (function): the equation f(x).\n",
    "        a (float): the initial point.\n",
    "        b (float): the final point.\n",
    "        n (int): number of intervals.\n",
    "    Returns:\n",
    "        xi (float): numerical approximation of the definite integral.\n",
    "    \"\"\"\n",
    "    # Initialize the Romberg integration table\n",
    "    R = np.zeros((n, n))\n",
    "\n",
    "    # Compute the trapezoid rule for the first column (h = b - a)\n",
    "    h = b - a\n",
    "    R[0, 0] = 0.5 * h * (f(a) + f(b))\n",
    "\n",
    "    # Iterate for each level of refinement\n",
    "    for i in range(1, n):\n",
    "        h = 0.5 * h  # Halve the step size\n",
    "        # Compute the composite trapezoid rule\n",
    "        sum_f = 0\n",
    "        for j in range(1, 2**i, 2):\n",
    "            x = a + j * h\n",
    "            sum_f += f(x)\n",
    "        R[i, 0] = 0.5 * R[i - 1, 0] + h * sum_f\n",
    "\n",
    "        # Richardson extrapolation for higher order approximations\n",
    "        for k in range(1, i + 1):\n",
    "            R[i, k] = R[i, k - 1] + \\\n",
    "                (R[i, k - 1] - R[i - 1, k - 1]) / ((4**k) - 1)\n",
    "            \n",
    "    columns = [f'O(h^{2*(k+1)})' for k in range(0, n, 1)]\n",
    "    D = pd.DataFrame(data=R[:n, :n], columns=columns)\n",
    "\n",
    "    #return float(R[n - 1, n - 1])\n",
    "    return D"
   ]
  },
  {
   "cell_type": "markdown",
   "id": "eb14c52c-a264-444b-81cb-5761da006fe7",
   "metadata": {},
   "source": [
    "## **Exo20**"
   ]
  },
  {
   "cell_type": "code",
   "execution_count": 365,
   "id": "d080a534-4a14-4cbd-a7a9-93d727d39f6c",
   "metadata": {
    "tags": []
   },
   "outputs": [
    {
     "data": {
      "text/html": [
       "<div>\n",
       "<style scoped>\n",
       "    .dataframe tbody tr th:only-of-type {\n",
       "        vertical-align: middle;\n",
       "    }\n",
       "\n",
       "    .dataframe tbody tr th {\n",
       "        vertical-align: top;\n",
       "    }\n",
       "\n",
       "    .dataframe thead th {\n",
       "        text-align: right;\n",
       "    }\n",
       "</style>\n",
       "<table border=\"1\" class=\"dataframe\">\n",
       "  <thead>\n",
       "    <tr style=\"text-align: right;\">\n",
       "      <th></th>\n",
       "      <th>O(h^2)</th>\n",
       "      <th>O(h^4)</th>\n",
       "      <th>O(h^6)</th>\n",
       "    </tr>\n",
       "  </thead>\n",
       "  <tbody>\n",
       "    <tr>\n",
       "      <th>0</th>\n",
       "      <td>0.583853</td>\n",
       "      <td>0.000000</td>\n",
       "      <td>0.000000</td>\n",
       "    </tr>\n",
       "    <tr>\n",
       "      <th>1</th>\n",
       "      <td>1.291927</td>\n",
       "      <td>1.527951</td>\n",
       "      <td>0.000000</td>\n",
       "    </tr>\n",
       "    <tr>\n",
       "      <th>2</th>\n",
       "      <td>1.416114</td>\n",
       "      <td>1.457510</td>\n",
       "      <td>1.452814</td>\n",
       "    </tr>\n",
       "  </tbody>\n",
       "</table>\n",
       "</div>"
      ],
      "text/plain": [
       "     O(h^2)    O(h^4)    O(h^6)\n",
       "0  0.583853  0.000000  0.000000\n",
       "1  1.291927  1.527951  0.000000\n",
       "2  1.416114  1.457510  1.452814"
      ]
     },
     "execution_count": 365,
     "metadata": {},
     "output_type": "execute_result"
    }
   ],
   "source": [
    "f_20_a = lambda x: (np.cos(x))**2\n",
    "Romberg_integration(f = f_20_a, a=-1, b=1, n=3)"
   ]
  },
  {
   "cell_type": "code",
   "execution_count": 366,
   "id": "22b17255-1849-4369-a81f-f3648cce9888",
   "metadata": {
    "tags": []
   },
   "outputs": [
    {
     "data": {
      "text/html": [
       "<div>\n",
       "<style scoped>\n",
       "    .dataframe tbody tr th:only-of-type {\n",
       "        vertical-align: middle;\n",
       "    }\n",
       "\n",
       "    .dataframe tbody tr th {\n",
       "        vertical-align: top;\n",
       "    }\n",
       "\n",
       "    .dataframe thead th {\n",
       "        text-align: right;\n",
       "    }\n",
       "</style>\n",
       "<table border=\"1\" class=\"dataframe\">\n",
       "  <thead>\n",
       "    <tr style=\"text-align: right;\">\n",
       "      <th></th>\n",
       "      <th>O(h^2)</th>\n",
       "      <th>O(h^4)</th>\n",
       "      <th>O(h^6)</th>\n",
       "    </tr>\n",
       "  </thead>\n",
       "  <tbody>\n",
       "    <tr>\n",
       "      <th>0</th>\n",
       "      <td>0.647654</td>\n",
       "      <td>0.000000</td>\n",
       "      <td>0.000000</td>\n",
       "    </tr>\n",
       "    <tr>\n",
       "      <th>1</th>\n",
       "      <td>0.560996</td>\n",
       "      <td>0.532111</td>\n",
       "      <td>0.000000</td>\n",
       "    </tr>\n",
       "    <tr>\n",
       "      <th>2</th>\n",
       "      <td>0.535609</td>\n",
       "      <td>0.527146</td>\n",
       "      <td>0.526816</td>\n",
       "    </tr>\n",
       "  </tbody>\n",
       "</table>\n",
       "</div>"
      ],
      "text/plain": [
       "     O(h^2)    O(h^4)    O(h^6)\n",
       "0  0.647654  0.000000  0.000000\n",
       "1  0.560996  0.532111  0.000000\n",
       "2  0.535609  0.527146  0.526816"
      ]
     },
     "execution_count": 366,
     "metadata": {},
     "output_type": "execute_result"
    }
   ],
   "source": [
    "f_20_b = lambda x: 1/(x*np.log(x))\n",
    "Romberg_integration(f = f_20_b, a=np.exp(1), b=2*np.exp(1), n=3)"
   ]
  },
  {
   "cell_type": "markdown",
   "id": "8e6a4c71-1279-4913-ac42-ba290def0602",
   "metadata": {},
   "source": [
    "## **Exo21**"
   ]
  },
  {
   "cell_type": "code",
   "execution_count": 367,
   "id": "1292b736-8e8b-478b-a80b-555e56ce2656",
   "metadata": {
    "tags": []
   },
   "outputs": [
    {
     "data": {
      "text/html": [
       "<div>\n",
       "<style scoped>\n",
       "    .dataframe tbody tr th:only-of-type {\n",
       "        vertical-align: middle;\n",
       "    }\n",
       "\n",
       "    .dataframe tbody tr th {\n",
       "        vertical-align: top;\n",
       "    }\n",
       "\n",
       "    .dataframe thead th {\n",
       "        text-align: right;\n",
       "    }\n",
       "</style>\n",
       "<table border=\"1\" class=\"dataframe\">\n",
       "  <thead>\n",
       "    <tr style=\"text-align: right;\">\n",
       "      <th></th>\n",
       "      <th>O(h^2)</th>\n",
       "      <th>O(h^4)</th>\n",
       "      <th>O(h^6)</th>\n",
       "      <th>O(h^8)</th>\n",
       "      <th>O(h^10)</th>\n",
       "      <th>O(h^12)</th>\n",
       "      <th>O(h^14)</th>\n",
       "      <th>O(h^16)</th>\n",
       "      <th>O(h^18)</th>\n",
       "      <th>O(h^20)</th>\n",
       "      <th>O(h^22)</th>\n",
       "      <th>O(h^24)</th>\n",
       "    </tr>\n",
       "  </thead>\n",
       "  <tbody>\n",
       "    <tr>\n",
       "      <th>0</th>\n",
       "      <td>0.771743</td>\n",
       "      <td>0.000000</td>\n",
       "      <td>0.000000</td>\n",
       "      <td>0.000000</td>\n",
       "      <td>0.000000</td>\n",
       "      <td>0.000000</td>\n",
       "      <td>0.000000</td>\n",
       "      <td>0.000000</td>\n",
       "      <td>0.000000</td>\n",
       "      <td>0.000000</td>\n",
       "      <td>0.000000</td>\n",
       "      <td>0.000000</td>\n",
       "    </tr>\n",
       "    <tr>\n",
       "      <th>1</th>\n",
       "      <td>0.825263</td>\n",
       "      <td>0.843103</td>\n",
       "      <td>0.000000</td>\n",
       "      <td>0.000000</td>\n",
       "      <td>0.000000</td>\n",
       "      <td>0.000000</td>\n",
       "      <td>0.000000</td>\n",
       "      <td>0.000000</td>\n",
       "      <td>0.000000</td>\n",
       "      <td>0.000000</td>\n",
       "      <td>0.000000</td>\n",
       "      <td>0.000000</td>\n",
       "    </tr>\n",
       "    <tr>\n",
       "      <th>2</th>\n",
       "      <td>0.838368</td>\n",
       "      <td>0.842736</td>\n",
       "      <td>0.842712</td>\n",
       "      <td>0.000000</td>\n",
       "      <td>0.000000</td>\n",
       "      <td>0.000000</td>\n",
       "      <td>0.000000</td>\n",
       "      <td>0.000000</td>\n",
       "      <td>0.000000</td>\n",
       "      <td>0.000000</td>\n",
       "      <td>0.000000</td>\n",
       "      <td>0.000000</td>\n",
       "    </tr>\n",
       "    <tr>\n",
       "      <th>3</th>\n",
       "      <td>0.841619</td>\n",
       "      <td>0.842703</td>\n",
       "      <td>0.842701</td>\n",
       "      <td>0.842701</td>\n",
       "      <td>0.000000</td>\n",
       "      <td>0.000000</td>\n",
       "      <td>0.000000</td>\n",
       "      <td>0.000000</td>\n",
       "      <td>0.000000</td>\n",
       "      <td>0.000000</td>\n",
       "      <td>0.000000</td>\n",
       "      <td>0.000000</td>\n",
       "    </tr>\n",
       "    <tr>\n",
       "      <th>4</th>\n",
       "      <td>0.842431</td>\n",
       "      <td>0.842701</td>\n",
       "      <td>0.842701</td>\n",
       "      <td>0.842701</td>\n",
       "      <td>0.842701</td>\n",
       "      <td>0.000000</td>\n",
       "      <td>0.000000</td>\n",
       "      <td>0.000000</td>\n",
       "      <td>0.000000</td>\n",
       "      <td>0.000000</td>\n",
       "      <td>0.000000</td>\n",
       "      <td>0.000000</td>\n",
       "    </tr>\n",
       "    <tr>\n",
       "      <th>5</th>\n",
       "      <td>0.842633</td>\n",
       "      <td>0.842701</td>\n",
       "      <td>0.842701</td>\n",
       "      <td>0.842701</td>\n",
       "      <td>0.842701</td>\n",
       "      <td>0.842701</td>\n",
       "      <td>0.000000</td>\n",
       "      <td>0.000000</td>\n",
       "      <td>0.000000</td>\n",
       "      <td>0.000000</td>\n",
       "      <td>0.000000</td>\n",
       "      <td>0.000000</td>\n",
       "    </tr>\n",
       "    <tr>\n",
       "      <th>6</th>\n",
       "      <td>0.842684</td>\n",
       "      <td>0.842701</td>\n",
       "      <td>0.842701</td>\n",
       "      <td>0.842701</td>\n",
       "      <td>0.842701</td>\n",
       "      <td>0.842701</td>\n",
       "      <td>0.842701</td>\n",
       "      <td>0.000000</td>\n",
       "      <td>0.000000</td>\n",
       "      <td>0.000000</td>\n",
       "      <td>0.000000</td>\n",
       "      <td>0.000000</td>\n",
       "    </tr>\n",
       "    <tr>\n",
       "      <th>7</th>\n",
       "      <td>0.842697</td>\n",
       "      <td>0.842701</td>\n",
       "      <td>0.842701</td>\n",
       "      <td>0.842701</td>\n",
       "      <td>0.842701</td>\n",
       "      <td>0.842701</td>\n",
       "      <td>0.842701</td>\n",
       "      <td>0.842701</td>\n",
       "      <td>0.000000</td>\n",
       "      <td>0.000000</td>\n",
       "      <td>0.000000</td>\n",
       "      <td>0.000000</td>\n",
       "    </tr>\n",
       "    <tr>\n",
       "      <th>8</th>\n",
       "      <td>0.842700</td>\n",
       "      <td>0.842701</td>\n",
       "      <td>0.842701</td>\n",
       "      <td>0.842701</td>\n",
       "      <td>0.842701</td>\n",
       "      <td>0.842701</td>\n",
       "      <td>0.842701</td>\n",
       "      <td>0.842701</td>\n",
       "      <td>0.842701</td>\n",
       "      <td>0.000000</td>\n",
       "      <td>0.000000</td>\n",
       "      <td>0.000000</td>\n",
       "    </tr>\n",
       "    <tr>\n",
       "      <th>9</th>\n",
       "      <td>0.842701</td>\n",
       "      <td>0.842701</td>\n",
       "      <td>0.842701</td>\n",
       "      <td>0.842701</td>\n",
       "      <td>0.842701</td>\n",
       "      <td>0.842701</td>\n",
       "      <td>0.842701</td>\n",
       "      <td>0.842701</td>\n",
       "      <td>0.842701</td>\n",
       "      <td>0.842701</td>\n",
       "      <td>0.000000</td>\n",
       "      <td>0.000000</td>\n",
       "    </tr>\n",
       "    <tr>\n",
       "      <th>10</th>\n",
       "      <td>0.842701</td>\n",
       "      <td>0.842701</td>\n",
       "      <td>0.842701</td>\n",
       "      <td>0.842701</td>\n",
       "      <td>0.842701</td>\n",
       "      <td>0.842701</td>\n",
       "      <td>0.842701</td>\n",
       "      <td>0.842701</td>\n",
       "      <td>0.842701</td>\n",
       "      <td>0.842701</td>\n",
       "      <td>0.842701</td>\n",
       "      <td>0.000000</td>\n",
       "    </tr>\n",
       "    <tr>\n",
       "      <th>11</th>\n",
       "      <td>0.842701</td>\n",
       "      <td>0.842701</td>\n",
       "      <td>0.842701</td>\n",
       "      <td>0.842701</td>\n",
       "      <td>0.842701</td>\n",
       "      <td>0.842701</td>\n",
       "      <td>0.842701</td>\n",
       "      <td>0.842701</td>\n",
       "      <td>0.842701</td>\n",
       "      <td>0.842701</td>\n",
       "      <td>0.842701</td>\n",
       "      <td>0.842701</td>\n",
       "    </tr>\n",
       "  </tbody>\n",
       "</table>\n",
       "</div>"
      ],
      "text/plain": [
       "      O(h^2)    O(h^4)    O(h^6)    O(h^8)   O(h^10)   O(h^12)   O(h^14)  \\\n",
       "0   0.771743  0.000000  0.000000  0.000000  0.000000  0.000000  0.000000   \n",
       "1   0.825263  0.843103  0.000000  0.000000  0.000000  0.000000  0.000000   \n",
       "2   0.838368  0.842736  0.842712  0.000000  0.000000  0.000000  0.000000   \n",
       "3   0.841619  0.842703  0.842701  0.842701  0.000000  0.000000  0.000000   \n",
       "4   0.842431  0.842701  0.842701  0.842701  0.842701  0.000000  0.000000   \n",
       "5   0.842633  0.842701  0.842701  0.842701  0.842701  0.842701  0.000000   \n",
       "6   0.842684  0.842701  0.842701  0.842701  0.842701  0.842701  0.842701   \n",
       "7   0.842697  0.842701  0.842701  0.842701  0.842701  0.842701  0.842701   \n",
       "8   0.842700  0.842701  0.842701  0.842701  0.842701  0.842701  0.842701   \n",
       "9   0.842701  0.842701  0.842701  0.842701  0.842701  0.842701  0.842701   \n",
       "10  0.842701  0.842701  0.842701  0.842701  0.842701  0.842701  0.842701   \n",
       "11  0.842701  0.842701  0.842701  0.842701  0.842701  0.842701  0.842701   \n",
       "\n",
       "     O(h^16)   O(h^18)   O(h^20)   O(h^22)   O(h^24)  \n",
       "0   0.000000  0.000000  0.000000  0.000000  0.000000  \n",
       "1   0.000000  0.000000  0.000000  0.000000  0.000000  \n",
       "2   0.000000  0.000000  0.000000  0.000000  0.000000  \n",
       "3   0.000000  0.000000  0.000000  0.000000  0.000000  \n",
       "4   0.000000  0.000000  0.000000  0.000000  0.000000  \n",
       "5   0.000000  0.000000  0.000000  0.000000  0.000000  \n",
       "6   0.000000  0.000000  0.000000  0.000000  0.000000  \n",
       "7   0.842701  0.000000  0.000000  0.000000  0.000000  \n",
       "8   0.842701  0.842701  0.000000  0.000000  0.000000  \n",
       "9   0.842701  0.842701  0.842701  0.000000  0.000000  \n",
       "10  0.842701  0.842701  0.842701  0.842701  0.000000  \n",
       "11  0.842701  0.842701  0.842701  0.842701  0.842701  "
      ]
     },
     "execution_count": 367,
     "metadata": {},
     "output_type": "execute_result"
    }
   ],
   "source": [
    "f_21 = lambda x: 2*np.exp(-x**2)/np.sqrt(np.pi)\n",
    "Romberg_integration(f = f_21, a=0, b=1, n=12)"
   ]
  },
  {
   "cell_type": "markdown",
   "id": "6c3b37a8-369b-4963-b1b4-9571400243c3",
   "metadata": {},
   "source": [
    "## **Exo22**"
   ]
  },
  {
   "cell_type": "code",
   "execution_count": 368,
   "id": "5f98afa5-05a8-46b2-9021-098d5e2db088",
   "metadata": {
    "tags": []
   },
   "outputs": [],
   "source": [
    "def adaptive_simpson(f, a, b, tol=1e-10):\n",
    "    \"\"\"\n",
    "    Evaluates the integral of f(x) on [a,b].\n",
    "\n",
    "    USAGE:\n",
    "        s = adaptive_simpson( f, a, b, tol )\n",
    "\n",
    "    INPUT:\n",
    "        f         - function to integrate\n",
    "        a, b      - left and right endpoints of interval of integration\n",
    "        tol       - desired upper bound on allowable error\n",
    "\n",
    "    OUTPUT:\n",
    "        float     - the value of the integral\n",
    "\n",
    "    NOTES:\n",
    "        Integrates the function f(x) on [a,b] with an error bound of\n",
    "        given by tol using an adaptive Simpson's rule to approximate\n",
    "        the value of the integral.  Notice that this is not very\n",
    "        efficient -- it is recursive and recomputes many function\n",
    "        values that have already been computed.  The code in this\n",
    "        function is meant to be clear and explain the ideas behind\n",
    "        adaptive schemes rather than to be an efficient implementation\n",
    "        of one.\n",
    "\n",
    "    # Theory says the factor to multiply the tolerance by should be 15, but\n",
    "    # since that assumes that the fourth derivative of f is fairly constant,\n",
    "    # we want to be a bit more conservative...\n",
    "    \"\"\"\n",
    "\n",
    "    tol_factor = 10.0\n",
    "\n",
    "    h = 0.5 * ( b - a )\n",
    "\n",
    "    x0 = a\n",
    "    x1 = a + 0.5 * h\n",
    "    x2 = a + h\n",
    "    x3 = a + 1.5 * h\n",
    "    x4 = b\n",
    "\n",
    "    f0 = f( x0 )\n",
    "    f1 = f( x1 )\n",
    "    f2 = f( x2 )\n",
    "    f3 = f( x3 )\n",
    "    f4 = f( x4 )\n",
    "\n",
    "    s0 = h * ( f0 + 4.0 * f2 + f4 ) / 3.0\n",
    "    s1 = h * ( f0 + 4.0 * f1 + 2.0 * f2 + 4.0 * f3 + f4 ) / 6.0\n",
    "\n",
    "    if abs( s0 - s1 ) >= tol_factor * tol:\n",
    "        s = adaptive_simpson( f, x0, x2, 0.5 * tol ) + \\\n",
    "            adaptive_simpson( f, x2, x4, 0.5 * tol )\n",
    "    else:\n",
    "        s = s1 + ( s1 - s0 ) / 15.0\n",
    "    return s"
   ]
  },
  {
   "cell_type": "markdown",
   "id": "ee513401-81bf-444c-8dd7-44106fc7e28a",
   "metadata": {},
   "source": [
    "## **Exo23**"
   ]
  },
  {
   "cell_type": "code",
   "execution_count": 369,
   "id": "58103d4e-7165-4af0-9b58-8fdfb7144c6a",
   "metadata": {
    "tags": []
   },
   "outputs": [
    {
     "data": {
      "text/plain": [
       "1.3729640771470841"
      ]
     },
     "execution_count": 369,
     "metadata": {},
     "output_type": "execute_result"
    }
   ],
   "source": [
    "f_23_a = lambda x: x + np.sin(4*x)\n",
    "adaptive_simpson(f = f_23_a, a = 1, b = 2, tol = 1e-5)"
   ]
  },
  {
   "cell_type": "code",
   "execution_count": 370,
   "id": "abe2898e-43fa-4ee7-91fc-c99d5088fab4",
   "metadata": {
    "tags": []
   },
   "outputs": [
    {
     "data": {
      "text/plain": [
       "108.55528119443994"
      ]
     },
     "execution_count": 370,
     "metadata": {},
     "output_type": "execute_result"
    }
   ],
   "source": [
    "f_23_b = lambda x: np.exp(2*x)*np.sin(3*x)\n",
    "adaptive_simpson(f = f_23_b, a = 1, b = 3, tol = 1e-5)"
   ]
  },
  {
   "cell_type": "markdown",
   "id": "4dcc3f89-c46f-4b18-8ab2-3a68232ec3b3",
   "metadata": {},
   "source": [
    "## **Exo24**"
   ]
  },
  {
   "cell_type": "code",
   "execution_count": 371,
   "id": "bd411d1f-f173-45a7-91e3-475c84c1c11e",
   "metadata": {
    "tags": []
   },
   "outputs": [
    {
     "data": {
      "image/png": "[encoded data removed]",
      "text/plain": [
       "<Figure size 800x600 with 1 Axes>"
      ]
     },
     "metadata": {},
     "output_type": "display_data"
    }
   ],
   "source": [
    "# Define the x values\n",
    "x = np.linspace(0.1, 2, 1000)\n",
    "\n",
    "# Calculate the corresponding y values for sin(1/x) and cos(1/x)\n",
    "y_sin = np.sin(1/x)\n",
    "y_cos = np.cos(1/x)\n",
    "\n",
    "# Plotting the graphs\n",
    "plt.figure(figsize=(8, 6))\n",
    "plt.plot(x, y_sin, label='sin(1/x)')\n",
    "plt.plot(x, y_cos, label='cos(1/x)')\n",
    "plt.xlabel('x')\n",
    "plt.ylabel('y')\n",
    "plt.title('Graphs of sin(1/x) and cos(1/x)')\n",
    "plt.legend()\n",
    "plt.grid(True)\n",
    "plt.show()"
   ]
  },
  {
   "cell_type": "code",
   "execution_count": 372,
   "id": "42ab2266-6ef0-467a-bd46-5683672347ae",
   "metadata": {
    "tags": []
   },
   "outputs": [
    {
     "data": {
      "text/plain": [
       "1.1455510307670143"
      ]
     },
     "execution_count": 372,
     "metadata": {},
     "output_type": "execute_result"
    }
   ],
   "source": [
    "f_24_a = lambda x: np.sin(1/x)\n",
    "adaptive_simpson(f = f_24_a, a = 0.1, b = 2, tol = 1e-3)"
   ]
  },
  {
   "cell_type": "code",
   "execution_count": 373,
   "id": "6fc3018b-317a-4944-bddd-60310bd1c270",
   "metadata": {
    "tags": []
   },
   "outputs": [
    {
     "data": {
      "text/plain": [
       "0.6738227538304371"
      ]
     },
     "execution_count": 373,
     "metadata": {},
     "output_type": "execute_result"
    }
   ],
   "source": [
    "f_24_b = lambda x: np.cos(1/x)\n",
    "adaptive_simpson(f = f_24_b, a = 0.1, b = 2, tol = 1e-3)"
   ]
  },
  {
   "cell_type": "markdown",
   "id": "41694e1c-dbe4-445e-a8ba-0851e432ccfd",
   "metadata": {},
   "source": [
    "## **Exo25**"
   ]
  },
  {
   "cell_type": "code",
   "execution_count": 374,
   "id": "016b27f1-d25b-4127-8ce0-ded538a28303",
   "metadata": {
    "tags": []
   },
   "outputs": [],
   "source": [
    "def u_t(m, k, F_0, omega, t):\n",
    "    omega_0 = np.sqrt(k/m)\n",
    "    coeff = F_0 / (m*(omega_0**2 - omega**2))\n",
    "    return coeff*(np.cos(omega*t) - np.cos(omega_0*t))"
   ]
  },
  {
   "cell_type": "code",
   "execution_count": 375,
   "id": "dcc6ad9e-541a-4e45-87aa-eb845b8d21ad",
   "metadata": {
    "tags": []
   },
   "outputs": [
    {
     "data": {
      "image/png": "[encoded data removed]",
      "text/plain": [
       "<Figure size 800x600 with 1 Axes>"
      ]
     },
     "metadata": {},
     "output_type": "display_data"
    }
   ],
   "source": [
    "# Define the x values\n",
    "x = np.linspace(0, 2*np.pi, 1000)\n",
    "\n",
    "# Calculate the corresponding y values for sin(1/x) and cos(1/x)\n",
    "y = u_t(m = 1, k = 9, F_0 = 1, omega = 2, t = x)\n",
    "\n",
    "# Plotting the graphs\n",
    "plt.figure(figsize=(8, 6))\n",
    "plt.plot(x, y, label='u(t)')\n",
    "plt.xlabel('t')\n",
    "plt.ylabel('u(t)')\n",
    "plt.title('Graph of u(t)')\n",
    "plt.legend()\n",
    "plt.grid(True)\n",
    "plt.show()"
   ]
  },
  {
   "cell_type": "code",
   "execution_count": 376,
   "id": "d0fe1ef7-3fe9-4579-8bdb-c009f65a8128",
   "metadata": {
    "tags": []
   },
   "outputs": [
    {
     "data": {
      "text/plain": [
       "-1.249000902703301e-16"
      ]
     },
     "execution_count": 376,
     "metadata": {},
     "output_type": "execute_result"
    }
   ],
   "source": [
    "def f_25(x):\n",
    "    return u_t(m = 1, k = 9, F_0 = 1, omega = 2, t = x)\n",
    "adaptive_simpson(f = f_25, a = 0, b = 2*np.pi, tol = 1e-4)"
   ]
  },
  {
   "cell_type": "markdown",
   "id": "8a80cf19-b9a0-4da4-b6c9-bab6327cd46f",
   "metadata": {},
   "source": [
    "## **Exo26**"
   ]
  },
  {
   "cell_type": "code",
   "execution_count": 377,
   "id": "7a974f00-f88b-463e-8c0d-36b239a9759b",
   "metadata": {
    "tags": []
   },
   "outputs": [],
   "source": [
    "def degree_to_radian(d):\n",
    "    return d*np.pi/180"
   ]
  },
  {
   "cell_type": "code",
   "execution_count": 378,
   "id": "bcecf35b-f3cc-492a-8976-a980c318751f",
   "metadata": {
    "tags": []
   },
   "outputs": [],
   "source": [
    "def h_theta0(theta_0, theta):\n",
    "    return 1/np.sqrt(1 - np.sin(theta_0/2)**2 * np.sin(theta)**2)"
   ]
  },
  {
   "cell_type": "code",
   "execution_count": 379,
   "id": "a9ca4b3b-472f-4e83-acda-51c614299172",
   "metadata": {
    "tags": []
   },
   "outputs": [
    {
     "data": {
      "text/plain": [
       "1.5775521458735806"
      ]
     },
     "execution_count": 379,
     "metadata": {},
     "output_type": "execute_result"
    }
   ],
   "source": [
    "f_26_a = lambda x: h_theta0(theta_0=degree_to_radian(15), theta=x)\n",
    "adaptive_simpson(f = f_26_a, a = 0, b = np.pi/2, tol = 1e-4)"
   ]
  },
  {
   "cell_type": "code",
   "execution_count": 380,
   "id": "90d8975e-0206-4419-a9e5-12f503c15fd0",
   "metadata": {
    "tags": []
   },
   "outputs": [
    {
     "data": {
      "text/plain": [
       "1.5981499708770925"
      ]
     },
     "execution_count": 380,
     "metadata": {},
     "output_type": "execute_result"
    }
   ],
   "source": [
    "f_26_b = lambda x: h_theta0(theta_0=degree_to_radian(30), theta=x)\n",
    "adaptive_simpson(f = f_26_b, a = 0, b = np.pi/2, tol = 1e-4)"
   ]
  },
  {
   "cell_type": "code",
   "execution_count": 381,
   "id": "e4a47d78-dbd4-4e4a-a8d8-7e60593bd4b5",
   "metadata": {
    "tags": []
   },
   "outputs": [
    {
     "data": {
      "text/plain": [
       "1.6336280163612404"
      ]
     },
     "execution_count": 381,
     "metadata": {},
     "output_type": "execute_result"
    }
   ],
   "source": [
    "f_26_c = lambda x: h_theta0(theta_0=degree_to_radian(45), theta=x)\n",
    "adaptive_simpson(f = f_26_c, a = 0, b = np.pi/2, tol = 1e-4)"
   ]
  },
  {
   "cell_type": "code",
   "execution_count": 382,
   "id": "99c4aa75-90c8-487c-94cc-d8eaf73f53e4",
   "metadata": {
    "tags": []
   },
   "outputs": [
    {
     "data": {
      "text/plain": [
       "1.5707963267948966"
      ]
     },
     "execution_count": 382,
     "metadata": {},
     "output_type": "execute_result"
    }
   ],
   "source": [
    "f_26 = lambda x: h_theta0(theta_0=0, theta=x)\n",
    "adaptive_simpson(f = f_26, a = 0, b = np.pi/2, tol = 1e-4)"
   ]
  },
  {
   "cell_type": "code",
   "execution_count": 383,
   "id": "932aac33-174d-436d-a489-b139e1f090e2",
   "metadata": {
    "tags": []
   },
   "outputs": [
    {
     "data": {
      "text/plain": [
       "1.5707963267948966"
      ]
     },
     "execution_count": 383,
     "metadata": {},
     "output_type": "execute_result"
    }
   ],
   "source": [
    "np.pi/2"
   ]
  },
  {
   "cell_type": "markdown",
   "id": "5c4af2e2-e5aa-4e38-a361-a524965e4a5e",
   "metadata": {},
   "source": [
    "## **Exo27**"
   ]
  },
  {
   "cell_type": "markdown",
   "id": "150ade80-591f-47bc-b6a9-cc1ae64d4633",
   "metadata": {},
   "source": [
    "## **Exo28**"
   ]
  },
  {
   "cell_type": "markdown",
   "id": "142bffe6-f780-44ad-b6d6-d05d1ada8dee",
   "metadata": {},
   "source": [
    "### **(a)**"
   ]
  },
  {
   "cell_type": "code",
   "execution_count": 384,
   "id": "cc6aa5e8-2a63-4d7e-b219-9d2b0b4121e5",
   "metadata": {
    "tags": []
   },
   "outputs": [],
   "source": [
    "c_2 = 1.0\n",
    "x_2_1 = 0.5773502692\n",
    "x_2_2 = -0.5773502692"
   ]
  },
  {
   "cell_type": "code",
   "execution_count": 385,
   "id": "e770af3b-ef91-42fe-97b5-dcf90e352948",
   "metadata": {
    "tags": []
   },
   "outputs": [
    {
     "data": {
      "text/plain": [
       "2.3426960879223864"
      ]
     },
     "execution_count": 385,
     "metadata": {},
     "output_type": "execute_result"
    }
   ],
   "source": [
    "sol_a = c_2*np.cosh(x_2_1) + c_2*np.cosh(x_2_2)\n",
    "sol_a"
   ]
  },
  {
   "cell_type": "code",
   "execution_count": 386,
   "id": "264ae67a-4d84-4873-a3eb-4ecb469197cc",
   "metadata": {
    "tags": []
   },
   "outputs": [
    {
     "data": {
      "text/plain": [
       "2.3504023872876028"
      ]
     },
     "execution_count": 386,
     "metadata": {},
     "output_type": "execute_result"
    }
   ],
   "source": [
    "exact_sol_a = np.sinh(1)-np.sinh(-1)\n",
    "exact_sol_a"
   ]
  },
  {
   "cell_type": "markdown",
   "id": "165ae3fa-5dbd-4715-9b40-5f25fbd2e741",
   "metadata": {},
   "source": [
    "### **(b)**"
   ]
  },
  {
   "cell_type": "code",
   "execution_count": 387,
   "id": "d9def231-9c5f-4b4e-8d93-57dc7956a7c9",
   "metadata": {
    "tags": []
   },
   "outputs": [
    {
     "data": {
      "text/plain": [
       "0.7868852459010888"
      ]
     },
     "execution_count": 387,
     "metadata": {},
     "output_type": "execute_result"
    }
   ],
   "source": [
    "sol_b = 0.5*(c_2/(1+0.25*(x_2_1-1)**2) + c_2/(1+0.25*(x_2_2-1)**2))\n",
    "sol_b"
   ]
  },
  {
   "cell_type": "code",
   "execution_count": 388,
   "id": "a1ee471e-7201-4287-8d51-024f4b35fd62",
   "metadata": {
    "tags": []
   },
   "outputs": [
    {
     "data": {
      "text/plain": [
       "0.7853981633974483"
      ]
     },
     "execution_count": 388,
     "metadata": {},
     "output_type": "execute_result"
    }
   ],
   "source": [
    "exact_sol_b = np.arctan(0)-np.arctan(-1)\n",
    "exact_sol_b"
   ]
  },
  {
   "cell_type": "markdown",
   "id": "1a95bbb9-2e34-4cee-a4c1-354d32a198f1",
   "metadata": {},
   "source": [
    "### **(c)**"
   ]
  },
  {
   "cell_type": "code",
   "execution_count": 389,
   "id": "16cc2f27-4ffe-4397-8ec1-c4c762c5beea",
   "metadata": {
    "tags": []
   },
   "outputs": [
    {
     "data": {
      "text/plain": [
       "0.34426229508006945"
      ]
     },
     "execution_count": 389,
     "metadata": {},
     "output_type": "execute_result"
    }
   ],
   "source": [
    "sol_c = 0.25*(c_2*(x_2_1+1)/(1+0.25*(1+x_2_1)**2) + c_2*(x_2_2+1)/(1+0.25*(1+x_2_2)**2))\n",
    "sol_c"
   ]
  },
  {
   "cell_type": "code",
   "execution_count": 390,
   "id": "16e14b57-984d-4d97-8c9d-0882fd6b3471",
   "metadata": {
    "tags": []
   },
   "outputs": [
    {
     "data": {
      "text/plain": [
       "0.34657359027997264"
      ]
     },
     "execution_count": 390,
     "metadata": {},
     "output_type": "execute_result"
    }
   ],
   "source": [
    "exact_sol_c = 0.5*np.log(2)\n",
    "exact_sol_c"
   ]
  },
  {
   "cell_type": "markdown",
   "id": "fb6b9f42-bf2e-4a0a-9525-914b8b040ca3",
   "metadata": {},
   "source": [
    "### **(d)**"
   ]
  },
  {
   "cell_type": "code",
   "execution_count": 391,
   "id": "473dc07d-ad7b-47cd-b27f-66c33472b00f",
   "metadata": {
    "tags": []
   },
   "outputs": [
    {
     "data": {
      "text/plain": [
       "0.2876849647066895"
      ]
     },
     "execution_count": 391,
     "metadata": {},
     "output_type": "execute_result"
    }
   ],
   "source": [
    "sol_d = 0.5*np.log(2)*(c_2/(1 + np.exp(0.5*np.log(2)*(x_2_1 + 1))) + c_2/(1 + np.exp(0.5*np.log(2)*(x_2_2 + 1)))) \n",
    "sol_d"
   ]
  },
  {
   "cell_type": "code",
   "execution_count": 392,
   "id": "7bb70f4e-cec7-4f45-8576-dedc42f40284",
   "metadata": {
    "tags": []
   },
   "outputs": [
    {
     "data": {
      "text/plain": [
       "0.2876820724517808"
      ]
     },
     "execution_count": 392,
     "metadata": {},
     "output_type": "execute_result"
    }
   ],
   "source": [
    "exact_sol_d = 2*np.log(2) - np.log(3)\n",
    "exact_sol_d"
   ]
  },
  {
   "cell_type": "markdown",
   "id": "6167b999-c49c-4492-9836-a83c2162fdaa",
   "metadata": {},
   "source": [
    "## **Exo29**"
   ]
  },
  {
   "cell_type": "code",
   "execution_count": 393,
   "id": "b498c7e0-508e-48b2-b8fc-49e0feeff0eb",
   "metadata": {
    "tags": []
   },
   "outputs": [],
   "source": [
    "def Gaussian_quadrature(f: Callable[[float], float], a:float, b:float, n:int) -> float:\n",
    "    \"\"\"\n",
    "    --------------------\n",
    "    Approximate the integral of 'f(x)' from 'a' to 'b' using Gaussian quadrature for n=1,2,3,4,5 (only)\n",
    "    \n",
    "    Parameters\n",
    "    --------------------\n",
    "    'f' : 'callable'\n",
    "        function that we want to integrate\n",
    "    'a' : 'float'\n",
    "        lower limit of the integral\n",
    "    'b' : 'float'\n",
    "        upper limit of the integral\n",
    "    'n' : 'int'\n",
    "        (n+1) be the number of nodes\n",
    "        \n",
    "    Return\n",
    "    -------------------\n",
    "    'A' : 'float'\n",
    "        the approximated value of the integral\n",
    "    \"\"\"\n",
    "    c_2 = 1.0\n",
    "    x_2_1 = 0.5773502692\n",
    "    x_2_2 = -0.5773502692\n",
    "    \n",
    "    c_3_1 = 0.8888888889\n",
    "    c_3_2 = 0.5555555556\n",
    "    c_3_3 = 0.5555555556\n",
    "    x_3_1 = -0.0\n",
    "    x_3_2 = -0.7745966692\n",
    "    x_3_3 = 0.7745966692\n",
    "    \n",
    "    c_4_1 = 0.6521451549\n",
    "    c_4_2 = 0.6521451549\n",
    "    c_4_3 = 0.3478548451\n",
    "    c_4_4 = 0.3478548451\n",
    "    x_4_1 = 0.3399810436\n",
    "    x_4_2 = -0.3399810436\n",
    "    x_4_3 = -0.8611363116\n",
    "    x_4_4 = 0.8611363116\n",
    "    \n",
    "    c_5_1 = 0.5688888889\n",
    "    c_5_2 = 0.4786286705\n",
    "    c_5_3 = 0.4786286705\n",
    "    c_5_4 = 0.2369268851\n",
    "    c_5_5 = 0.2369268851\n",
    "    x_5_1 = -0.0000000000\n",
    "    x_5_2 = 0.5384693101 \n",
    "    x_5_3 = -0.5384693101\n",
    "    x_5_4 = -0.9061798459\n",
    "    x_5_5 = 0.9061798459\n",
    "    \n",
    "    A = 0.0\n",
    "    if (n == 2):\n",
    "        A = c_2*0.5*(b-a)*(f(0.5*(b+a+(b-a)*x_2_1)) + f(0.5*(b+a+(b-a)*x_2_2)))\n",
    "    elif (n == 3):\n",
    "        A = 0.5*(b-a)*(c_3_1*f(0.5*(b+a+(b-a)*x_3_1)) + c_3_2*f(0.5*(b+a+(b-a)*x_3_2)) + c_3_3*f(0.5*(b+a+(b-a)*x_3_3)))\n",
    "    elif (n == 4):\n",
    "        A = 0.5*(b-a)*(c_4_1*f(0.5*(b+a+(b-a)*x_4_1)) + c_4_2*f(0.5*(b+a+(b-a)*x_4_2)) + c_4_3*f(0.5*(b+a+(b-a)*x_4_3)) + c_4_4*f(0.5*(b+a+(b-a)*x_4_4)))\n",
    "    elif (n == 5):\n",
    "        A = 0.5*(b-a)*(c_5_1*f(0.5*(b+a+(b-a)*x_5_1)) + c_5_2*f(0.5*(b+a+(b-a)*x_5_2)) + c_5_3*f(0.5*(b+a+(b-a)*x_5_3)) + c_5_4*f(0.5*(b+a+(b-a)*x_5_4)) + c_5_5*f(0.5*(b+a+(b-a)*x_5_5))) \n",
    "    else:\n",
    "        print(\"The solution for n=\",n,\"is not yet defined !!!\")\n",
    "    \n",
    "    return A"
   ]
  },
  {
   "cell_type": "code",
   "execution_count": 394,
   "id": "ba004229-7966-4b60-8c2e-80db6cb5b175",
   "metadata": {
    "tags": []
   },
   "outputs": [
    {
     "data": {
      "text/plain": [
       "2.3426960879223864"
      ]
     },
     "execution_count": 394,
     "metadata": {},
     "output_type": "execute_result"
    }
   ],
   "source": [
    "f_test = lambda x: np.cosh(x)\n",
    "Gaussian_quadrature(f = f_test, a = -1, b = 1, n = 2)"
   ]
  },
  {
   "cell_type": "code",
   "execution_count": 395,
   "id": "889b85e8-9e37-449d-9326-1ad7a28d34c1",
   "metadata": {
    "tags": []
   },
   "outputs": [
    {
     "data": {
      "text/plain": [
       "2.350336928768656"
      ]
     },
     "execution_count": 395,
     "metadata": {},
     "output_type": "execute_result"
    }
   ],
   "source": [
    "f_test = lambda x: np.cosh(x)\n",
    "Gaussian_quadrature(f = f_test, a = -1, b = 1, n = 3)"
   ]
  },
  {
   "cell_type": "code",
   "execution_count": 396,
   "id": "4cfad8f5-160f-49b8-b570-402b0866c40e",
   "metadata": {
    "tags": []
   },
   "outputs": [
    {
     "data": {
      "text/plain": [
       "2.35040209214208"
      ]
     },
     "execution_count": 396,
     "metadata": {},
     "output_type": "execute_result"
    }
   ],
   "source": [
    "f_test = lambda x: np.cosh(x)\n",
    "Gaussian_quadrature(f = f_test, a = -1, b = 1, n = 4)"
   ]
  },
  {
   "cell_type": "code",
   "execution_count": 397,
   "id": "6d374b0a-433a-42a1-bc83-ca2becc7fcc4",
   "metadata": {
    "tags": []
   },
   "outputs": [
    {
     "data": {
      "text/plain": [
       "2.350402386579478"
      ]
     },
     "execution_count": 397,
     "metadata": {},
     "output_type": "execute_result"
    }
   ],
   "source": [
    "f_test = lambda x: np.cosh(x)\n",
    "Gaussian_quadrature(f = f_test, a = -1, b = 1, n = 5)"
   ]
  },
  {
   "cell_type": "markdown",
   "id": "f185107a-f07b-4b9e-ba13-23d61c78a5d9",
   "metadata": {},
   "source": [
    "## **Exo30**"
   ]
  },
  {
   "cell_type": "markdown",
   "id": "f87729e6-e269-4dc4-afe6-6d73b774bd31",
   "metadata": {},
   "source": [
    "### **(a)**"
   ]
  },
  {
   "cell_type": "code",
   "execution_count": 398,
   "id": "f2dce374-6436-4152-99d3-8af4c4f89aa1",
   "metadata": {
    "tags": []
   },
   "outputs": [
    {
     "data": {
      "text/plain": [
       "0.878884545810477"
      ]
     },
     "execution_count": 398,
     "metadata": {},
     "output_type": "execute_result"
    }
   ],
   "source": [
    "f_30 = lambda x: x**2 * np.exp(x)\n",
    "sol_30_a = Gaussian_quadrature(f = f_30, a = -1, b = 0, n = 4) + Gaussian_quadrature(f = f_30, a = 0, b = 1, n = 4)\n",
    "sol_30_a"
   ]
  },
  {
   "cell_type": "markdown",
   "id": "a1b03a3d-0949-4345-8335-c9651e60a6c2",
   "metadata": {},
   "source": [
    "### **(b)**"
   ]
  },
  {
   "cell_type": "code",
   "execution_count": 399,
   "id": "9979c5a9-52a7-4892-8b08-e576313244ed",
   "metadata": {
    "tags": []
   },
   "outputs": [
    {
     "data": {
      "text/plain": [
       "0.8783877961450507"
      ]
     },
     "execution_count": 399,
     "metadata": {},
     "output_type": "execute_result"
    }
   ],
   "source": [
    "sol_30_b = Gaussian_quadrature(f = f_30, a = -1, b = -0.5, n = 2) + Gaussian_quadrature(f = f_30, a = -0.5, b = 0, n = 2) + Gaussian_quadrature(f = f_30, a = 0, b = 0.5, n = 2) + Gaussian_quadrature(f = f_30, a = 0.5, b = 1, n = 2)\n",
    "sol_30_b"
   ]
  },
  {
   "cell_type": "code",
   "execution_count": 400,
   "id": "ea4406a4-2621-44bd-b518-014e111a392f",
   "metadata": {
    "tags": []
   },
   "outputs": [
    {
     "data": {
      "text/plain": [
       "0.8788846226018334"
      ]
     },
     "execution_count": 400,
     "metadata": {},
     "output_type": "execute_result"
    }
   ],
   "source": [
    "Exact_sol = np.exp(1) - 5/np.exp(1)\n",
    "Exact_sol"
   ]
  },
  {
   "cell_type": "markdown",
   "id": "6ea17e8c-7cc5-4cb4-bebc-965f1ff4a418",
   "metadata": {},
   "source": [
    "## **Exo31**"
   ]
  },
  {
   "cell_type": "code",
   "execution_count": 401,
   "id": "e5223759-550b-4bf9-962a-2f2048fde18b",
   "metadata": {},
   "outputs": [],
   "source": [
    "def Gaussian_quadrature_10(f: Callable[[float], float], a:float, b:float, n:int) -> float:\n",
    "    \"\"\"\n",
    "    --------------------\n",
    "    Approximate the integral of 'f(x)' from 'a' to 'b' using Gaussian quadrature for n=1,2,3,4,5 (only)\n",
    "    \n",
    "    Parameters\n",
    "    --------------------\n",
    "    'f' : 'callable'\n",
    "        function that we want to integrate\n",
    "    'a' : 'float'\n",
    "        lower limit of the integral\n",
    "    'b' : 'float'\n",
    "        upper limit of the integral\n",
    "    'n' : 'int'\n",
    "        (n+1) be the number of nodes\n",
    "        \n",
    "    Return\n",
    "    -------------------\n",
    "    'A' : 'float'\n",
    "        the approximated value of the integral\n",
    "    \"\"\"\n",
    "    c_2 = 1.0\n",
    "    x_2_1 = 0.5773502692\n",
    "    x_2_2 = -0.5773502692\n",
    "    \n",
    "    c_3_1 = 0.8888888889\n",
    "    c_3_2 = 0.5555555556\n",
    "    c_3_3 = 0.5555555556\n",
    "    x_3_1 = -0.0\n",
    "    x_3_2 = -0.7745966692\n",
    "    x_3_3 = 0.7745966692\n",
    "    \n",
    "    c_4_1 = 0.6521451549\n",
    "    c_4_2 = 0.6521451549\n",
    "    c_4_3 = 0.3478548451\n",
    "    c_4_4 = 0.3478548451\n",
    "    x_4_1 = 0.3399810436\n",
    "    x_4_2 = -0.3399810436\n",
    "    x_4_3 = -0.8611363116\n",
    "    x_4_4 = 0.8611363116\n",
    "    \n",
    "    c_5_1 = 0.5688888889\n",
    "    c_5_2 = 0.4786286705\n",
    "    c_5_3 = 0.4786286705\n",
    "    c_5_4 = 0.2369268851\n",
    "    c_5_5 = 0.2369268851\n",
    "    x_5_1 = -0.0000000000\n",
    "    x_5_2 = 0.5384693101 \n",
    "    x_5_3 = -0.5384693101\n",
    "    x_5_4 = -0.9061798459\n",
    "    x_5_5 = 0.9061798459\n",
    "    \n",
    "    c_6_1 = 0.3607615730481386\n",
    "    c_6_2 = 0.3607615730481386\n",
    "    c_6_3 = 0.4679139345726910\n",
    "    c_6_4 = 0.4679139345726910\n",
    "    c_6_5 = 0.1713244923791704\n",
    "    c_6_6 = 0.1713244923791704\n",
    "    x_6_1 = 0.6612093864662645\n",
    "    x_6_2 = -0.6612093864662645 \n",
    "    x_6_3 = -0.2386191860831969\n",
    "    x_6_4 = 0.2386191860831969\n",
    "    x_6_5 = -0.9324695142031521\n",
    "    x_6_6 = 0.9324695142031521\n",
    "    \n",
    "    c_7_1 = 0.4179591836734694\n",
    "    c_7_2 = 0.3818300505051189\n",
    "    c_7_3 = 0.3818300505051189\n",
    "    c_7_4 = 0.2797053914892766\n",
    "    c_7_5 = 0.2797053914892766\n",
    "    c_7_6 = 0.1294849661688697\n",
    "    c_7_7 = 0.1294849661688697\n",
    "    x_7_1 = 0.0000000000000000\n",
    "    x_7_2 = 0.4058451513773972 \n",
    "    x_7_3 = -0.4058451513773972\n",
    "    x_7_4 = -0.7415311855993945\n",
    "    x_7_5 = 0.7415311855993945\n",
    "    x_7_6 = -0.9491079123427585\n",
    "    x_7_7 = 0.9491079123427585\n",
    "    \n",
    "    c_8_1 = 0.3626837833783620\n",
    "    c_8_2 = 0.3626837833783620\n",
    "    c_8_3 = 0.3137066458778873\n",
    "    c_8_4 = 0.3137066458778873\n",
    "    c_8_5 = 0.2223810344533745\n",
    "    c_8_6 = 0.2223810344533745\n",
    "    c_8_7 = 0.1012285362903763\n",
    "    c_8_8 = 0.1012285362903763\n",
    "    x_8_1 = -0.1834346424956498\n",
    "    x_8_2 = 0.1834346424956498\n",
    "    x_8_3 = -0.5255324099163290\n",
    "    x_8_4 = 0.5255324099163290\n",
    "    x_8_5 = -0.7966664774136267\n",
    "    x_8_6 = 0.7966664774136267\n",
    "    x_8_7 = -0.9602898564975363\n",
    "    x_8_8 = 0.9602898564975363\n",
    "    \n",
    "    c_9_1 = 0.3302393550012598\n",
    "    c_9_2 = 0.1806481606948574\n",
    "    c_9_3 = 0.1806481606948574\n",
    "    c_9_4 = 0.0812743883615744\n",
    "    c_9_5 = 0.0812743883615744\n",
    "    c_9_6 = 0.3123470770400029\n",
    "    c_9_7 = 0.3123470770400029\n",
    "    c_9_8 = 0.2606106964029354\n",
    "    c_9_9 = 0.2606106964029354\n",
    "    x_9_1 = 0.0000000000000000\n",
    "    x_9_2 = -0.8360311073266358\n",
    "    x_9_3 = 0.8360311073266358\n",
    "    x_9_4 = -0.9681602395076261\n",
    "    x_9_5 = 0.9681602395076261\n",
    "    x_9_6 = -0.3242534234038089\n",
    "    x_9_7 = 0.3242534234038089\n",
    "    x_9_8 = -0.6133714327005904\n",
    "    x_9_9 = 0.6133714327005904\n",
    "    \n",
    "    c_10_1 = 0.2955242247147529\n",
    "    c_10_2 = 0.2955242247147529\n",
    "    c_10_3 = 0.2692667193099963\n",
    "    c_10_4 = 0.2692667193099963\n",
    "    c_10_5 = 0.2190863625159820\n",
    "    c_10_6 = 0.2190863625159820\n",
    "    c_10_7 = 0.1494513491505806\n",
    "    c_10_8 = 0.1494513491505806\n",
    "    c_10_9 = 0.0666713443086881\n",
    "    c_10_10 = 0.0666713443086881\n",
    "    x_10_1 = -0.1488743389816312\n",
    "    x_10_2 = 0.1488743389816312\n",
    "    x_10_3 = -0.4333953941292472\n",
    "    x_10_4 = 0.4333953941292472\n",
    "    x_10_5 = -0.6794095682990244\n",
    "    x_10_6 = 0.6794095682990244\n",
    "    x_10_7 = -0.8650633666889845\n",
    "    x_10_8 = 0.8650633666889845\n",
    "    x_10_9 = -0.9739065285171717\n",
    "    x_10_10 = 0.9739065285171717\n",
    "    \n",
    "    A = 0.0\n",
    "    if (n == 2):\n",
    "        A = c_2*0.5*(b-a)*(f(0.5*(b+a+(b-a)*x_2_1)) + f(0.5*(b+a+(b-a)*x_2_2)))\n",
    "    elif (n == 3):\n",
    "        A = 0.5*(b-a)*(c_3_1*f(0.5*(b+a+(b-a)*x_3_1)) + c_3_2*f(0.5*(b+a+(b-a)*x_3_2)) + c_3_3*f(0.5*(b+a+(b-a)*x_3_3)))\n",
    "    elif (n == 4):\n",
    "        A = 0.5*(b-a)*(c_4_1*f(0.5*(b+a+(b-a)*x_4_1)) + c_4_2*f(0.5*(b+a+(b-a)*x_4_2)) + c_4_3*f(0.5*(b+a+(b-a)*x_4_3)) + c_4_4*f(0.5*(b+a+(b-a)*x_4_4)))\n",
    "    elif (n == 5):\n",
    "        A = 0.5*(b-a)*(c_5_1*f(0.5*(b+a+(b-a)*x_5_1)) + c_5_2*f(0.5*(b+a+(b-a)*x_5_2)) + c_5_3*f(0.5*(b+a+(b-a)*x_5_3)) + c_5_4*f(0.5*(b+a+(b-a)*x_5_4)) + c_5_5*f(0.5*(b+a+(b-a)*x_5_5))) \n",
    "    elif (n == 6):\n",
    "        A = 0.5*(b-a)*(c_6_1*f(0.5*(b+a+(b-a)*x_6_1)) + c_6_2*f(0.5*(b+a+(b-a)*x_6_2)) + c_6_3*f(0.5*(b+a+(b-a)*x_6_3)) + c_6_4*f(0.5*(b+a+(b-a)*x_6_4)) + c_6_5*f(0.5*(b+a+(b-a)*x_6_5)) + c_6_6*f(0.5*(b+a+(b-a)*x_6_6))) \n",
    "    elif (n == 7):\n",
    "        A = 0.5*(b-a)*(c_7_1*f(0.5*(b+a+(b-a)*x_7_1)) + c_7_2*f(0.5*(b+a+(b-a)*x_7_2)) + c_7_3*f(0.5*(b+a+(b-a)*x_7_3)) + c_7_4*f(0.5*(b+a+(b-a)*x_7_4)) + c_7_5*f(0.5*(b+a+(b-a)*x_7_5)) + c_7_6*f(0.5*(b+a+(b-a)*x_7_6)) + c_7_7*f(0.5*(b+a+(b-a)*x_7_7))) \n",
    "    elif (n == 8):\n",
    "        A = 0.5*(b-a)*(c_8_1*f(0.5*(b+a+(b-a)*x_8_1)) + c_8_2*f(0.5*(b+a+(b-a)*x_8_2)) + c_8_3*f(0.5*(b+a+(b-a)*x_8_3)) + c_8_4*f(0.5*(b+a+(b-a)*x_8_4)) + c_8_5*f(0.5*(b+a+(b-a)*x_8_5)) + c_8_6*f(0.5*(b+a+(b-a)*x_8_6)) + c_8_7*f(0.5*(b+a+(b-a)*x_8_7)) + c_8_8*f(0.5*(b+a+(b-a)*x_8_8))) \n",
    "    elif (n == 9):\n",
    "        A = 0.5*(b-a)*(c_9_1*f(0.5*(b+a+(b-a)*x_9_1)) + c_9_2*f(0.5*(b+a+(b-a)*x_9_2)) + c_9_3*f(0.5*(b+a+(b-a)*x_9_3)) + c_9_4*f(0.5*(b+a+(b-a)*x_9_4)) + c_9_5*f(0.5*(b+a+(b-a)*x_9_5)) + c_9_6*f(0.5*(b+a+(b-a)*x_9_6)) + c_9_7*f(0.5*(b+a+(b-a)*x_9_7)) + c_9_8*f(0.5*(b+a+(b-a)*x_9_8)) + c_9_9*f(0.5*(b+a+(b-a)*x_9_9))) \n",
    "    elif (n == 10):\n",
    "        A = 0.5*(b-a)*(c_10_1*f(0.5*(b+a+(b-a)*x_10_1)) + c_10_2*f(0.5*(b+a+(b-a)*x_10_2)) + c_10_3*f(0.5*(b+a+(b-a)*x_10_3)) + c_10_4*f(0.5*(b+a+(b-a)*x_10_4)) + c_10_5*f(0.5*(b+a+(b-a)*x_10_5)) + c_10_6*f(0.5*(b+a+(b-a)*x_10_6)) + c_10_7*f(0.5*(b+a+(b-a)*x_10_7)) + c_10_8*f(0.5*(b+a+(b-a)*x_10_8)) + c_10_9*f(0.5*(b+a+(b-a)*x_10_9)) + c_10_10*f(0.5*(b+a+(b-a)*x_10_10))) \n",
    "\n",
    "    else:\n",
    "        print(\"The solution for n=\",n,\"is not yet defined !!!\")\n",
    "    \n",
    "    return A"
   ]
  },
  {
   "cell_type": "code",
   "execution_count": 402,
   "id": "43d23040-0e76-406f-8c80-dc4d9f4b2841",
   "metadata": {},
   "outputs": [
    {
     "data": {
      "text/plain": [
       "0.8788846226018334"
      ]
     },
     "execution_count": 402,
     "metadata": {},
     "output_type": "execute_result"
    }
   ],
   "source": [
    "f_30 = lambda x: x**2 * np.exp(x)\n",
    "sol_30 = Gaussian_quadrature_10(f = f_30, a = -1, b = 1, n = 8) \n",
    "sol_30"
   ]
  },
  {
   "cell_type": "code",
   "execution_count": 403,
   "id": "94a3f404-a43d-4ee2-961d-0955c41b8fd7",
   "metadata": {},
   "outputs": [
    {
     "data": {
      "text/plain": [
       "0.8788846226018334"
      ]
     },
     "execution_count": 403,
     "metadata": {},
     "output_type": "execute_result"
    }
   ],
   "source": [
    "Exact_sol = np.exp(1) - 5/np.exp(1)\n",
    "Exact_sol"
   ]
  },
  {
   "cell_type": "code",
   "execution_count": 404,
   "id": "cc7f2b13-5633-4186-87e3-973b5e5ff0a7",
   "metadata": {
    "tags": []
   },
   "outputs": [
    {
     "data": {
      "text/plain": [
       "0.8788846226018333"
      ]
     },
     "execution_count": 404,
     "metadata": {},
     "output_type": "execute_result"
    }
   ],
   "source": [
    "f_30 = lambda x: x**2 * np.exp(x)\n",
    "sol_30 = Gaussian_quadrature_10(f = f_30, a = -1, b = 1, n = 9) \n",
    "sol_30"
   ]
  },
  {
   "cell_type": "code",
   "execution_count": 405,
   "id": "feac7bd1-677c-46f4-8fa0-21d3e09c6158",
   "metadata": {
    "tags": []
   },
   "outputs": [
    {
     "data": {
      "text/plain": [
       "0.8788846226018334"
      ]
     },
     "execution_count": 405,
     "metadata": {},
     "output_type": "execute_result"
    }
   ],
   "source": [
    "f_30 = lambda x: x**2 * np.exp(x)\n",
    "sol_30 = Gaussian_quadrature_10(f = f_30, a = -1, b = 1, n = 10) \n",
    "sol_30"
   ]
  },
  {
   "cell_type": "code",
   "execution_count": null,
   "id": "998a58d2-eb13-42f9-b73f-077602834194",
   "metadata": {},
   "outputs": [],
   "source": []
  }
 ],
 "metadata": {
  "kernelspec": {
   "display_name": "Python 3",
   "language": "python",
   "name": "python3"
  },
  "language_info": {
   "codemirror_mode": {
    "name": "ipython",
    "version": 3
   },
   "file_extension": ".py",
   "mimetype": "text/x-python",
   "name": "python",
   "nbconvert_exporter": "python",
   "pygments_lexer": "ipython3",
   "version": "3.12.0"
  }
 },
 "nbformat": 4,
 "nbformat_minor": 5
}
