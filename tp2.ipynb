{
 "cells": [
  {
   "cell_type": "markdown",
   "id": "e207ced5-54cc-4c9c-8e6f-e2237d66e25d",
   "metadata": {},
   "source": [
    "# **TP2**: Polynomial Interpolation"
   ]
  },
  {
   "cell_type": "code",
   "execution_count": 4,
   "id": "2b07f41d-b1df-4787-a47d-b3c4466a0608",
   "metadata": {
    "tags": []
   },
   "outputs": [],
   "source": [
    "import numpy as np\n",
    "import pandas as pd\n",
    "import matplotlib.pyplot as plt\n",
    "\n",
    "import math\n",
    "import sympy\n",
    "import scipy"
   ]
  },
  {
   "cell_type": "markdown",
   "id": "d03cf48a-552a-4ae2-955f-a851057ba8d1",
   "metadata": {},
   "source": [
    "## Exo1:"
   ]
  },
  {
   "cell_type": "markdown",
   "id": "e10b5877-8382-485e-bc75-d8e0b414f4f8",
   "metadata": {
    "tags": []
   },
   "source": [
    "We have $x_0=0, x_1=0.5, x_2=1, x_3=2$, and $f\\left(x_0\\right)=0, \\quad f\\left(x_1\\right)=y, \\quad f\\left(x_2\\right)=3, \\quad f\\left(x_3\\right)=2$.\n",
    "\n",
    "The Lagrange polynomial of order 3 , connecting the four points, is given by :\n",
    "$$\n",
    "P_3(x)=L_0(x) f\\left(x_0\\right)+L_1(x) f\\left(x_1\\right)+L_2(x) f\\left(x_2\\right)+L_3(x) f\\left(x_3\\right),\n",
    "$$\n",
    "where\n",
    "$$\n",
    "L_{n,k} = \\prod_{\\substack{i=0 \\\\ i \\neq k}}^{n} \\frac{x-x_i}{x_k - x_i}\n",
    "$$\n",
    "So that:\n",
    "$$\n",
    "\\begin{aligned}\n",
    "L_0(x) & =\\frac{\\left(x-x_1\\right)\\left(x-x_2\\right)\\left(x-x_3\\right)}{\\left(x_0-x_1\\right)\\left(x_0-x_2\\right)\\left(x_0-x_3\\right)} \\\\\n",
    "L_1(x) & =\\frac{\\left(x-x_0\\right)\\left(x-x_2\\right)\\left(x-x_3\\right)}{\\left(x_1-x_0\\right)\\left(x_1-x_2\\right)\\left(x_1-x_3\\right)} \\\\\n",
    "L_2(x) & =\\frac{\\left(x-x_0\\right)\\left(x-x_1\\right)\\left(x-x_3\\right)}{\\left(x_2-x_0\\right)\\left(x_2-x_1\\right)\\left(x_2-x_3\\right)} \\\\\n",
    "L_3(x) & =\\frac{\\left(x-x_0\\right)\\left(x-x_1\\right)\\left(x-x_2\\right)}{\\left(x_3-x_0\\right)\\left(x_3-x_1\\right)\\left(x_3-x_2\\right)}\n",
    "\\end{aligned}\n",
    "$$\n",
    "Thus, for this problem,\n",
    "$$\n",
    "\\begin{aligned}\n",
    "& L_0(x)=\\frac{(x-0.5)(x-1)(x-2)}{(0-0.5)(0-1)(0-2)}=\\frac{x^3-\\frac{7}{2} x^2+\\frac{7}{2} x-1}{-1}=-x^3+\\frac{7}{2} x^2-\\frac{7}{2} x+1 \\\\\n",
    "& L_1(x)=\\frac{(x-0)(x-1)(x-2)}{(0.5-0)(0.5-1)(0.5-2)}=\\frac{x^3-3 x^2+2 x}{\\frac{3}{8}}=\\frac{8}{3} x^3-8 x^2+\\frac{16}{3} x \\\\\n",
    "& L_2(x)=\\frac{(x-0)(x-0.5)(x-2)}{(1-0)(1-0.5)(1-2)}=\\frac{x^3-\\frac{5}{2} x^2+x}{-\\frac{1}{2}}=-2 x^3+5 x^2-2 x \\\\\n",
    "& L_3(x)=\\frac{(x-0)(x-0.5)(x-1)}{(2-0)(2-0.5)(2-1)}=\\frac{x^3-\\frac{3}{2} x^2+\\frac{1}{2} x}{3}=\\frac{1}{3} x^3-\\frac{1}{2} x^2+\\frac{1}{6} x\n",
    "\\end{aligned}\n",
    "$$\n",
    "\n",
    "Thus,\n",
    "$$\n",
    "\\begin{aligned}\n",
    "P_3(x) & =L_0(x) f\\left(x_0\\right)+L_1(x) f\\left(x_1\\right)+L_2(x) f\\left(x_2\\right)+L_3(x) f\\left(x_3\\right) \\\\\n",
    "& =L_0(x) \\cdot 0+L_1(x) \\cdot y+L_2(x) \\cdot 3+L_3(x) \\cdot 2 \\\\\n",
    "& =\\left(\\frac{8}{3} x^3-8 x^2+\\frac{16}{3} x\\right) y-6 x^3+15 x^2-6 x+\\frac{2}{3} x^3-x^2+\\frac{1}{3} x \\\\\n",
    "& =\\left(\\frac{8}{3} y-6+\\frac{2}{3}\\right) x^3+(-8 y+15-1) x^2+\\left(\\frac{16}{3} y-6+\\frac{1}{3}\\right) x \\\\\n",
    "& =\\left(\\frac{8 y-16}{3}\\right) x^3+(-8 y+14) x^2+\\left(\\frac{16 y-17}{3}\\right) x\n",
    "\\end{aligned}\n",
    "$$\n",
    "Since we want the coefficient of $x^3$ to be equal to 6 , we need:\n",
    "$$\n",
    "\\begin{gathered}\n",
    "\\frac{8 y-16}{3}=6, \\\\\n",
    "\\text { or } y=\\frac{34}{8}=4.25 \n",
    "\\end{gathered}\n",
    "$$\n",
    "With such $y$, the polynomial becomes\n",
    "$$\n",
    "P_3(x)=6 x^3-20 x^2+17 x \n",
    "$$"
   ]
  },
  {
   "cell_type": "markdown",
   "id": "8c87bae1-75b2-4ae5-abc7-36f7fdfebd57",
   "metadata": {},
   "source": [
    "## Exo2:"
   ]
  },
  {
   "cell_type": "code",
   "execution_count": 9,
   "id": "ed42a1ad-af7b-4527-af0c-29204b2f1ff2",
   "metadata": {
    "tags": []
   },
   "outputs": [],
   "source": [
    "def Lagrange(Lx, Ly):\n",
    "    x = sympy.symbols('x')\n",
    "    if  len(Lx)!= len(Ly):\n",
    "        print(\"The number of Lx and Ly must be the same !\")\n",
    "    y = 0\n",
    "    for k in range(len(Lx)):\n",
    "        t = 1\n",
    "        for j in range (len(Lx)):\n",
    "            if j != k:\n",
    "                t = t * ((x-Lx[j]) /(Lx[k]-Lx[j]))\n",
    "        y += t*Ly[k]\n",
    "    return y"
   ]
  },
  {
   "cell_type": "markdown",
   "id": "c9a0aa49-39fb-485e-9319-7c28fbb3bbd9",
   "metadata": {},
   "source": [
    "## (a)."
   ]
  },
  {
   "cell_type": "code",
   "execution_count": 10,
   "id": "cdb30d40-9bc8-4ae5-acde-5b3ba02140b4",
   "metadata": {
    "tags": []
   },
   "outputs": [
    {
     "data": {
      "text/plain": [
       "[1.0, 1.1326472096961255, -0.7543375194717092]"
      ]
     },
     "execution_count": 10,
     "metadata": {},
     "output_type": "execute_result"
    }
   ],
   "source": [
    "function_2a = lambda x: np.exp(2*x)*np.cos(3*x)\n",
    "coeff_x = [0, 0.3, 0.6]\n",
    "coeff_y = [function_2a(x) for x in coeff_x]\n",
    "coeff_y"
   ]
  },
  {
   "cell_type": "code",
   "execution_count": 11,
   "id": "da37aefb-4b64-414b-a23f-0207aa76acf7",
   "metadata": {
    "tags": []
   },
   "outputs": [
    {
     "name": "stdout",
     "output_type": "stream",
     "text": [
      "P_2(x) =  3.77549069898709*x*(2.0 - 3.33333333333333*x) - 1.25722919911952*x*(3.33333333333333*x - 1.0) + 1.0*(1.0 - 3.33333333333333*x)*(1.0 - 1.66666666666667*x)\n"
     ]
    }
   ],
   "source": [
    "print(\"P_2(x) = \", Lagrange(Lx=coeff_x, Ly=coeff_y))"
   ]
  },
  {
   "cell_type": "code",
   "execution_count": 12,
   "id": "9363da4d-f53a-4bfc-a4fb-9083aec28747",
   "metadata": {
    "tags": []
   },
   "outputs": [
    {
     "name": "stdout",
     "output_type": "stream",
     "text": [
      "P_2(x) =  -11.2201774381331*x**2 + 3.80821059709369*x + 1.0\n"
     ]
    }
   ],
   "source": [
    "print(\"P_2(x) = \", sympy.expand(Lagrange(Lx=coeff_x, Ly=coeff_y)))"
   ]
  },
  {
   "cell_type": "markdown",
   "id": "2acb39d8-219c-4344-a2ac-0339b1efa014",
   "metadata": {},
   "source": [
    "The formula for the error bound is given by\n",
    "$$\n",
    "E_n(x)=\\frac{f^{(n+1)}(\\xi(x))}{(n+1) !} \\times\\left(x-x_0\\right)\\left(x-x_1\\right) \\ldots\\left(x-x_n\\right)\n",
    "$$\n",
    "\n",
    "So that the absolute error is given by:\n",
    "$$\n",
    "|E_n(x)|= \\left|\\frac{f^{(n+1)}(\\xi(x))}{(n+1) !} \\times\\left(x-x_0\\right)\\left(x-x_1\\right) \\ldots\\left(x-x_n\\right)\\right|  \\leq \\max_{x \\in (0,0.6)} \\left|\\frac{f^{(n+1)}(x)}{(n+1) !} \\times\\left(x-x_0\\right)\\left(x-x_1\\right) \\ldots\\left(x-x_n\\right)\\right|\n",
    "$$\n",
    "Since we do not know where $\\xi(x)$ is, we will find each error over the range and multiply those together, so we have\n",
    "$$\n",
    "\\max _{x \\in (0,0.6)}\\left|f^{(3)}(x)\\right|=\\max _{x \\in (0,0.6)}\\left|-9 e^{2 x} \\sin 3 x - 46 e^{2 x} \\cos 3 x\\right|= 65.652195\n",
    "$$\n",
    "Next, we need to find\n",
    "$$\n",
    "\\max _{x \\in (0,0.6)}|(x-0)(x-0.3)(x-0.6)|=0.010392\n",
    "$$\n",
    "Thus we have an error bound :\n",
    "$$\n",
    "E_2(x)=\\frac{65.652195}{6} \\times 0.010392 \\leq 0.11371\n",
    "$$"
   ]
  },
  {
   "cell_type": "code",
   "execution_count": 14,
   "id": "cdfb503a-0175-4c8a-9294-eb491901abde",
   "metadata": {
    "tags": []
   },
   "outputs": [
    {
     "name": "stdout",
     "output_type": "stream",
     "text": [
      "Optimization terminated successfully.\n",
      "         Current function value: -65.652195\n",
      "         Iterations: 21\n",
      "         Function evaluations: 42\n"
     ]
    },
    {
     "data": {
      "text/plain": [
       "array([0.260375])"
      ]
     },
     "execution_count": 14,
     "metadata": {},
     "output_type": "execute_result"
    }
   ],
   "source": [
    "# We can use scipy.optimize.fmin on the negative of the function to find the maximum\n",
    "fun_2a = lambda x: np.abs(-9*np.exp(2*x)*np.sin(3*x) - 46*np.exp(2*x)*np.cos(3*x))\n",
    "max_x_2a = scipy.optimize.fmin(lambda x: -fun_2a(x), 0)\n",
    "max_x_2a"
   ]
  },
  {
   "cell_type": "code",
   "execution_count": 15,
   "id": "2cebfdb0-db6a-4848-a2c8-d4200e652592",
   "metadata": {
    "tags": []
   },
   "outputs": [
    {
     "name": "stdout",
     "output_type": "stream",
     "text": [
      "Optimization terminated successfully.\n",
      "         Current function value: -0.010392\n",
      "         Iterations: 10\n",
      "         Function evaluations: 20\n"
     ]
    },
    {
     "data": {
      "text/plain": [
       "array([0.47324219])"
      ]
     },
     "execution_count": 15,
     "metadata": {},
     "output_type": "execute_result"
    }
   ],
   "source": [
    "fun_2a_ = lambda x: np.abs(x*(x-0.3)*(x-0.6))\n",
    "max_x_2a_ = scipy.optimize.fmin(lambda x: -fun_2a_(x), 0.5)\n",
    "max_x_2a_"
   ]
  },
  {
   "cell_type": "code",
   "execution_count": 8,
   "id": "87699b63-6852-4e47-9ccd-fc8f64a22a64",
   "metadata": {
    "tags": []
   },
   "outputs": [
    {
     "data": {
      "text/plain": [
       "0.11370960174000001"
      ]
     },
     "execution_count": 8,
     "metadata": {},
     "output_type": "execute_result"
    }
   ],
   "source": [
    "65.652195*0.010392/6"
   ]
  },
  {
   "cell_type": "markdown",
   "id": "b1e18586-8889-4439-a049-f4a223cf3936",
   "metadata": {},
   "source": [
    "## (b)."
   ]
  },
  {
   "cell_type": "code",
   "execution_count": 16,
   "id": "18dad09b-30cd-4722-b3f2-11fc8701b43b",
   "metadata": {
    "tags": []
   },
   "outputs": [
    {
     "data": {
      "text/plain": [
       "[0.6389612763136348, 0.7678438770758819, 0.8166090487957713]"
      ]
     },
     "execution_count": 16,
     "metadata": {},
     "output_type": "execute_result"
    }
   ],
   "source": [
    "function_2b = lambda x: np.sin(np.log(x))\n",
    "coeff_x = [2, 2.4, 2.6]\n",
    "coeff_y = [function_2b(x) for x in coeff_x]\n",
    "coeff_y"
   ]
  },
  {
   "cell_type": "code",
   "execution_count": 17,
   "id": "62deac35-45cd-42bd-a724-7e7f5611a73b",
   "metadata": {
    "tags": []
   },
   "outputs": [
    {
     "name": "stdout",
     "output_type": "stream",
     "text": [
      "P_2(x) =  0.638961276313635*(4.33333333333333 - 1.66666666666667*x)*(6.0 - 2.5*x) + 0.767843877075882*(13.0 - 5.0*x)*(2.5*x - 5.0) + 0.816609048795771*(1.66666666666667*x - 3.33333333333333)*(5.0*x - 12.0)\n"
     ]
    }
   ],
   "source": [
    "print(\"P_2(x) = \", Lagrange(Lx=coeff_x, Ly=coeff_y))"
   ]
  },
  {
   "cell_type": "code",
   "execution_count": 18,
   "id": "b5767879-ded3-4c4c-a7fc-65356c697b7c",
   "metadata": {
    "tags": []
   },
   "outputs": [
    {
     "name": "stdout",
     "output_type": "stream",
     "text": [
      "P_2(x) =  -0.130634405510284*x**2 + 0.896997886150864*x - 0.632496873946955\n"
     ]
    }
   ],
   "source": [
    "print(\"P_2(x) = \", sympy.expand(Lagrange(Lx=coeff_x, Ly=coeff_y)))"
   ]
  },
  {
   "cell_type": "markdown",
   "id": "843d546e-0451-4264-8225-8ab7989065ab",
   "metadata": {},
   "source": [
    "The formula for the error bound is given by\n",
    "$$\n",
    "E_n(x)=\\frac{f^{(n+1)}(\\xi(x))}{(n+1) !} \\times\\left(x-x_0\\right)\\left(x-x_1\\right) \\ldots\\left(x-x_n\\right)\n",
    "$$\n",
    "Since we do not know where $\\xi(x)$ is, we will find each error over the range and multiply those together, so we have\n",
    "$$\n",
    "\\max _{x \\in (2,2.6)}\\left|f^{(3)}(x)\\right|=\\max _{x \\in (2,2.6)}\\left|\\frac{3}{x^3} \\sin (\\ln(x)) + \\frac{1}{x^3} \\cos (\\ln(x))\\right|= 0.33576534128810953\n",
    "$$\n",
    "Next, we need to find\n",
    "$$\n",
    "\\max _{x \\in (2,2.6)}|(x-2)(x-2.4)(x-2.6)|=0.016901\n",
    "$$\n",
    "Thus we have an error bound :\n",
    "$$\n",
    "E_2(x)=\\frac{0.33576534128810953}{6} \\times 0.016901 \\leq 9.458 \\times 10^{-4}\n",
    "$$"
   ]
  },
  {
   "cell_type": "code",
   "execution_count": 19,
   "id": "df8de33d-a684-4943-8fd9-5dd0f51fe208",
   "metadata": {
    "tags": []
   },
   "outputs": [
    {
     "name": "stdout",
     "output_type": "stream",
     "text": [
      "0.33576534128810953\n",
      "0.1722245294219641\n"
     ]
    }
   ],
   "source": [
    "# We use the maximum value of the interest function in the interval \n",
    "fun_2b = lambda x: np.abs((3/x**3)*np.sin(np.log(x)) + (1/x**3)*np.cos(np.log(x)))\n",
    "print(fun_2b(2))\n",
    "print(fun_2b(2.6))"
   ]
  },
  {
   "cell_type": "code",
   "execution_count": 20,
   "id": "0d77479d-1fd6-48b4-a789-bb551da50972",
   "metadata": {
    "tags": []
   },
   "outputs": [
    {
     "name": "stdout",
     "output_type": "stream",
     "text": [
      "Optimization terminated successfully.\n",
      "         Current function value: -0.016901\n",
      "         Iterations: 12\n",
      "         Function evaluations: 24\n"
     ]
    },
    {
     "data": {
      "text/plain": [
       "array([2.15693359])"
      ]
     },
     "execution_count": 20,
     "metadata": {},
     "output_type": "execute_result"
    }
   ],
   "source": [
    "fun_2b_ = lambda x: np.abs((x-2)*(x-2.4)*(x-2.6))\n",
    "max_x_2b_ = scipy.optimize.fmin(lambda x: -fun_2b_(x), 2)\n",
    "max_x_2b_"
   ]
  },
  {
   "cell_type": "code",
   "execution_count": 21,
   "id": "fca506c8-4329-4d6e-8f68-fad53565e3df",
   "metadata": {
    "tags": []
   },
   "outputs": [
    {
     "data": {
      "text/plain": [
       "0.0009457950055183898"
      ]
     },
     "execution_count": 21,
     "metadata": {},
     "output_type": "execute_result"
    }
   ],
   "source": [
    "fun_2b(2)*0.016901/6"
   ]
  },
  {
   "cell_type": "markdown",
   "id": "e4560333-ab98-4e67-aa7d-4717c97b2910",
   "metadata": {},
   "source": [
    "## Exo3:"
   ]
  },
  {
   "cell_type": "markdown",
   "id": "b5ddedae-5982-42cd-a24e-a9f5729c8bc8",
   "metadata": {},
   "source": [
    "Let $f(x)=e^x$, for $0 \\leq x \\leq 2$."
   ]
  },
  {
   "cell_type": "markdown",
   "id": "00a01424-f624-4b62-a8c7-feccf835f4f0",
   "metadata": {},
   "source": [
    "## (a)."
   ]
  },
  {
   "cell_type": "markdown",
   "id": "3dbbf2d6-6b22-4c5e-b4d0-2d7129412d72",
   "metadata": {
    "tags": []
   },
   "source": [
    "**Recall:** **Linear interpolation** is achieved by constructing the Lagrange polynomial $P_1$ of order 1 , connecting the two points. \n",
    "\n",
    "We have:\n",
    "$$\n",
    "P_1(x)=L_0(x) f\\left(x_0\\right)+L_1(x) f\\left(x_1\\right)\n",
    "$$\n",
    "where\n",
    "$$\n",
    "\\begin{aligned}\n",
    "L_0(x) & =\\frac{x-x_1}{x_0-x_1}=\\frac{x-0.5}{-0.5}, \\\\\n",
    "L_1(x) & =\\frac{x-x_0}{x_1-x_0}=\\frac{x}{0.5} .\n",
    "\\end{aligned}\n",
    "$$\n",
    "Thus,\n",
    "$$\n",
    "P_1(x)=-\\frac{x-0.5}{0.5} \\cdot e^0+\\frac{x}{0.5} \\cdot e^{0.5}=-2 x+1+3.2974 x=1.2974 x+1 .\n",
    "$$\n",
    "We can check whether this polynomial interpolates function $f$, that is, whether we got the correct answer. Note that\n",
    "$$\n",
    "\\begin{aligned}\n",
    "P_1(0) & =1=e^0, \\\\\n",
    "P_1(0.5) & =1.6487=e^{0.5} .\n",
    "\\end{aligned}\n",
    "$$\n",
    "Now we can evaluate\n",
    "$$\n",
    "P_1(0.25)=1.2974 \\cdot 0.25+1=1.32435, \\quad \\checkmark\n",
    "$$\n",
    "which is an approximation of $f(0.25)$. The true value of $f$ at $x=0.25$ is $f(0.25)=e^{0.25}=$ 1.2840. \n",
    "Thus, we obtained a reasonable approximation."
   ]
  },
  {
   "cell_type": "code",
   "execution_count": 15,
   "id": "e9816604-a407-44b5-b5e2-3b1c3c78a117",
   "metadata": {
    "tags": []
   },
   "outputs": [
    {
     "data": {
      "text/plain": [
       "1.2974425414002564"
      ]
     },
     "execution_count": 15,
     "metadata": {},
     "output_type": "execute_result"
    }
   ],
   "source": [
    "np.exp(0.5)/0.5 - 2"
   ]
  },
  {
   "cell_type": "code",
   "execution_count": 16,
   "id": "863321a3-4884-4624-993e-43d66918945a",
   "metadata": {
    "tags": []
   },
   "outputs": [
    {
     "data": {
      "text/plain": [
       "1.32435"
      ]
     },
     "execution_count": 16,
     "metadata": {},
     "output_type": "execute_result"
    }
   ],
   "source": [
    "1.2974*0.25 + 1"
   ]
  },
  {
   "cell_type": "code",
   "execution_count": 17,
   "id": "ff87feb4-64c0-472a-a107-bdc3f89f57eb",
   "metadata": {
    "tags": []
   },
   "outputs": [
    {
     "data": {
      "text/plain": [
       "1.2840254166877414"
      ]
     },
     "execution_count": 17,
     "metadata": {},
     "output_type": "execute_result"
    }
   ],
   "source": [
    "np.exp(0.25)"
   ]
  },
  {
   "cell_type": "code",
   "execution_count": 22,
   "id": "0b759c40-3992-459e-912b-e027740e5e35",
   "metadata": {
    "tags": []
   },
   "outputs": [
    {
     "name": "stdout",
     "output_type": "stream",
     "text": [
      "P_1(x) =  1.29744254140026*x + 1.0\n"
     ]
    }
   ],
   "source": [
    "function_3 = lambda x: np.exp(x)\n",
    "coeff_x = [0, 0.5]\n",
    "coeff_y = [function_3(x) for x in coeff_x]\n",
    "print(\"P_1(x) = \", sympy.expand(Lagrange(Lx=coeff_x, Ly=coeff_y)))"
   ]
  },
  {
   "cell_type": "markdown",
   "id": "2a06902e-856e-4b81-8890-12e0aac57b69",
   "metadata": {},
   "source": [
    "## (b)."
   ]
  },
  {
   "cell_type": "markdown",
   "id": "0eb1c3ba-4aac-4469-9d36-a91b2e903b42",
   "metadata": {},
   "source": [
    "Same method as in question (a). We found $P_1(x) = 2.13912111551783 x + 0.579160712941211$.\n",
    "\n",
    "Now we can evaluate\n",
    "$$\n",
    "P_1(0.75)=2.1835015495795833, \\quad \\checkmark\n",
    "$$\n",
    "which is an approximation of $f(0.75)$. The true value of $f$ at $x=0.75$ is $f(0.75)=e^{0.75}= 2.117$. \n",
    "Thus, we obtained a reasonable approximation."
   ]
  },
  {
   "cell_type": "code",
   "execution_count": 23,
   "id": "f0f2f39d-5df1-4412-b92c-1710f8b8b7b7",
   "metadata": {
    "tags": []
   },
   "outputs": [
    {
     "name": "stdout",
     "output_type": "stream",
     "text": [
      "P_1(x) =  2.13912111551783*x + 0.579160712941211\n"
     ]
    }
   ],
   "source": [
    "function_3 = lambda x: np.exp(x)\n",
    "coeff_x = [0.5, 1]\n",
    "coeff_y = [function_3(x) for x in coeff_x]\n",
    "print(\"P_1(x) = \", sympy.expand(Lagrange(Lx=coeff_x, Ly=coeff_y)))"
   ]
  },
  {
   "cell_type": "code",
   "execution_count": 24,
   "id": "279a9db3-6eed-4afa-9783-ab6c13a836a8",
   "metadata": {
    "tags": []
   },
   "outputs": [
    {
     "data": {
      "text/plain": [
       "2.1835015495795833"
      ]
     },
     "execution_count": 24,
     "metadata": {},
     "output_type": "execute_result"
    }
   ],
   "source": [
    "P_1 = lambda x: 2.13912111551783*x + 0.579160712941211\n",
    "P_1(0.75)"
   ]
  },
  {
   "cell_type": "code",
   "execution_count": 25,
   "id": "417831f3-1390-4f2c-8a5e-b5d0063bb80f",
   "metadata": {
    "tags": []
   },
   "outputs": [
    {
     "data": {
      "text/plain": [
       "2.117000016612675"
      ]
     },
     "execution_count": 25,
     "metadata": {},
     "output_type": "execute_result"
    }
   ],
   "source": [
    "np.exp(0.75)"
   ]
  },
  {
   "cell_type": "markdown",
   "id": "ebcd1148-8887-4d5f-8f99-3cffebcbfec8",
   "metadata": {},
   "source": [
    "## (c)."
   ]
  },
  {
   "cell_type": "markdown",
   "id": "bb6a4bbf-7840-4384-abd0-ac1749938e14",
   "metadata": {},
   "source": [
    "We have:\n",
    "$$\n",
    "P_2(x)=L_0(x) f\\left(x_0\\right)+L_1(x) f\\left(x_1\\right) + L_2(x) f\\left(x_2\\right)\n",
    "$$\n",
    "where\n",
    "$$\n",
    "\\begin{aligned}\n",
    "L_0(x) & =\\frac{(x-x_1)(x-x_2)}{(x_0-x_1)(x_0-x_2)}=\\frac{(x-1)(x-2)}{(0-1)(0-2)} = \\frac{x^2 - 3x + 2}{2}, \\\\\n",
    "L_1(x) & =\\frac{(x-x_0)(x-x_2)}{(x_1-x_0)(x_1-x_2)}=\\frac{x(x-2)}{(1-0)(1-2)} = 2x - x^2, \\\\\n",
    "L_2(x) & =\\frac{(x-x_0)(x-x_1)}{(x_2-x_0)(x_2-x_1)}=\\frac{x(x-1)}{(2-0)(2-1)} = \\frac{x^2 - x}{2}\n",
    "\\end{aligned}\n",
    "$$\n",
    "Thus,\n",
    "$$\n",
    "P_2(x)= \\frac{x^2 - 3x + 2}{2} \\cdot e^0 + (2x - x^2) \\cdot e^{1} + \\frac{x^2 - x}{2} \\cdot e^{2} = 1.4762462210062801 x^2 + 0.24203560745276498 x + 1\n",
    "$$\n",
    "\n",
    "Now we can evaluate\n",
    "$$\n",
    "P_2(0.25)=1.1527742906760838,  \\quad P_2(0.75)=2.0119152049056064 \\quad \\checkmark\n",
    "$$\n",
    "which is the approximations of $f(0.25)$ and $f(0.75)$, respectively."
   ]
  },
  {
   "cell_type": "code",
   "execution_count": 26,
   "id": "90678b99-145a-4a99-bb31-dd8aaac75575",
   "metadata": {
    "tags": []
   },
   "outputs": [
    {
     "data": {
      "text/plain": [
       "1.4762462210062801"
      ]
     },
     "execution_count": 26,
     "metadata": {},
     "output_type": "execute_result"
    }
   ],
   "source": [
    "0.5-np.exp(1)+0.5*np.exp(2)"
   ]
  },
  {
   "cell_type": "code",
   "execution_count": 27,
   "id": "93706420-2936-4103-885b-28882cb3f522",
   "metadata": {
    "tags": []
   },
   "outputs": [
    {
     "data": {
      "text/plain": [
       "0.24203560745276498"
      ]
     },
     "execution_count": 27,
     "metadata": {},
     "output_type": "execute_result"
    }
   ],
   "source": [
    "-1.5+2*np.exp(1)-0.5*np.exp(2)"
   ]
  },
  {
   "cell_type": "code",
   "execution_count": 28,
   "id": "1131b6bf-fce5-4d09-85a6-a88a97754bb7",
   "metadata": {
    "tags": []
   },
   "outputs": [
    {
     "name": "stdout",
     "output_type": "stream",
     "text": [
      "P_2(x) =  1.47624622100628*x**2 + 0.242035607452765*x + 1.0\n"
     ]
    }
   ],
   "source": [
    "function_3 = lambda x: np.exp(x)\n",
    "coeff_x = [0, 1, 2]\n",
    "coeff_y = [function_3(x) for x in coeff_x]\n",
    "print(\"P_2(x) = \", sympy.expand(Lagrange(Lx=coeff_x, Ly=coeff_y)))"
   ]
  },
  {
   "cell_type": "code",
   "execution_count": 29,
   "id": "452d5caa-bb93-4a69-bbd5-056c424b8368",
   "metadata": {
    "tags": []
   },
   "outputs": [
    {
     "name": "stdout",
     "output_type": "stream",
     "text": [
      "1.1527742906760838\n",
      "2.0119152049056064\n"
     ]
    }
   ],
   "source": [
    "P_2 = lambda x: 1.47624622100628*x**2 + 0.242035607452765*x + 1.0\n",
    "print(P_2(0.25))\n",
    "print(P_2(0.75))"
   ]
  },
  {
   "cell_type": "markdown",
   "id": "6448a36c-fdda-4a46-8f83-7481387e34d6",
   "metadata": {},
   "source": [
    "## (d)."
   ]
  },
  {
   "cell_type": "code",
   "execution_count": 30,
   "id": "fe536d61-6126-4857-86fe-960a0d50f180",
   "metadata": {
    "tags": []
   },
   "outputs": [
    {
     "name": "stdout",
     "output_type": "stream",
     "text": [
      "1.2840254166877414\n",
      "2.117000016612675\n"
     ]
    }
   ],
   "source": [
    "print(np.exp(0.25))\n",
    "print(np.exp(0.75))"
   ]
  },
  {
   "cell_type": "markdown",
   "id": "e2e38699-37ce-4a7e-bc04-c5f2bcd4df1c",
   "metadata": {},
   "source": [
    "Part **(a)** and **(b)** are better due to the spacing of the nodes."
   ]
  },
  {
   "cell_type": "markdown",
   "id": "674c1807-50b4-4ff2-ad95-3d954263879b",
   "metadata": {},
   "source": [
    "## Exo4:"
   ]
  },
  {
   "cell_type": "markdown",
   "id": "d9a5a1d4-76a2-46ff-9861-413a884beef6",
   "metadata": {},
   "source": [
    "The error function is defined by: $\\text{erf}(x) = \\frac{2}{\\sqrt{\\pi}} \\int_{0}^{t} e^{-t^2} dt$.\n",
    "\n",
    "It gives the probability that any one of a series of trials will lie within $x$ units of the mean, assuming that\n",
    "the trials have a normal distribution with mean $0$ and standard deviation $\\frac{\\sqrt{2}}{2}$. This integral cannot\n",
    "be evaluated in terms of elementary functions, so an approximating technique must be used."
   ]
  },
  {
   "cell_type": "markdown",
   "id": "b2600365-cb2a-434b-95e8-bc71fa38ad9b",
   "metadata": {},
   "source": [
    "## (a)."
   ]
  },
  {
   "cell_type": "markdown",
   "id": "276cb681-ae92-4947-837e-1c3baacfaeff",
   "metadata": {},
   "source": [
    "We use Taylor series for $e^x$, that is:\n",
    "$$\n",
    "e^x = 1 + x + \\frac{x^2}{2!} + \\frac{x^3}{3!} + \\dots = \\sum_{n=0}^{+\\infty} \\frac{x^n}{n!}\n",
    "$$\n",
    "We change $x$ to $-x^2$, we have:\n",
    "$$\n",
    "e^{-x^2} = 1 - x^2 + \\frac{(-x^2)^2}{2!} + \\frac{(-x^2)^3}{3!} + \\frac{(-x^2)^4}{4!} +\\dots = 1 - x^2 + \\frac{x^4}{2!} - \\frac{x^6}{3!} + \\frac{x^8}{4!} +\\dots\n",
    "$$\n",
    "So that:\n",
    "$$\n",
    "\\int_{0}^{x} e^{-t^2} dt = \\int_{0}^{x} \\left( 1 - t^2 + \\frac{t^4}{2!} - \\frac{t^6}{3!} + \\frac{t^8}{4!} +\\dots \\right) dt = x - \\frac{x^3}{3} + \\frac{x^5}{5 \\times 2!} - \\frac{x^7}{7 \\times 3!} + \\frac{x^9}{9 \\times 4!} +\\dots = \\sum_{n=0}^{+\\infty} \\frac{(-1)^n x^{2n+1}}{(2n+1) \\times n!}\n",
    "$$\n",
    "Therefore,\n",
    "$$\n",
    "\\text{erf}(x) = \\frac{2}{\\sqrt{\\pi}} \\sum_{n=0}^{+\\infty} \\frac{(-1)^n x^{2n+1}}{(2n+1) \\times n!}\n",
    "$$"
   ]
  },
  {
   "cell_type": "markdown",
   "id": "9455236b-640f-4c74-b72e-98ddc2aa5a69",
   "metadata": {},
   "source": [
    "## (b)."
   ]
  },
  {
   "cell_type": "code",
   "execution_count": 2,
   "id": "df700e34-fc23-4023-a204-621f9d1d4462",
   "metadata": {},
   "outputs": [],
   "source": [
    "def Maclaurin_erf(x, n):\n",
    "    tmp = 0\n",
    "    for k in range(n):\n",
    "        tmp += ((-1)**k)*x**(2*k+1)/((2*k+1)*math.factorial(k))\n",
    "    return tmp*2/np.sqrt(math.pi)"
   ]
  },
  {
   "cell_type": "code",
   "execution_count": 3,
   "id": "0e71c6f2-c1a3-40bf-8a3b-2c58b02fe57a",
   "metadata": {
    "tags": []
   },
   "outputs": [
    {
     "data": {
      "text/plain": [
       "0.0"
      ]
     },
     "execution_count": 3,
     "metadata": {},
     "output_type": "execute_result"
    }
   ],
   "source": [
    "Maclaurin_erf(x=0, n=100)"
   ]
  },
  {
   "cell_type": "code",
   "execution_count": 4,
   "id": "afcf6a2a-1112-4780-84b8-d3fe8f5a8d64",
   "metadata": {
    "tags": []
   },
   "outputs": [
    {
     "data": {
      "text/plain": [
       "0.22270258921047845"
      ]
     },
     "execution_count": 4,
     "metadata": {},
     "output_type": "execute_result"
    }
   ],
   "source": [
    "Maclaurin_erf(x=0.2, n=100)"
   ]
  },
  {
   "cell_type": "code",
   "execution_count": 14,
   "id": "db9a32f4-b4e3-42b6-b15b-ebb3f33acecb",
   "metadata": {
    "tags": []
   },
   "outputs": [
    {
     "data": {
      "text/html": [
       "<div>\n",
       "<style scoped>\n",
       "    .dataframe tbody tr th:only-of-type {\n",
       "        vertical-align: middle;\n",
       "    }\n",
       "\n",
       "    .dataframe tbody tr th {\n",
       "        vertical-align: top;\n",
       "    }\n",
       "\n",
       "    .dataframe thead th {\n",
       "        text-align: right;\n",
       "    }\n",
       "</style>\n",
       "<table border=\"1\" class=\"dataframe\">\n",
       "  <thead>\n",
       "    <tr style=\"text-align: right;\">\n",
       "      <th></th>\n",
       "      <th>x_i</th>\n",
       "      <th>erf_x_i</th>\n",
       "    </tr>\n",
       "  </thead>\n",
       "  <tbody>\n",
       "    <tr>\n",
       "      <th>0</th>\n",
       "      <td>0.0</td>\n",
       "      <td>0.000000</td>\n",
       "    </tr>\n",
       "    <tr>\n",
       "      <th>1</th>\n",
       "      <td>0.2</td>\n",
       "      <td>0.222703</td>\n",
       "    </tr>\n",
       "    <tr>\n",
       "      <th>2</th>\n",
       "      <td>0.4</td>\n",
       "      <td>0.428392</td>\n",
       "    </tr>\n",
       "    <tr>\n",
       "      <th>3</th>\n",
       "      <td>0.6</td>\n",
       "      <td>0.603856</td>\n",
       "    </tr>\n",
       "    <tr>\n",
       "      <th>4</th>\n",
       "      <td>0.8</td>\n",
       "      <td>0.742101</td>\n",
       "    </tr>\n",
       "    <tr>\n",
       "      <th>5</th>\n",
       "      <td>1.0</td>\n",
       "      <td>0.842701</td>\n",
       "    </tr>\n",
       "  </tbody>\n",
       "</table>\n",
       "</div>"
      ],
      "text/plain": [
       "   x_i   erf_x_i\n",
       "0  0.0  0.000000\n",
       "1  0.2  0.222703\n",
       "2  0.4  0.428392\n",
       "3  0.6  0.603856\n",
       "4  0.8  0.742101\n",
       "5  1.0  0.842701"
      ]
     },
     "execution_count": 14,
     "metadata": {},
     "output_type": "execute_result"
    }
   ],
   "source": [
    "## Create a table\n",
    "list_x = [0.2*i  for i in range(6)]\n",
    "list_erf = [Maclaurin_erf(x=i, n=100) for i in list_x]\n",
    "df = pd.DataFrame({'x_i': list_x, 'erf_x_i': list_erf})\n",
    "df"
   ]
  },
  {
   "cell_type": "markdown",
   "id": "12b0ec09-6b29-4ec2-9bf4-7aedbe6dfb12",
   "metadata": {},
   "source": [
    "## (c)."
   ]
  },
  {
   "cell_type": "markdown",
   "id": "1c056548-3863-4249-8fd6-a2d0d24557e3",
   "metadata": {},
   "source": [
    "For linear interpolation, by using the table above, we can start with $x_0=0.2$ and $x_1=0.4$. We obtain then the approximation of the error function using linear interpolation :\n",
    "$$\n",
    "P_1(x) = 1.02844882918095x + 0.0170128233742884\n",
    "$$\n",
    "So that: $P_1(1/3)=0.3598$ which is an approximation of $\\text{erf}(1/3)$."
   ]
  },
  {
   "cell_type": "code",
   "execution_count": 16,
   "id": "d46f4643-f59a-4d20-acc5-766b54260c0f",
   "metadata": {
    "tags": []
   },
   "outputs": [
    {
     "name": "stdout",
     "output_type": "stream",
     "text": [
      "P_1(x) =  1.02844882918095*x + 0.0170128233742884\n"
     ]
    }
   ],
   "source": [
    "coeff_x = [0.2, 0.4]\n",
    "coeff_y = [Maclaurin_erf(x=x, n=100) for x in coeff_x]\n",
    "print(\"P_1(x) = \", sympy.expand(Lagrange(Lx=coeff_x, Ly=coeff_y)))"
   ]
  },
  {
   "cell_type": "code",
   "execution_count": 17,
   "id": "3b79aa33-0dc9-4956-a387-fe627026a093",
   "metadata": {
    "tags": []
   },
   "outputs": [
    {
     "data": {
      "text/plain": [
       "0.35982909976793837"
      ]
     },
     "execution_count": 17,
     "metadata": {},
     "output_type": "execute_result"
    }
   ],
   "source": [
    "P_1_erf = lambda x: 1.02844882918095*x + 0.0170128233742884\n",
    "P_1_erf(1/3)"
   ]
  },
  {
   "cell_type": "markdown",
   "id": "400b4fb6-3ada-41d0-9889-3b8dab4a3050",
   "metadata": {},
   "source": [
    "Similarly for quadratic interpolation, by using the table above, we can start with $x_0=0.2$, $x_1=0.4$ and $x_2=0.6$. We obtain then the approximation of the error function using quadratic interpolation :\n",
    "$$\n",
    "P_2(x) = -0.377825375436657 x^2 + 1.25514405444294x - 0.0132132066606441\n",
    "$$\n",
    "So that: $P_2(1/3)=0.3632$ which is an approximation of $\\text{erf}(1/3)$."
   ]
  },
  {
   "cell_type": "code",
   "execution_count": 19,
   "id": "fca4080c-3cd8-45f7-bf15-74ceecdbaba8",
   "metadata": {
    "tags": []
   },
   "outputs": [
    {
     "name": "stdout",
     "output_type": "stream",
     "text": [
      "P_2(x) =  -0.377825375436657*x**2 + 1.25514405444294*x - 0.0132132066606441\n"
     ]
    }
   ],
   "source": [
    "coeff_x = [0.2, 0.4, 0.6]\n",
    "coeff_y = [Maclaurin_erf(x=x, n=100) for x in coeff_x]\n",
    "print(\"P_2(x) = \", sympy.expand(Lagrange(Lx=coeff_x, Ly=coeff_y)))"
   ]
  },
  {
   "cell_type": "code",
   "execution_count": 20,
   "id": "3b2cf390-6595-40da-a993-78b26f633a66",
   "metadata": {
    "tags": []
   },
   "outputs": [
    {
     "data": {
      "text/plain": [
       "0.36318754754959626"
      ]
     },
     "execution_count": 20,
     "metadata": {},
     "output_type": "execute_result"
    }
   ],
   "source": [
    "P_2_erf = lambda x: -0.377825375436657*x**2 + 1.25514405444294*x - 0.0132132066606441\n",
    "P_2_erf(1/3)"
   ]
  },
  {
   "cell_type": "markdown",
   "id": "8ede0677-63b4-4b38-9c74-b7ab0de03e37",
   "metadata": {},
   "source": [
    "Since $\\text{erf}(1/3) \\approx 0.3626$, therefore the quadratic interpolation seems to be more accurate."
   ]
  },
  {
   "cell_type": "code",
   "execution_count": 22,
   "id": "e417f9c6-74f3-4a56-afe3-ce873a57a17b",
   "metadata": {
    "tags": []
   },
   "outputs": [
    {
     "data": {
      "text/plain": [
       "0.36264811176606293"
      ]
     },
     "execution_count": 22,
     "metadata": {},
     "output_type": "execute_result"
    }
   ],
   "source": [
    "Maclaurin_erf(x=1/3, n=100)"
   ]
  },
  {
   "cell_type": "markdown",
   "id": "1aebcac4-acca-4590-a1a6-3391934fe520",
   "metadata": {},
   "source": [
    "## Exo5:"
   ]
  },
  {
   "cell_type": "markdown",
   "id": "eba4555c-4801-457c-aa4f-3c28d5bd9dab",
   "metadata": {},
   "source": [
    "Use Neville’s method to obtain the approximations for Lagrange interpolating polynomials of degrees one, two, and three to approximate each of the following:"
   ]
  },
  {
   "cell_type": "markdown",
   "id": "5b87dc67-3110-4d0a-9b26-3aa2aef8dd55",
   "metadata": {},
   "source": [
    "**Neville's algorithm** is used for recursive evaluation of Lagrange interpolating polynomial. The recurence is given by the following relation,\n",
    "$$\n",
    "L_{i, j}=\\frac{\\left(x-x_j\\right) L_{i, j-1}-\\left(x-x_i\\right) L_{i+1, j}}{x_i-x_j}, \\quad L_{i, i}=y_i, \\quad i, j=0,1, \\ldots, n-1 .\n",
    "$$\n",
    "The Lagrange interpolating polynomial is then $L(x)=L_{0, n-1}$."
   ]
  },
  {
   "cell_type": "code",
   "execution_count": 79,
   "id": "1ea0dbbc-11de-4717-b447-02756d7374c5",
   "metadata": {
    "tags": []
   },
   "outputs": [],
   "source": [
    "def NevillesMethod(Lx, Ly):\n",
    "    x = sympy.symbols('x')\n",
    "    if  len(Lx)!= len(Ly):\n",
    "        print(\"The number of Lx and Ly must be the same !\")\n",
    "        \n",
    "    n = len(Lx)\n",
    "    Q = [[0] * n for i in range(n)]\n",
    "\n",
    "    ## STEP 1:\n",
    "    for i in range(n):\n",
    "        Q[i][0] = Ly[i]\n",
    "    \n",
    "    ## STEP 2:\n",
    "    for j in range(1, n):\n",
    "        for i in range(n - j):\n",
    "            Q[i][j] = ((x - Lx[i+j]) * Q[i][j-1] - (x - Lx[i]) * Q[i+1][j-1]) / (Lx[i] - Lx[i+j])\n",
    "\n",
    "    return sympy.expand(Q[0][n-1])"
   ]
  },
  {
   "cell_type": "code",
   "execution_count": 213,
   "id": "cceea5e9-3151-4150-9638-e94567756372",
   "metadata": {
    "tags": []
   },
   "outputs": [],
   "source": [
    "def neville_algorithm(x, y, xi):\n",
    "    \"\"\"\n",
    "    Evaluates the interpolating polynomial that passes through the data points (x, y) at the point xi\n",
    "    using Neville's algorithm.\n",
    "\n",
    "    Parameters:\n",
    "        x (list): The x-coordinates of the data points.\n",
    "        y (list): The y-coordinates of the data points.\n",
    "        xi (float): The point at which to evaluate the interpolating polynomial.\n",
    "\n",
    "    Returns:\n",
    "        The table Q and the value of the interpolating polynomial at the point xi.\n",
    "    \"\"\"\n",
    "    n = len(x)\n",
    "    Q = [[0] * n for i in range(n)]\n",
    "\n",
    "    ## STEP 1:\n",
    "    for i in range(n):\n",
    "        Q[i][0] = y[i]\n",
    "\n",
    "    ## STEP 2:\n",
    "    for j in range(1, n):\n",
    "        for i in range(n - j):\n",
    "            Q[i][j] = ((xi - x[i+j]) * Q[i][j-1] - (xi - x[i]) * Q[i+1][j-1]) / (x[i] - x[i+j])\n",
    "\n",
    "    return np.array(Q), Q[0][n-1]"
   ]
  },
  {
   "cell_type": "code",
   "execution_count": 214,
   "id": "3651ecf1-f257-49c4-aa72-697b05756696",
   "metadata": {
    "tags": []
   },
   "outputs": [
    {
     "name": "stdout",
     "output_type": "stream",
     "text": [
      "For Lagrange interpolating polynomial of degree three (example in course):\n",
      "P_3(x) =  x**2 + 2*x + 3\n",
      "(array([[ 3.  ,  7.5 ,  8.25,  8.25],\n",
      "       [ 6.  ,  8.5 ,  8.25,  0.  ],\n",
      "       [11.  ,  7.5 ,  0.  ,  0.  ],\n",
      "       [18.  ,  0.  ,  0.  ,  0.  ]]), 8.25)\n",
      "P_3(1.5) =  8.25\n"
     ]
    }
   ],
   "source": [
    "print(\"For Lagrange interpolating polynomial of degree three (example in course):\")\n",
    "coeff_x = [0, 1, 2, 3]\n",
    "coeff_y = [3, 6, 11, 18]\n",
    "print(\"P_3(x) = \", NevillesMethod(Lx=coeff_x, Ly=coeff_y))\n",
    "print(neville_algorithm(x=coeff_x, y=coeff_y, xi=1.5))\n",
    "print(\"P_3(1.5) = \", neville_algorithm(x=coeff_x, y=coeff_y, xi=1.5)[1])"
   ]
  },
  {
   "cell_type": "markdown",
   "id": "88f44827-e663-4cb8-83bb-e35e787d1a55",
   "metadata": {},
   "source": [
    "## (a)."
   ]
  },
  {
   "cell_type": "code",
   "execution_count": 105,
   "id": "25a35e63-5d23-4968-9488-5ca8b3eca57e",
   "metadata": {
    "tags": []
   },
   "outputs": [
    {
     "name": "stdout",
     "output_type": "stream",
     "text": [
      "For Lagrange interpolating polynomial of degree one:\n",
      "P_1(x) =  2.59488*x + 1.0\n",
      "(array([[1.       , 2.1157984],\n",
      "       [1.64872  , 0.       ]]), 2.1157984)\n",
      "P_1(0.43) =  2.1157984\n"
     ]
    }
   ],
   "source": [
    "print(\"For Lagrange interpolating polynomial of degree one:\")\n",
    "coeff_x = [0, 0.25]\n",
    "coeff_y = [1, 1.64872]\n",
    "print(\"P_1(x) = \", NevillesMethod(Lx=coeff_x, Ly=coeff_y))\n",
    "print(neville_algorithm(x=coeff_x, y=coeff_y, xi=0.43))\n",
    "print(\"P_1(0.43) = \", neville_algorithm(x=coeff_x, y=coeff_y, xi=0.43)[1])"
   ]
  },
  {
   "cell_type": "code",
   "execution_count": 100,
   "id": "dabc4801-5cb6-4e33-991b-fa88d5cc7caa",
   "metadata": {
    "tags": []
   },
   "outputs": [
    {
     "name": "stdout",
     "output_type": "stream",
     "text": [
      "For Lagrange interpolating polynomial of degree two:\n",
      "P_2(x) =  3.36672*x**2 + 1.7532*x + 1.0\n",
      "(array([[1.        , 2.1157984 , 2.37638253],\n",
      "       [1.64872   , 2.4188032 , 0.        ],\n",
      "       [2.71828   , 0.        , 0.        ]]), 2.3763825279999997)\n",
      "P_2(0.43) =  2.3763825279999997\n"
     ]
    }
   ],
   "source": [
    "print(\"For Lagrange interpolating polynomial of degree two:\")\n",
    "coeff_x = [0, 0.25, 0.5]\n",
    "coeff_y = [1, 1.64872, 2.71828]\n",
    "print(\"P_2(x) = \", NevillesMethod(Lx=coeff_x, Ly=coeff_y))\n",
    "print(neville_algorithm(x=coeff_x, y=coeff_y, xi=0.43))\n",
    "print(\"P_2(0.43) = \", neville_algorithm(x=coeff_x, y=coeff_y, xi=0.43)[1])"
   ]
  },
  {
   "cell_type": "code",
   "execution_count": 101,
   "id": "1b55b73c-0b07-4741-93cc-1bf7dc588ef7",
   "metadata": {
    "tags": []
   },
   "outputs": [
    {
     "name": "stdout",
     "output_type": "stream",
     "text": [
      "For Lagrange interpolating polynomial of degree three:\n",
      "P_3(x) =  2.91210666666667*x**3 + 1.18264*x**2 + 2.11721333333333*x + 1.0\n",
      "(array([[1.        , 2.1157984 , 2.37638253, 2.36060473],\n",
      "       [1.64872   , 2.4188032 , 2.34886312, 0.        ],\n",
      "       [2.71828   , 2.2245252 , 0.        , 0.        ],\n",
      "       [4.48169   , 0.        , 0.        , 0.        ]]), 2.36060473408)\n",
      "P_3(0.43) =  2.36060473408\n"
     ]
    }
   ],
   "source": [
    "print(\"For Lagrange interpolating polynomial of degree three:\")\n",
    "coeff_x = [0, 0.25, 0.5, 0.75]\n",
    "coeff_y = [1, 1.64872, 2.71828, 4.48169]\n",
    "print(\"P_3(x) = \", NevillesMethod(Lx=coeff_x, Ly=coeff_y))\n",
    "print(neville_algorithm(x=coeff_x, y=coeff_y, xi=0.43))\n",
    "print(\"P_3(0.43) = \", neville_algorithm(x=coeff_x, y=coeff_y, xi=0.43)[1])"
   ]
  },
  {
   "cell_type": "markdown",
   "id": "6de43f75-e771-4dca-a3dc-c2e33b5a2399",
   "metadata": {},
   "source": [
    "## (b)."
   ]
  },
  {
   "cell_type": "code",
   "execution_count": 108,
   "id": "0b83598b-f24b-4647-acc6-71f6ccbd959b",
   "metadata": {
    "tags": []
   },
   "outputs": [
    {
     "name": "stdout",
     "output_type": "stream",
     "text": [
      "For Lagrange interpolating polynomial of degree one:\n",
      "P_1(x) =  0.72656 - 2.42188*x\n",
      "(array([[1.9375 , 0.72656],\n",
      "       [1.33203, 0.     ]]), 0.7265600000000001)\n",
      "P_1(0) =  0.7265600000000001\n"
     ]
    }
   ],
   "source": [
    "print(\"For Lagrange interpolating polynomial of degree one:\")\n",
    "coeff_x = [-0.5, -0.25]\n",
    "coeff_y = [1.93750, 1.33203]\n",
    "print(\"P_1(x) = \", NevillesMethod(Lx=coeff_x, Ly=coeff_y))\n",
    "print(neville_algorithm(x=coeff_x, y=coeff_y, xi=0))\n",
    "print(\"P_1(0) = \", neville_algorithm(x=coeff_x, y=coeff_y, xi=0)[1])"
   ]
  },
  {
   "cell_type": "code",
   "execution_count": 109,
   "id": "7ca6bf6f-fb3a-4bcb-aebf-ba9d6d38dbe2",
   "metadata": {
    "tags": []
   },
   "outputs": [
    {
     "name": "stdout",
     "output_type": "stream",
     "text": [
      "For Lagrange interpolating polynomial of degree two:\n",
      "P_2(x) =  1.81250933333333*x**2 - 1.062498*x + 0.953123666666667\n",
      "(array([[1.9375    , 0.72656   , 0.95312367],\n",
      "       [1.33203   , 1.0664055 , 0.        ],\n",
      "       [0.800781  , 0.        , 0.        ]]), 0.9531236666666668)\n",
      "P_2(0) =  0.9531236666666668\n"
     ]
    }
   ],
   "source": [
    "print(\"For Lagrange interpolating polynomial of degree two:\")\n",
    "coeff_x = [-0.5, -0.25, 0.25]\n",
    "coeff_y = [1.93750, 1.33203, 0.800781]\n",
    "print(\"P_2(x) = \", NevillesMethod(Lx=coeff_x, Ly=coeff_y))\n",
    "print(neville_algorithm(x=coeff_x, y=coeff_y, xi=0))\n",
    "print(\"P_2(0) = \", neville_algorithm(x=coeff_x, y=coeff_y, xi=0)[1])"
   ]
  },
  {
   "cell_type": "code",
   "execution_count": 110,
   "id": "65c7e92e-56ae-40d9-9a02-6eee27172ead",
   "metadata": {
    "tags": []
   },
   "outputs": [
    {
     "name": "stdout",
     "output_type": "stream",
     "text": [
      "For Lagrange interpolating polynomial of degree three:\n",
      "P_3(x) =  -1.00001066666667*x**3 + 1.312504*x**2 - 0.999997333333334*x + 0.984374\n",
      "(array([[1.9375    , 0.72656   , 0.95312367, 0.984374  ],\n",
      "       [1.33203   , 1.0664055 , 1.01562433, 0.        ],\n",
      "       [0.800781  , 0.914062  , 0.        , 0.        ],\n",
      "       [0.6875    , 0.        , 0.        , 0.        ]]), 0.9843740000000001)\n",
      "P_3(0) =  0.9843740000000001\n"
     ]
    }
   ],
   "source": [
    "print(\"For Lagrange interpolating polynomial of degree three:\")\n",
    "coeff_x = [-0.5, -0.25, 0.25, 0.5]\n",
    "coeff_y = [1.93750, 1.33203, 0.800781, 0.6875]\n",
    "print(\"P_3(x) = \", NevillesMethod(Lx=coeff_x, Ly=coeff_y))\n",
    "print(neville_algorithm(x=coeff_x, y=coeff_y, xi=0))\n",
    "print(\"P_3(0) = \", neville_algorithm(x=coeff_x, y=coeff_y, xi=0)[1])"
   ]
  },
  {
   "cell_type": "markdown",
   "id": "97ad9b85-8197-45ae-b1fc-5be43f9d3e0b",
   "metadata": {},
   "source": [
    "## Exo6:"
   ]
  },
  {
   "cell_type": "markdown",
   "id": "aff58c60-2a59-47e5-a01a-260fcd997a1e",
   "metadata": {},
   "source": [
    "We want to approximate $\\sqrt{3}$."
   ]
  },
  {
   "cell_type": "code",
   "execution_count": 114,
   "id": "932f6fd9-cd4f-4fd1-876e-decbdd57e778",
   "metadata": {
    "tags": []
   },
   "outputs": [
    {
     "name": "stdout",
     "output_type": "stream",
     "text": [
      "For Lagrange interpolating polynomial of degree four:\n",
      "P_4(x) =  0.0740740740740741*x**4 + 0.296296296296296*x**3 + 0.592592592592593*x**2 + 1.03703703703704*x + 1\n",
      "(array([[ 0.11111111,  0.66666667,  1.5       ,  1.77777778,  1.70833333],\n",
      "       [ 0.33333333,  1.33333333,  1.83333333,  1.66666667,  0.        ],\n",
      "       [ 1.        ,  2.        ,  1.5       ,  0.        ,  0.        ],\n",
      "       [ 3.        , -0.        ,  0.        ,  0.        ,  0.        ],\n",
      "       [ 9.        ,  0.        ,  0.        ,  0.        ,  0.        ]]), 1.7083333333333335)\n",
      "P_4(0.5) =  1.7083333333333335\n"
     ]
    }
   ],
   "source": [
    "print(\"For Lagrange interpolating polynomial of degree four:\")\n",
    "function_6 = lambda x: 3**x\n",
    "coeff_x = [-2, -1, 0, 1, 2]\n",
    "coeff_y = [function_6(x) for x in coeff_x]\n",
    "print(\"P_4(x) = \", NevillesMethod(Lx=coeff_x, Ly=coeff_y))\n",
    "print(neville_algorithm(x=coeff_x, y=coeff_y, xi=0.5))\n",
    "print(\"P_4(0.5) = \", neville_algorithm(x=coeff_x, y=coeff_y, xi=0.5)[1])"
   ]
  },
  {
   "cell_type": "code",
   "execution_count": 115,
   "id": "b1895f43-bc59-41db-8bd0-b679dd3a9dad",
   "metadata": {
    "tags": []
   },
   "outputs": [
    {
     "data": {
      "text/plain": [
       "1.7320508075688772"
      ]
     },
     "execution_count": 115,
     "metadata": {},
     "output_type": "execute_result"
    }
   ],
   "source": [
    "np.sqrt(3)"
   ]
  },
  {
   "cell_type": "code",
   "execution_count": 220,
   "id": "6adc168c-bd63-49a5-86e4-074d87650890",
   "metadata": {
    "tags": []
   },
   "outputs": [
    {
     "name": "stdout",
     "output_type": "stream",
     "text": [
      "For Lagrange interpolating polynomial of degree four:\n",
      "P_4(x) =  -0.0115477368439122*x**4 + 0.143947433980779*x**3 - 0.643901362848402*x**2 + 1.51150166571154*x\n",
      "(array([[0.        , 3.        , 1.24264069, 1.62132034, 1.69060676],\n",
      "       [1.        , 1.82842712, 1.7475469 , 1.73679771, 0.        ],\n",
      "       [1.41421356, 1.70710678, 1.72604853, 0.        , 0.        ],\n",
      "       [2.        , 1.76393202, 0.        , 0.        , 0.        ],\n",
      "       [2.23606798, 0.        , 0.        , 0.        , 0.        ]]), 1.6906067646231164)\n",
      "P_4(3) =  1.6906067646231164\n"
     ]
    }
   ],
   "source": [
    "print(\"For Lagrange interpolating polynomial of degree four:\")\n",
    "function_6bis = lambda x: np.sqrt(x)\n",
    "coeff_x = [0, 1, 2, 4, 5]\n",
    "coeff_y = [function_6bis(x) for x in coeff_x]\n",
    "print(\"P_4(x) = \", NevillesMethod(Lx=coeff_x, Ly=coeff_y))\n",
    "print(neville_algorithm(x=coeff_x, y=coeff_y, xi=3))\n",
    "print(\"P_4(3) = \", neville_algorithm(x=coeff_x, y=coeff_y, xi=3)[1])"
   ]
  },
  {
   "cell_type": "markdown",
   "id": "e273c4a4-26aa-41d7-aa7e-d4d057ce7b3c",
   "metadata": {},
   "source": [
    "## Exo7:"
   ]
  },
  {
   "cell_type": "markdown",
   "id": "298b48d6-50ae-497e-9290-e4f098e5627b",
   "metadata": {},
   "source": [
    "We have: $x_0=0, x_1=0.5, x_2=1, x_3=2$ and $P_0=0, P_1=y, P_2=3, P_3=2$. By using Neville's method, we have:\n",
    "\\begin{aligned}\n",
    "& x_0 \\quad P_0=Q_{0,0} \\\\\n",
    "& x_1 \\quad P_1=Q_{1,0} \\quad P_{0,1}=Q_{1,1} \\\\\n",
    "& x_2 \\quad P_2=Q_{2,0} \\quad P_{1,2}=Q_{2,1} \\quad P_{0,1,2}=Q_{2,2} \\\\\n",
    "& x_3 \\quad P_3=Q_{3,0} \\quad P_{2,3}=Q_{3,1} \\quad P_{1,2,3}=Q_{3,2} \\quad P_{0,1,2,3}=Q_{3,3} \\\\\n",
    "&\n",
    "\\end{aligned}\n",
    "Where:\n",
    "\\begin{aligned}\n",
    "P_{0,1} &=\\frac{\\left(x-x_0\\right) P_1-\\left(x-x_1\\right) P_0}{x_1-x_0} \\\\\n",
    "P_{1,2} &=\\frac{\\left(x-x_1\\right) P_2-\\left(x-x_2\\right) P_1}{x_2-x_1} \\\\\n",
    "P_{0,1,2} &=\\frac{\\left(x-x_0\\right) P_{1,2}-\\left(x-x_2\\right) P_{0,1}}{x_2-x_0} \\\\\n",
    "P_{2,3} &=\\frac{\\left(x-x_2\\right) P_3-\\left(x-x_3\\right) P_2}{x_3-x_2} \\\\\n",
    "P_{1,2,3} &=\\frac{\\left(x-x_1\\right) P_{2,3}-\\left(x-x_3\\right) P_{1,2}}{x_3-x_1} \\\\\n",
    "P_{0,1,2,3} &=\\frac{\\left(x-x_0\\right) P_{1,2,3}-\\left(x-x_3\\right) P_{0,1,2}}{x_3-x_0} \n",
    "\\end{aligned}\n",
    "\n",
    "Since $P_3(1.5)=0=P_{0,1,2,3}$, we obtain:\n",
    "\\begin{aligned}\n",
    "P_{0,1} &=\\frac{\\left(1.5-0\\right) \\times y -\\left(1.5-0.5\\right) \\times 0}{0.5-0} = 3y \\\\\n",
    "P_{1,2} &=\\frac{\\left(1.5-0.5\\right) \\times 3 -\\left(1.5-1\\right) \\times y}{1-0.5} = \\frac{3-0.5y}{0.5} = 6-y \\\\\n",
    "P_{0,1,2} &=\\frac{\\left(1.5-0\\right) (6-y) -\\left(1.5-1\\right) \\times 3y}{1-0} = 9 - 3y \\\\\n",
    "P_{2,3} &=\\frac{\\left(1.5-1\\right) \\times 2 -\\left(1.5-2\\right) \\times 3}{2-1} = 2.5 \\\\\n",
    "P_{1,2,3} &=\\frac{\\left(1.5-0.5\\right) \\times 2.5 -\\left(1.5-2\\right) \\times (6-y)}{2-0.5} = \\frac{5.5-0.5y}{1.5}\\\\\n",
    "P_{0,1,2,3} &= 5 - y\n",
    "\\end{aligned}\n",
    "\n",
    "We get: $5 - y = 0 \\Longrightarrow y = 5$."
   ]
  },
  {
   "cell_type": "code",
   "execution_count": 128,
   "id": "03d65d9e-02e2-4dd0-b6c6-7253f32ca11c",
   "metadata": {
    "tags": []
   },
   "outputs": [
    {
     "name": "stdout",
     "output_type": "stream",
     "text": [
      "For Lagrange interpolating polynomial of degree three:\n",
      "P_3(x) =  8.0*x**3 - 26.0*x**2 + 21.0*x\n",
      "(array([[ 0. , 15. , -6. , -0. ],\n",
      "       [ 5. ,  1. ,  2. ,  0. ],\n",
      "       [ 3. ,  2.5,  0. ,  0. ],\n",
      "       [ 2. ,  0. ,  0. ,  0. ]]), -0.0)\n",
      "P_3(1.5) =  -0.0\n"
     ]
    }
   ],
   "source": [
    "## VERIFY\n",
    "print(\"For Lagrange interpolating polynomial of degree three:\")\n",
    "coeff_x = [0, 0.5, 1, 2]\n",
    "coeff_y = [0, 5, 3, 2]\n",
    "print(\"P_3(x) = \", NevillesMethod(Lx=coeff_x, Ly=coeff_y))\n",
    "print(neville_algorithm(x=coeff_x, y=coeff_y, xi=1.5))\n",
    "print(\"P_3(1.5) = \", neville_algorithm(x=coeff_x, y=coeff_y, xi=1.5)[1])"
   ]
  },
  {
   "cell_type": "markdown",
   "id": "b95d16be-92cd-4fca-9193-8b049799e307",
   "metadata": {},
   "source": [
    "## Exo8:"
   ]
  },
  {
   "cell_type": "markdown",
   "id": "46daac8c-a9c7-4119-bde4-37f70d40a9b8",
   "metadata": {},
   "source": [
    "We use the same method as in **Exo7**."
   ]
  },
  {
   "cell_type": "code",
   "execution_count": 130,
   "id": "b5eb8dde-b673-41ba-bf41-67ca37d9a903",
   "metadata": {
    "tags": []
   },
   "outputs": [
    {
     "name": "stdout",
     "output_type": "stream",
     "text": [
      "For Lagrange interpolating polynomial of degree three:\n",
      "P_3(x) =  10.6666666666667*x**3 + 3.33333333333333*x + 1.0\n",
      "(array([[1.   , 2.6  , 3.08 , 3.016],\n",
      "       [2.   , 3.2  , 2.96 , 0.   ],\n",
      "       [4.   , 2.4  , 0.   , 0.   ],\n",
      "       [8.   , 0.   , 0.   , 0.   ]]), 3.016)\n",
      "P_3(0.4) =  3.016\n"
     ]
    }
   ],
   "source": [
    "## VERIFY\n",
    "print(\"For Lagrange interpolating polynomial of degree three:\")\n",
    "coeff_x = [0, 0.25, 0.5, 0.75]\n",
    "coeff_y = [1, 2, 4, 8]\n",
    "print(\"P_3(x) = \", NevillesMethod(Lx=coeff_x, Ly=coeff_y))\n",
    "print(neville_algorithm(x=coeff_x, y=coeff_y, xi=0.4))\n",
    "print(\"P_3(0.4) = \", neville_algorithm(x=coeff_x, y=coeff_y, xi=0.4)[1])"
   ]
  },
  {
   "cell_type": "markdown",
   "id": "0afe56a4-e44a-4514-9b29-780d799c6aa3",
   "metadata": {},
   "source": [
    "## Exo9:"
   ]
  },
  {
   "cell_type": "markdown",
   "id": "51926a3b-e2f7-4fc3-adf8-6832cacaff6a",
   "metadata": {},
   "source": [
    "**Inverse Interpolation**"
   ]
  },
  {
   "cell_type": "markdown",
   "id": "3bea20cf-ceef-4ffb-bbe9-7a998059a7ce",
   "metadata": {},
   "source": [
    "We have:\n",
    "\\begin{array}{c|c|c|c|c}\n",
    "y=x-e^{-x} & -0.440818 & -0.270320 & -0.106531 & 0.051188 \\\\\n",
    "\\hline x & 0.3 & 0.4 & 0.5 & 0.6\n",
    "\\end{array}"
   ]
  },
  {
   "cell_type": "code",
   "execution_count": 131,
   "id": "b23fec54-08ba-4809-9e38-c092673bbe69",
   "metadata": {
    "tags": []
   },
   "outputs": [
    {
     "name": "stdout",
     "output_type": "stream",
     "text": [
      "[-0.440818, -0.27032, -0.10653100000000004, 0.05118800000000001]\n"
     ]
    }
   ],
   "source": [
    "x_ = [0.3, 0.4, 0.5, 0.6]\n",
    "e_minus_x = [0.740818, 0.670320, 0.606531, 0.548812]\n",
    "y_ = [a - b for a, b in zip(x_, e_minus_x)]\n",
    "print(y_)"
   ]
  },
  {
   "cell_type": "code",
   "execution_count": 132,
   "id": "5c5cf811-9fe3-4a23-b582-369f31538a2e",
   "metadata": {
    "tags": []
   },
   "outputs": [
    {
     "name": "stdout",
     "output_type": "stream",
     "text": [
      "For Lagrange interpolating polynomial of degree three:\n",
      "P_3(x) =  0.00247394514761717*x**3 + 0.0738906572129372*x**2 + 0.638107281394146*x + 0.56714262352787\n",
      "(array([[0.3       , 0.55854731, 0.56711122, 0.56714262],\n",
      "       [0.4       , 0.56504161, 0.56714627, 0.        ],\n",
      "       [0.5       , 0.56754481, 0.        , 0.        ],\n",
      "       [0.6       , 0.        , 0.        , 0.        ]]), 0.5671426235278707)\n",
      "P_3(0) =  0.5671426235278707\n"
     ]
    }
   ],
   "source": [
    "print(\"For Lagrange interpolating polynomial of degree three:\")\n",
    "coeff_x = y_\n",
    "coeff_y = x_\n",
    "print(\"P_3(x) = \", NevillesMethod(Lx=coeff_x, Ly=coeff_y))\n",
    "print(neville_algorithm(x=coeff_x, y=coeff_y, xi=0))\n",
    "print(\"P_3(0) = \", neville_algorithm(x=coeff_x, y=coeff_y, xi=0)[1])"
   ]
  },
  {
   "cell_type": "markdown",
   "id": "f35c1eb0-761d-4a6b-8546-c67a824ea972",
   "metadata": {},
   "source": [
    "## Exo10:"
   ]
  },
  {
   "cell_type": "markdown",
   "id": "fd360a7e-607d-4ce9-afb3-09f8a1239073",
   "metadata": {},
   "source": [
    "**Newton Forward-difference formula**"
   ]
  },
  {
   "cell_type": "markdown",
   "id": "2ddaa9b7-288d-4c9f-9626-93d0ada11945",
   "metadata": {},
   "source": [
    "The Newton forward-difference formula is constructed by making use of the forward difference notation $\\Delta$ introduced in Aitken's $\\Delta^2$ method. With this notation,\n",
    "$$\n",
    "\\begin{aligned}\n",
    "f\\left[x_0, x_1\\right] & =\\frac{f\\left(x_1\\right)-f\\left(x_0\\right)}{x_1-x_0}=\\frac{1}{h}\\left(f\\left(x_1\\right)-f\\left(x_0\\right)\\right)=\\frac{1}{h} \\Delta f\\left(x_0\\right) \\\\\n",
    "f\\left[x_0, x_1, x_2\\right] & =\\frac{1}{2 h}\\left[\\frac{\\Delta f\\left(x_1\\right)-\\Delta f\\left(x_0\\right)}{h}\\right]=\\frac{1}{2 h^2} \\Delta^2 f\\left(x_0\\right)\n",
    "\\end{aligned}\n",
    "$$\n",
    "and, in general,\n",
    "$$\n",
    "f\\left[x_0, x_1, \\ldots, x_k\\right]=\\frac{1}{k ! h^k} \\Delta^k f\\left(x_0\\right)\n",
    "$$\n",
    "Since $f\\left[x_0\\right]=f\\left(x_0\\right)$,\n",
    "the Newton Forward-Difference Formula  has the following form:\n",
    "$$\n",
    "P_n(x)=f\\left(x_0\\right)+\\sum_{k=1}^n\\left(\\begin{array}{l}\n",
    "s \\\\\n",
    "k\n",
    "\\end{array}\\right) \\Delta^k f\\left(x_0\\right)\n",
    "$$\n",
    "Note that in this case, we introduce the notation $h=x_{i+1}-x_i$, for each $i=0,1, \\ldots, n-1$ and let $x=x_0+s h$. Then the difference $x-x_i$ is $x-x_i=(s-i) h$. "
   ]
  },
  {
   "cell_type": "code",
   "execution_count": 5,
   "id": "c06a148a-4c46-4b28-8bde-fa81616b01cb",
   "metadata": {
    "tags": []
   },
   "outputs": [],
   "source": [
    "def forward_difference(x, y):\n",
    "    \"\"\"\n",
    "    This function computes the forward-difference table for the given set of data points.\n",
    "    :param x: A list of x-coordinates of the data points\n",
    "    :param y: A list of y-coordinates of the data points\n",
    "    :return: A list of lists representing the forward-difference table\n",
    "    \"\"\"\n",
    "    n = len(x)\n",
    "    forward_table = []\n",
    "    forward_table.append(y)\n",
    "    for i in range(1, n):\n",
    "        forward_row = []\n",
    "        for j in range(n-i):\n",
    "            forward_row.append(forward_table[i-1][j+1] - forward_table[i-1][j])\n",
    "        forward_table.append(forward_row)\n",
    "    return forward_table\n",
    "\n",
    "def newton_forward_interpolation(x, y, xi):\n",
    "    \"\"\"\n",
    "    This function performs the Newton's Forward Interpolation using the forward-difference table\n",
    "    computed from the above function.\n",
    "    :param x: A list of x-coordinates of the data points\n",
    "    :param y: A list of y-coordinates of the data points\n",
    "    :param xi: The value of x for which we want to find the approximate value of y\n",
    "    :return: The approximate value of y at xi\n",
    "    \"\"\"\n",
    "    n = len(x)\n",
    "    h = x[1] - x[0]\n",
    "    forward_table = forward_difference(x, y)\n",
    "    s = (xi - x[0]) / h\n",
    "    result = y[0]\n",
    "    for i in range(1, n):\n",
    "        s_term = 1\n",
    "        for j in range(i):\n",
    "            s_term *= (s - j)\n",
    "        result += (s_term * forward_table[i][0]) / math.factorial(i)\n",
    "    return result\n",
    "\n",
    "def NewtonForwardDifferenceFormula(Lx, Ly):\n",
    "    if  len(Lx)!= len(Ly):\n",
    "        print(\"The number of Lx and Ly must be the same !\")\n",
    "        \n",
    "    n = len(Lx)\n",
    "    h = Lx[1] - Lx[0]\n",
    "    forward_table = forward_difference(Lx, Ly)\n",
    "    s = sympy.symbols('s')\n",
    "    result = Ly[0]\n",
    "    for i in range(1, n):\n",
    "        s_term = 1\n",
    "        for j in range(i):\n",
    "            s_term *= (s - j)\n",
    "        result += (s_term * forward_table[i][0]) / math.factorial(i)\n",
    "    return result"
   ]
  },
  {
   "cell_type": "code",
   "execution_count": 6,
   "id": "9587cba0-1c77-491d-a1ee-d4271d34895c",
   "metadata": {
    "tags": []
   },
   "outputs": [
    {
     "data": {
      "text/latex": [
       "$\\displaystyle \\frac{1261 s \\left(s - 4\\right) \\left(s - 3\\right) \\left(s - 2\\right) \\left(s - 1\\right)}{60} - \\frac{87 s \\left(s - 3\\right) \\left(s - 2\\right) \\left(s - 1\\right)}{2} + \\frac{149 s \\left(s - 2\\right) \\left(s - 1\\right)}{3} - 7 s \\left(s - 1\\right) - 48 s + 132$"
      ],
      "text/plain": [
       "1261*s*(s - 4)*(s - 3)*(s - 2)*(s - 1)/60 - 87*s*(s - 3)*(s - 2)*(s - 1)/2 + 149*s*(s - 2)*(s - 1)/3 - 7*s*(s - 1) - 48*s + 132"
      ]
     },
     "execution_count": 6,
     "metadata": {},
     "output_type": "execute_result"
    }
   ],
   "source": [
    "X = [3,-3,-2,-4,1,2]\n",
    "Y = [132,84,22,244,4,34]\n",
    "\n",
    "forward_difference(X,Y)  \n",
    "NewtonForwardDifferenceFormula(X,Y)"
   ]
  },
  {
   "cell_type": "code",
   "execution_count": null,
   "id": "d467dd9c-4e7b-460a-99bc-cfd622c0dcb3",
   "metadata": {},
   "outputs": [],
   "source": []
  },
  {
   "cell_type": "code",
   "execution_count": null,
   "id": "c43ce7ce-b4b0-4bef-b24c-9b5431ab11c2",
   "metadata": {},
   "outputs": [],
   "source": []
  },
  {
   "cell_type": "code",
   "execution_count": null,
   "id": "1579c0f1-87e4-4330-84f0-c045957e936a",
   "metadata": {},
   "outputs": [],
   "source": []
  },
  {
   "cell_type": "markdown",
   "id": "b6ad58c6-fb36-40ad-9652-792b49b8f9f4",
   "metadata": {},
   "source": [
    "## (a)."
   ]
  },
  {
   "cell_type": "markdown",
   "id": "ee4d05bf-4761-4dc8-8639-9914a171d875",
   "metadata": {},
   "source": [
    "The value of table for $x$ and $f(x)$\n",
    "\\begin{array}{|c|c|c|c|c|c|}\n",
    "\\hline \\mathbf{x} & 0 & 0.25 & 0.5 & 0.75 \\\\\n",
    "\\hline \\mathbf{f(x)} & 1 & 1.64872 & 2.71828 & 4.48169 \\\\\n",
    "\\hline\n",
    "\\end{array}\n",
    "We will use Newton's forward difference interpolation method to find solution.\n",
    "\n",
    "Newton's forward difference table is given by:\n",
    "\\begin{array}{|c|c|c|c|c|}\n",
    "\\hline \\mathbf{x} & \\mathbf{f(x)} & \\boldsymbol{\\Delta f(x)} & \\Delta^{\\mathbf{2}} \\boldsymbol{f(x)} & \\Delta^{\\mathbf{3}} \\boldsymbol{f(x)} \\\\\n",
    "\\hline \\mathbf{0} & \\mathbf{1} & & &  \\\\\n",
    "\\hline & & \\mathbf{1.64872 - 1= \\mathbf {0.64872}} & & \\\\\n",
    "\\hline 0.25 & 1.64872 & & \\mathbf{1.06956 - 0.64872= \\mathbf {0.42084}} & \\\\\n",
    "\\hline & & 2.71828-1.64872=1.06956 & & \\mathbf{0.69385 - 0.42084= \\mathbf {0.27301}} \\\\\n",
    "\\hline 0.5 & 2.71828 & & 1.76341-1.06956=0.69385 & \\\\\n",
    "\\hline & & 4.48169-2.71828=1.76341 & & \\\\\n",
    "\\hline 0.75 & 4.48169 & & & \\\\\n",
    "\\hline\n",
    "\\end{array}\n",
    "The value of $f(x)$ at you want to find is at: $x=0.43$.\n",
    "$$\n",
    "h=x_1-x_0=0.25\n",
    "$$\n",
    "$$\n",
    "s=\\frac{x-x_0}{h}=\\frac{0.43-0}{0.25}=1.72\n",
    "$$\n",
    "Newton's Forward Difference interpolation formula is:\n",
    "$$\n",
    "\\begin{aligned}\n",
    "& f(s)=f(x_0) + s \\Delta f(x_0)+\\frac{s(s-1)}{2 !} \\cdot \\Delta^2 f(x_0)+\\frac{s(s-1)(s-2)}{3 !} \\cdot \\Delta^3 f(x_0) \\\\\n",
    "\\end{aligned}\n",
    "$$\n",
    "+ For interpolating polynomial of degree one:\n",
    "$$\n",
    "\\begin{aligned}\n",
    "& P_1(s)=f(x_0) + s \\Delta f(x_0) =  1 + 0.64872s\\\\\n",
    "\\end{aligned}\n",
    "$$\n",
    "so that $P_1(0.43)=2.1157984$\n",
    "\n",
    "+ For interpolating polynomial of degree two:\n",
    "$$\n",
    "\\begin{aligned}\n",
    "& P_2(s)=f(x_0) + s \\Delta f(x_0) +\\frac{s(s-1)}{2 !} \\cdot \\Delta^2 f(x_0) =  1 + 0.64872s +\\frac{s(s-1)}{2} \\times 0.42084 \\\\\n",
    "\\end{aligned}\n",
    "$$\n",
    "so that $P_2(0.43)=2.376382528$\n",
    "\n",
    "+ For interpolating polynomial of degree three:\n",
    "$$\n",
    "\\begin{aligned}\n",
    "& P_3(s)=f(x_0) + s \\Delta f(x_0) +\\frac{s(s-1)}{2 !} \\cdot \\Delta^2 f(x_0) +\\frac{s(s-1)(s-2)}{3 !} \\cdot \\Delta^3 f(x_0) \\\\\n",
    "& =  1 + 0.64872s +\\frac{s(s-1)}{2} \\times 0.42084 + \\frac{s(s-1)(s-2)}{6} \\times 0.27301 \\\\\n",
    "\\end{aligned}\n",
    "$$\n",
    "so that $P_3(0.43)=2.376382528$"
   ]
  },
  {
   "cell_type": "code",
   "execution_count": 45,
   "id": "e1cde1e8-2f2b-4570-90ff-241bc46e1102",
   "metadata": {
    "tags": []
   },
   "outputs": [
    {
     "name": "stdout",
     "output_type": "stream",
     "text": [
      "2.1157984\n",
      "2.376382528\n",
      "2.3606047340800003\n"
     ]
    }
   ],
   "source": [
    "P1_s = lambda s: 1 + 0.64872*s\n",
    "P2_s = lambda s: 1 + 0.64872*s + 0.5*s*(s-1)*0.42084\n",
    "P3_s = lambda s: 1 + 0.64872*s + 0.5*s*(s-1)*0.42084 + s*(s-1)*(s-2)*0.27301/6\n",
    "print(P1_s(1.72))\n",
    "print(P2_s(1.72))\n",
    "print(P3_s(1.72))"
   ]
  },
  {
   "cell_type": "code",
   "execution_count": 104,
   "id": "28ff08eb-5ab7-4a82-9ecf-08000f6405ea",
   "metadata": {
    "tags": []
   },
   "outputs": [
    {
     "name": "stdout",
     "output_type": "stream",
     "text": [
      "For Lagrange interpolating polynomial of degree one:\n",
      "[[1, 1.64872], [0.64872]]\n",
      "P_1(s) =  0.64872*s + 1\n",
      "P_1(0.43) =  2.1157984\n"
     ]
    }
   ],
   "source": [
    "## VERIFY\n",
    "print(\"For Lagrange interpolating polynomial of degree one:\")\n",
    "coeff_x = [0, 0.25]\n",
    "coeff_y = [1, 1.64872]\n",
    "print(forward_difference(x=coeff_x, y=coeff_y))\n",
    "print(\"P_1(s) = \", NewtonForwardDifferenceFormula(Lx=coeff_x, Ly=coeff_y))\n",
    "print(\"P_1(0.43) = \",  newton_forward_interpolation(x=coeff_x, y=coeff_y, xi=0.43))"
   ]
  },
  {
   "cell_type": "code",
   "execution_count": 103,
   "id": "6065c1d1-4bef-42e8-9f9b-2920e4d5b982",
   "metadata": {
    "tags": []
   },
   "outputs": [
    {
     "name": "stdout",
     "output_type": "stream",
     "text": [
      "For Lagrange interpolating polynomial of degree two:\n",
      "[[1, 1.64872, 2.71828], [0.64872, 1.06956], [0.4208400000000001]]\n",
      "P_1(s) =  0.21042*s*(s - 1) + 0.64872*s + 1\n",
      "P_1(0.43) =  2.376382528\n"
     ]
    }
   ],
   "source": [
    "## VERIFY\n",
    "print(\"For Lagrange interpolating polynomial of degree two:\")\n",
    "coeff_x = [0, 0.25, 0.5]\n",
    "coeff_y = [1, 1.64872, 2.71828]\n",
    "print(forward_difference(x=coeff_x, y=coeff_y))\n",
    "print(\"P_1(s) = \", NewtonForwardDifferenceFormula(Lx=coeff_x, Ly=coeff_y))\n",
    "print(\"P_1(0.43) = \",  newton_forward_interpolation(x=coeff_x, y=coeff_y, xi=0.43))"
   ]
  },
  {
   "cell_type": "code",
   "execution_count": 102,
   "id": "c411b4e7-22e9-4e5e-8b63-797f60b799a8",
   "metadata": {
    "tags": []
   },
   "outputs": [
    {
     "name": "stdout",
     "output_type": "stream",
     "text": [
      "For Lagrange interpolating polynomial of degree two:\n",
      "[[1, 1.64872, 2.71828, 4.48169], [0.64872, 1.06956, 1.7634100000000004], [0.4208400000000001, 0.6938500000000003], [0.2730100000000002]]\n",
      "P_1(s) =  0.0455016666666667*s*(s - 2)*(s - 1) + 0.21042*s*(s - 1) + 0.64872*s + 1\n",
      "P_1(0.43) =  2.3606047340800003\n"
     ]
    }
   ],
   "source": [
    "## VERIFY\n",
    "print(\"For Lagrange interpolating polynomial of degree two:\")\n",
    "coeff_x = [0, 0.25, 0.5, 0.75]\n",
    "coeff_y = [1, 1.64872, 2.71828, 4.48169]\n",
    "print(forward_difference(x=coeff_x, y=coeff_y))\n",
    "print(\"P_1(s) = \", NewtonForwardDifferenceFormula(Lx=coeff_x, Ly=coeff_y))\n",
    "print(\"P_1(0.43) = \",  newton_forward_interpolation(x=coeff_x, y=coeff_y, xi=0.43))"
   ]
  },
  {
   "cell_type": "markdown",
   "id": "399aa6e1-d26d-4474-9cfa-6911e24e125d",
   "metadata": {},
   "source": [
    "## (b)."
   ]
  },
  {
   "cell_type": "markdown",
   "id": "a981a77f-5bef-49f6-a57e-0d453d59813e",
   "metadata": {},
   "source": [
    "We follow the same method as presented in question (a). We obtain the following results."
   ]
  },
  {
   "cell_type": "code",
   "execution_count": 105,
   "id": "daa5e716-fa82-408b-8a2d-e10c53f99048",
   "metadata": {
    "tags": []
   },
   "outputs": [
    {
     "name": "stdout",
     "output_type": "stream",
     "text": [
      "For Lagrange interpolating polynomial of degree one:\n",
      "[[-0.29004986, -0.56079734], [-0.27074748000000004]]\n",
      "P_1(s) =  -0.27074748*s - 0.29004986\n",
      "P_1(0.43) =  -0.506647844\n"
     ]
    }
   ],
   "source": [
    "## VERIFY\n",
    "print(\"For Lagrange interpolating polynomial of degree one:\")\n",
    "coeff_x = [0.1, 0.2]\n",
    "coeff_y = [-0.29004986, -0.56079734]\n",
    "print(forward_difference(x=coeff_x, y=coeff_y))\n",
    "print(\"P_1(s) = \", NewtonForwardDifferenceFormula(Lx=coeff_x, Ly=coeff_y))\n",
    "print(\"P_1(0.43) = \",  newton_forward_interpolation(x=coeff_x, y=coeff_y, xi=0.18))"
   ]
  },
  {
   "cell_type": "code",
   "execution_count": 106,
   "id": "2392f6c6-0983-40fe-98c1-b95321ca3f73",
   "metadata": {
    "tags": []
   },
   "outputs": [
    {
     "name": "stdout",
     "output_type": "stream",
     "text": [
      "For Lagrange interpolating polynomial of degree two:\n",
      "[[-0.29004986, -0.56079734, -0.81401972], [-0.27074748000000004, -0.25322237999999997], [0.01752510000000007]]\n",
      "P_2(s) =  0.00876255000000004*s*(s - 1) - 0.27074748*s - 0.29004986\n",
      "P_2(0.43) =  -0.508049852\n"
     ]
    }
   ],
   "source": [
    "## VERIFY\n",
    "print(\"For Lagrange interpolating polynomial of degree two:\")\n",
    "coeff_x = [0.1, 0.2, 0.3]\n",
    "coeff_y = [-0.29004986, -0.56079734, -0.81401972]\n",
    "print(forward_difference(x=coeff_x, y=coeff_y))\n",
    "print(\"P_2(s) = \", NewtonForwardDifferenceFormula(Lx=coeff_x, Ly=coeff_y))\n",
    "print(\"P_2(0.43) = \",  newton_forward_interpolation(x=coeff_x, y=coeff_y, xi=0.18))"
   ]
  },
  {
   "cell_type": "code",
   "execution_count": 107,
   "id": "8c6524c2-15bc-4687-a109-61fb67b886ad",
   "metadata": {
    "tags": []
   },
   "outputs": [
    {
     "name": "stdout",
     "output_type": "stream",
     "text": [
      "For Lagrange interpolating polynomial of degree three:\n",
      "[[-0.29004986, -0.56079734, -0.81401972, -1.0526302], [-0.27074748000000004, -0.25322237999999997, -0.23861048000000007], [0.01752510000000007, 0.0146118999999999], [-0.002913200000000171]]\n",
      "P_3(s) =  -0.000485533333333362*s*(s - 2)*(s - 1) + 0.00876255000000004*s*(s - 1) - 0.27074748*s - 0.29004986\n",
      "P_3(0.43) =  -0.5081430744\n"
     ]
    }
   ],
   "source": [
    "## VERIFY\n",
    "print(\"For Lagrange interpolating polynomial of degree three:\")\n",
    "coeff_x = [0.1, 0.2, 0.3, 0.4]\n",
    "coeff_y = [-0.29004986, -0.56079734, -0.81401972, -1.0526302]\n",
    "print(forward_difference(x=coeff_x, y=coeff_y))\n",
    "print(\"P_3(s) = \", NewtonForwardDifferenceFormula(Lx=coeff_x, Ly=coeff_y))\n",
    "print(\"P_3(0.43) = \",  newton_forward_interpolation(x=coeff_x, y=coeff_y, xi=0.18))"
   ]
  },
  {
   "cell_type": "markdown",
   "id": "da4d33cb-83a4-4b99-957d-cbf6ffe73be8",
   "metadata": {},
   "source": [
    "## Exo11:"
   ]
  },
  {
   "cell_type": "code",
   "execution_count": 257,
   "id": "c1c5ba8c-ba59-4bde-b3fa-e3af1f4eaeb4",
   "metadata": {
    "tags": []
   },
   "outputs": [],
   "source": [
    "def divided_difference(x, y):\n",
    "    \"\"\"\n",
    "    This function computes the divided-difference coefficients using the Newton's\n",
    "    Divided-Difference formula.\n",
    "    :param x: A list of x-coordinates of the data points\n",
    "    :param y: A list of y-coordinates of the data points\n",
    "    :return: A list of the divided-difference coefficients\n",
    "    \"\"\"\n",
    "    n = len(x)\n",
    "    coefficients = []\n",
    "    for i in range(n):\n",
    "        coefficients.append(y[i])\n",
    "    for j in range(1, n):\n",
    "        for i in range(n-1, j-1, -1):\n",
    "            coefficients[i] = (coefficients[i] - coefficients[i-1]) / (x[i] - x[i-j])\n",
    "    return coefficients\n",
    "\n",
    "\n",
    "def newton_divided_interpolation(x, y, xi):\n",
    "    \"\"\"\n",
    "    This function performs the Newton's Interpolation using the divided-difference\n",
    "    coefficients computed from the above function.\n",
    "    :param x: A list of x-coordinates of the data points\n",
    "    :param y: A list of y-coordinates of the data points\n",
    "    :param xi: The value of x for which we want to find the approximate value of y\n",
    "    :return: The approximate value of y at xi\n",
    "    \"\"\"\n",
    "    n = len(x)\n",
    "    coefficients = divided_difference(x, y)\n",
    "    yi = coefficients[n-1]\n",
    "    for i in range(n-2, -1, -1):\n",
    "        yi = coefficients[i] + (xi - x[i]) * yi\n",
    "    return yi\n",
    "\n",
    "def NewtonDividedDifferenceFormula(Lx, Ly):\n",
    "    x = sympy.symbols('x')\n",
    "    if  len(Lx)!= len(Ly):\n",
    "        print(\"The number of Lx and Ly must be the same !\")\n",
    "        \n",
    "    n = len(Lx)\n",
    "    coefficients = divided_difference(Lx, Ly)\n",
    "    yi = coefficients[n-1]\n",
    "    for i in range(n-2, -1, -1):\n",
    "        yi = coefficients[i] + (x - Lx[i]) * yi\n",
    "    return sympy.expand(yi)"
   ]
  },
  {
   "cell_type": "markdown",
   "id": "88f69a16-1f4b-4937-9d56-5ce1b6a30fa4",
   "metadata": {},
   "source": [
    "## (a)."
   ]
  },
  {
   "cell_type": "code",
   "execution_count": 112,
   "id": "5e8d75b3-a2d9-4261-a9d6-571f2eaec653",
   "metadata": {
    "tags": []
   },
   "outputs": [
    {
     "name": "stdout",
     "output_type": "stream",
     "text": [
      "For Lagrange interpolating polynomial of degree three:\n",
      "P_3(x)= -556.666666666667*x**3 + 185.5*x**2 - 8.88333333333333*x + 2.0\n"
     ]
    }
   ],
   "source": [
    "print(\"For Lagrange interpolating polynomial of degree three:\")\n",
    "coeff_x = [-0.1, 0, 0.2, 0.3]\n",
    "coeff_y = [5.3, 2, 3.19, 1]\n",
    "print(\"P_3(x)=\", NewtonDividedDifferenceFormula(Lx=coeff_x, Ly=coeff_y))"
   ]
  },
  {
   "cell_type": "markdown",
   "id": "bf968823-c460-427c-bbab-1eac264b9656",
   "metadata": {},
   "source": [
    "## (b)."
   ]
  },
  {
   "cell_type": "code",
   "execution_count": 113,
   "id": "dbc8157c-57dd-433b-a69d-401da878fbd7",
   "metadata": {
    "tags": []
   },
   "outputs": [
    {
     "name": "stdout",
     "output_type": "stream",
     "text": [
      "For Lagrange interpolating polynomial of degree four:\n",
      "P_4(x)= 2730.24338624339*x**4 - 1648.76402116402*x**3 + 212.802433862434*x**2 + 7.498126984127*x + 2.0\n"
     ]
    }
   ],
   "source": [
    "print(\"For Lagrange interpolating polynomial of degree four:\")\n",
    "coeff_x = [-0.1, 0, 0.2, 0.3, 0.35]\n",
    "coeff_y = [5.3, 2, 3.19, 1, 0.97260]\n",
    "print(\"P_4(x)=\", NewtonDividedDifferenceFormula(Lx=coeff_x, Ly=coeff_y))"
   ]
  },
  {
   "cell_type": "markdown",
   "id": "9b0eb19e-58d4-4e19-af95-41a942c74e57",
   "metadata": {},
   "source": [
    " ## Exo12:"
   ]
  },
  {
   "cell_type": "markdown",
   "id": "ceb9501a-fb17-4b58-86a0-c4f1f328d0d9",
   "metadata": {},
   "source": [
    "We have:\n",
    "$$\n",
    "\\begin{array}{|c|c|c|c|c|c|c|}\n",
    "\\hline x & f(x) & \\text{first d.d.} & \\text{second d.d.} & \\text{third d.d.} & \\text{fourth d.d.} & \\text{fifth d.d.} \\\\\n",
    "\\hline-2 & 1 & 3 & 2 & -1 & 0 & 0 \\\\\n",
    "-1 & 4 & 7 & -1 & -1 & 0 & \\\\\n",
    "0 & 11 & 5 & -4 & -1 & & \\\\\n",
    "1 & 16 & -3 & -7 & & & \\\\\n",
    "2 & 13 & 17 & & & & \\\\\n",
    "3 & -4 & & & & & \\\\\n",
    "\\hline\n",
    "\\end{array}\n",
    "$$\n",
    "From the table it is clear that the interpolating polynomial has degree 3 as third divided-differences are equal and therefore remaining all differences of higher-order will be zero."
   ]
  },
  {
   "cell_type": "markdown",
   "id": "fab82ba7-5b59-4737-bb1c-065ec30f2a97",
   "metadata": {},
   "source": [
    "## Exo13:"
   ]
  },
  {
   "cell_type": "markdown",
   "id": "920c341b-81d9-4256-a11e-c752df34dd3a",
   "metadata": {},
   "source": [
    "## (a)."
   ]
  },
  {
   "cell_type": "markdown",
   "id": "d23a513f-6217-4225-b11d-37204c5d7a35",
   "metadata": {},
   "source": [
    "We have: $P(-2)=Q(-2)=-1, \\quad P(-1)=Q(-1)=3, \\quad P(0)=Q(0)=1, \\quad P(1)=Q(1)=-1$  and $P(2)=Q(2)=3$. Thus, these two cubic polynomials both interpolate the given data."
   ]
  },
  {
   "cell_type": "code",
   "execution_count": 170,
   "id": "098dd184-a331-4120-8862-85e5b6b14c8a",
   "metadata": {
    "tags": []
   },
   "outputs": [
    {
     "name": "stdout",
     "output_type": "stream",
     "text": [
      "[-1, 3, 1, -1, 3]\n",
      "[-1, 3, 1, -1, 3]\n"
     ]
    }
   ],
   "source": [
    "function_P = lambda x: 3 - 2*(x+1) + 0*(x+1)*x + (x+1)*x*(x-1)\n",
    "function_Q = lambda x: -1 + 4*(x+2) - 3*(x+2)*(x+1) +(x+2)*x*(x+1)\n",
    "list_x = [-2, -1, 0, 1, 2]\n",
    "f_P = [function_P(x) for x in list_x]\n",
    "f_Q = [function_Q(x) for x in list_x]\n",
    "print(f_P)\n",
    "print(f_Q)"
   ]
  },
  {
   "cell_type": "markdown",
   "id": "d4e09ca4-330b-43c3-8e20-174aac791ce4",
   "metadata": {},
   "source": [
    "## (b)."
   ]
  },
  {
   "cell_type": "code",
   "execution_count": 176,
   "id": "3ccaa76d-c1b8-4fc3-a227-7e49da55d137",
   "metadata": {
    "tags": []
   },
   "outputs": [
    {
     "name": "stdout",
     "output_type": "stream",
     "text": [
      "x**3 - 3*x + 1\n",
      "x**3 - 3*x + 1\n"
     ]
    }
   ],
   "source": [
    "x = sympy.symbols('x')\n",
    "function_P_ = 3 - 2*(x+1) + 0*(x+1)*x + (x+1)*x*(x-1)\n",
    "function_Q_ = -1 + 4*(x+2) - 3*(x+2)*(x+1) +(x+2)*x*(x+1)\n",
    "print(sympy.expand(function_P_))\n",
    "print(sympy.expand(function_Q_))"
   ]
  },
  {
   "cell_type": "markdown",
   "id": "899a0bcf-b604-4eee-9e26-300a16c6a8fe",
   "metadata": {},
   "source": [
    "The format of the polynomial is not unique. If $P(x)$ and $Q(x)$ are expanded, they are identical. There is only one interpolating polynomial if the degree is less than or equal to four for the given data. However, it can be expressed in various ways depending on the application."
   ]
  },
  {
   "cell_type": "markdown",
   "id": "aa04f4d9-333a-450c-8750-264b4d4954db",
   "metadata": {},
   "source": [
    "## Exo14:"
   ]
  },
  {
   "cell_type": "markdown",
   "id": "c71271c5-9497-4b59-a1bf-90d9327aced2",
   "metadata": {},
   "source": [
    "Determine the coefficient of $x^3$ in $P(x)$ if all fourth-order forward differences are 1."
   ]
  },
  {
   "cell_type": "markdown",
   "id": "e9c8c86d-e20e-420b-9bd8-50e447b80d97",
   "metadata": {},
   "source": [
    "We have:\n",
    "\\begin{array}{|c|c|c|c|c|}\n",
    "\\hline x & f(x) & \\Delta f \\left(x_i\\right) & \\Delta^2 f\\left(x_i\\right) & \\Delta^3 f\\left(x_i\\right) \\\\\n",
    "\\hline 0 & 4 & 5 & 1 & -4 \\\\\n",
    "1 & 9 & 6 & -3 & \\\\\n",
    "2 & 15 & 3 & & \\\\\n",
    "3 & 18 & & & \\\\\n",
    "\\hline\n",
    "\\end{array}\n",
    "As all fourth-order forward differences are 1, therefore polynomial will have degree four. Newton interpolation for equally spaced points is given by:\n",
    "$$\n",
    "P_n(x)=P_n\\left(x_0+s h\\right)=f\\left(x_0\\right)+\\sum_{k=1}^n\\left(\\begin{array}{l}\n",
    "s \\\\\n",
    "k\n",
    "\\end{array}\\right) \\Delta^k f\\left(x_0\\right) .\n",
    "$$\n",
    "We obtain then:\n",
    "$$\n",
    "\\begin{aligned}\n",
    "& P_4(s)=f(x_0) + s \\Delta f(x_0)+\\frac{s(s-1)}{2 !} \\cdot \\Delta^2 f(x_0)+\\frac{s(s-1)(s-2)}{3 !} \\cdot \\Delta^3 f(x_0) + \\frac{s(s-1)(s-2)(s-3)}{4 !} \\cdot \\Delta^4 f(x_0) \\\\\n",
    "\\end{aligned}\n",
    "$$\n",
    "Where $x_0=0, h=1, x=x_0+s h=s$. We can write $x$ for variable $s$.\n",
    "$$\n",
    "P_4(x)=4+x \\times 5+\\frac{x(x-1)}{2} \\times 1+\\frac{x(x-1)(x-2)}{6} \\times(-4)+\\frac{x(x-1)(x-2)(x-3)}{24} \\times 1\n",
    "$$\n",
    "From the above expression the coefficient of $x^3$ is $-\\frac{11}{12}$."
   ]
  },
  {
   "cell_type": "code",
   "execution_count": 4,
   "id": "d9c1ce0a-8eb1-4911-9697-08b2ba130fa4",
   "metadata": {
    "tags": []
   },
   "outputs": [
    {
     "data": {
      "text/latex": [
       "$\\displaystyle 0.0416666666666667 x^{4} - 0.916666666666667 x^{3} + 2.95833333333333 x^{2} + 2.91666666666667 x + 4$"
      ],
      "text/plain": [
       "0.0416666666666667*x**4 - 0.916666666666667*x**3 + 2.95833333333333*x**2 + 2.91666666666667*x + 4"
      ]
     },
     "execution_count": 4,
     "metadata": {},
     "output_type": "execute_result"
    }
   ],
   "source": [
    "x = sympy.symbols('x')\n",
    "function_Px = 4 + 5*x + 0.5*x*(x-1) + (-4/6)*x*(x-1)*(x-2) + (1/24)*x*(x-1)*(x-2)*(x-3)\n",
    "sympy.expand(function_Px)"
   ]
  },
  {
   "cell_type": "code",
   "execution_count": 5,
   "id": "df577d24-1a9c-4cab-b1d9-26dd1b4b3346",
   "metadata": {
    "tags": []
   },
   "outputs": [
    {
     "data": {
      "text/plain": [
       "-0.9166666666666666"
      ]
     },
     "execution_count": 5,
     "metadata": {},
     "output_type": "execute_result"
    }
   ],
   "source": [
    "-11/12"
   ]
  },
  {
   "cell_type": "markdown",
   "id": "bf519b8b-df61-4c10-a98d-76a7554506e6",
   "metadata": {
    "tags": []
   },
   "source": [
    "## Exo15:"
   ]
  },
  {
   "cell_type": "markdown",
   "id": "8205d31c-a016-479d-bda9-6c0ea4282db7",
   "metadata": {},
   "source": [
    "Recall that $P_n(x)$ can be rewritten in a form called Newton's Divided Difference:\n",
    "$$\n",
    "P_n(x)=f\\left[x_0\\right]+\\sum_{k=1}^n f\\left[x_0, x_1, \\ldots, x_k\\right]\\left(x-x_0\\right) \\cdots\\left(x-x_{k-1}\\right)\n",
    "$$"
   ]
  },
  {
   "cell_type": "markdown",
   "id": "4db0c4fc-e18b-403f-91df-40439c862b43",
   "metadata": {},
   "source": [
    "By using the Newton forward-difference formula of the interpolant, we know the divided differences $f\\left[x_0, \\ldots, x_k\\right]$ for $k=0,1,2,3$. From these values we can form the divided difference table itself and compute every entry. In particular, we can find $f\\left(x_3\\right)$.\n",
    "\n",
    "We have:\n",
    "$$\n",
    "P_3(x) = 1 + 4x + 4x(x-0.25) + \\frac{16}{3} x(x-0.25)(x-0.5)\n",
    "$$\n",
    "From this equation, we obtain: $f[x_0]=1, f[x_0, x_1]=4, f[x_0, x_1, x_2]=4$ and $f[x_0,x_1,x_2,x_3]=\\frac{16}{3}$.\n",
    "\n",
    "By using the formula in the course, we find:  $f\\left[x_1, x_2, x_3\\right]=8, f\\left[x_1, x_2\\right]=6$, and $f\\left[x_2, x_3\\right]=10$. \n",
    "\n",
    "Finally, $f\\left[x_0\\right]=1$, $f\\left[x_1\\right]=2, f\\left[x_2\\right]=\\frac{7}{2}$, and $f\\left[x_3\\right]=6$."
   ]
  },
  {
   "cell_type": "code",
   "execution_count": 114,
   "id": "cfa98b43-3c57-4bb6-bf64-68547b58c5b9",
   "metadata": {
    "tags": []
   },
   "outputs": [
    {
     "name": "stdout",
     "output_type": "stream",
     "text": [
      "For Lagrange interpolating polynomial of degree three:\n",
      "P_3(x)= 5.33333333333333*x**3 + 2.22044604925031e-16*x**2 + 3.66666666666667*x + 1\n"
     ]
    }
   ],
   "source": [
    "## VERIFY\n",
    "print(\"For Lagrange interpolating polynomial of degree three:\")\n",
    "coeff_x = [0, 0.25, 0.5, 0.75]\n",
    "coeff_y = [1, 2, 3.5, 6]\n",
    "print(\"P_3(x)=\", NewtonDividedDifferenceFormula(Lx=coeff_x, Ly=coeff_y))"
   ]
  },
  {
   "cell_type": "code",
   "execution_count": 115,
   "id": "6f9aa4c7-a9f4-44be-9d49-5107c32f332d",
   "metadata": {
    "tags": []
   },
   "outputs": [
    {
     "data": {
      "text/latex": [
       "$\\displaystyle 5.33333333333333 x^{3} + 3.66666666666667 x + 1$"
      ],
      "text/plain": [
       "5.33333333333333*x**3 + 3.66666666666667*x + 1"
      ]
     },
     "execution_count": 115,
     "metadata": {},
     "output_type": "execute_result"
    }
   ],
   "source": [
    "x = sympy.symbols('x')\n",
    "function_P3 = 1 + 4*x + 4*x*(x-0.25) + (16/3)*x*(x-0.25)*(x-0.5)\n",
    "sympy.expand(function_P3)"
   ]
  },
  {
   "cell_type": "markdown",
   "id": "591ea54f-1a23-49d4-ad71-98196f9bcb95",
   "metadata": {},
   "source": [
    "## Exo16:"
   ]
  },
  {
   "cell_type": "markdown",
   "id": "6b1a0e04-68ea-485b-8520-fe7963b786f3",
   "metadata": {},
   "source": [
    "In the similar way as in **Exo15**, we found: $f[x_0]=f(x_0)=1, f[x_1]=f(x_1)=3$ and $f[x_0, x_1]=5$."
   ]
  },
  {
   "cell_type": "markdown",
   "id": "32c30ea4-8a81-4887-8145-48c61c882d96",
   "metadata": {},
   "source": [
    "## Exo17:"
   ]
  },
  {
   "cell_type": "markdown",
   "id": "c446ce29-c139-4c4f-93b2-ebc5f8826108",
   "metadata": {},
   "source": [
    "We have the following data:\n",
    "$$\n",
    "\\begin{array}{|c|c|c|c|c|c|c|}\n",
    "\\hline \\text{Year} & 1950 & 1960 & 1970 & 1980 & 1990 & 2000 \\\\\n",
    "\\hline \\text{Population (thousands)} & 151326 & 179323 & 203302 & 226542 & 249633 & 281422 \\\\\n",
    "\\hline\n",
    "\\end{array}\n",
    "$$"
   ]
  },
  {
   "cell_type": "markdown",
   "id": "b6a80852-5a08-44f3-b9ad-a3dcd66a645b",
   "metadata": {},
   "source": [
    "## (a)."
   ]
  },
  {
   "cell_type": "code",
   "execution_count": 258,
   "id": "1a6391b3-2374-4899-9c0a-7e2da722118d",
   "metadata": {
    "tags": []
   },
   "outputs": [
    {
     "name": "stdout",
     "output_type": "stream",
     "text": [
      "For Lagrange interpolating polynomial of degree five (using divided difference method):\n",
      "P_5(x)= 0.912166666666667*x**5 - 8996.04583333333*x**4 + 35488431.3333333*x**3 - 69998650155.4167*x**2 + 69033562289045.0*x - 2.7232574341668e+16\n",
      "P_5(1940) =  102397000.0\n",
      "P_5(1975) =  215042750.0\n",
      "P_5(2020) =  513443000.0\n",
      "P_5(2023) =  594583162.744\n"
     ]
    }
   ],
   "source": [
    "print(\"For Lagrange interpolating polynomial of degree five (using divided difference method):\")\n",
    "coeff_x = [1950, 1960, 1970, 1980, 1990, 2000]\n",
    "coeff_y = [151326000, 179323000, 203302000, 226542000, 249633000, 281422000]\n",
    "print(\"P_5(x)=\", NewtonDividedDifferenceFormula(Lx=coeff_x, Ly=coeff_y))\n",
    "print(\"P_5(1940) = \",  newton_divided_interpolation(x=coeff_x, y=coeff_y, xi=1940))\n",
    "print(\"P_5(1975) = \",  newton_divided_interpolation(x=coeff_x, y=coeff_y, xi=1975))\n",
    "print(\"P_5(2020) = \",  newton_divided_interpolation(x=coeff_x, y=coeff_y, xi=2020))\n",
    "print(\"P_5(2023) = \",  newton_divided_interpolation(x=coeff_x, y=coeff_y, xi=2023))"
   ]
  },
  {
   "cell_type": "markdown",
   "id": "1dc2121f-70b9-4371-a6e4-0e3c9658ffba",
   "metadata": {},
   "source": [
    "## (b)."
   ]
  },
  {
   "cell_type": "code",
   "execution_count": 31,
   "id": "df436732-2fcd-4a81-b144-9832cfb04104",
   "metadata": {
    "tags": []
   },
   "outputs": [
    {
     "data": {
      "image/png": "[encoded data removed]",
      "text/plain": [
       "<Figure size 640x480 with 1 Axes>"
      ]
     },
     "metadata": {},
     "output_type": "display_data"
    }
   ],
   "source": [
    "data_x = [1950, 1960, 1970, 1980, 1990, 2000]\n",
    "data_y = [151326000, 179323000, 203302000, 226542000, 249633000, 281422000]\n",
    "\n",
    "plt.scatter(x=data_x, y=data_y, marker=\"d\", alpha=0.8)\n",
    "plt.scatter([1940, 1975, 2020], [102397000, 215042750, 513443000], color='red')\n",
    "plt.scatter(1940, 132165000, color=\"orange\")\n",
    "plt.title(\"Graph of the population of the United States from 1940 to 2020\")\n",
    "plt.xlabel(\"Year\")\n",
    "plt.ylabel(\"Number of Population\")\n",
    "plt.show()"
   ]
  },
  {
   "cell_type": "markdown",
   "id": "6288c2fc-4138-410c-a7bd-01ecd271b1b6",
   "metadata": {},
   "source": [
    "The 1975 figure may not be very accurate, but the 2020 figure is likely to be extremely inaccurate."
   ]
  },
  {
   "cell_type": "markdown",
   "id": "e6b056b5-8815-4c48-9333-7ce8807fb65e",
   "metadata": {},
   "source": [
    "## Exo18:"
   ]
  },
  {
   "cell_type": "markdown",
   "id": "e8d0f5e9-889e-40a8-b4e9-ec3d13524f34",
   "metadata": {
    "tags": []
   },
   "source": [
    "Determine the natural cubic spline $S$ that interpolates the data $f(0) = 0, f(1) = 1,$ and\n",
    "$f(2) = 2$."
   ]
  },
  {
   "cell_type": "markdown",
   "id": "8419720a-7551-4d13-a7df-e54b9611386e",
   "metadata": {},
   "source": [
    "This spline consists of two cubics. The first for the interval $[0, 1]$, denoted by:\n",
    "$$\n",
    "S_0(x)=a_0+b_0(x-0)+c_0(x-0)^2+d_0(x-0)^3\n",
    "$$\n",
    "and the other for $[1,2]$, denoted by:\n",
    "$$\n",
    "S_1(x)=a_1+b_1(x-1)+c_1(x-1)^2+d_1(x-1)^3\n",
    "$$\n",
    "There are 8 constants to be determined, which requires 8 conditions. Four conditions come from the fact that the splines must agree with the data at the nodes. Hence,\n",
    "$$\n",
    "\\begin{aligned}\n",
    "& 0=f(0)=a_0, \\quad 1=f(1)=a_0+b_0+c_0+d_0, \\quad 1=f(1)=a_1, \\quad \\text { and } \\\\\n",
    "& 2=f(2)=a_1+b_1+c_1+d_1 \n",
    "\\end{aligned}\n",
    "$$\n",
    "Two more come from the fact that $S_0^{\\prime}(1)=S_1^{\\prime}(1)$ and $S_0^{\\prime \\prime}(1)=S_1^{\\prime \\prime}(1)$ (continuity of a function). These are:\n",
    "$$\n",
    "S_0^{\\prime}(1)=S_1^{\\prime}(1): \\quad b_0+2 c_0+3 d_0=b_1 \\quad \\text { and } \\quad S_0^{\\prime \\prime}(1)=S_1^{\\prime \\prime}(1): \\quad 2 c_0+6 d_0=2 c_1\n",
    "$$\n",
    "The final two come from the natural boundary conditions:\n",
    "$$\n",
    "S_0^{\\prime \\prime}(0)=0: \\quad 2 c_0=0 \\quad \\text { and } \\quad S_1^{\\prime \\prime}(2)=0: \\quad 2 c_1+6 d_1=0 .\n",
    "$$\n",
    "Solving this system of equations gives the following results:\n",
    "$$\n",
    "\\left\\{\\begin{array}{l}\n",
    "a_1=b_1=b_0=1 \\\\\n",
    "a_0=c_0=d_0=c_1=d_1=0\n",
    "\\end{array}\\right.\n",
    "$$\n",
    "Therefore, the natural spline is:\n",
    "$$\n",
    "S(x)=x, \\text { for } x \\in[0,2]\n",
    "$$"
   ]
  },
  {
   "cell_type": "code",
   "execution_count": 32,
   "id": "6308312a-16ee-4a79-b4ca-6115410ce79f",
   "metadata": {
    "tags": []
   },
   "outputs": [
    {
     "data": {
      "text/plain": [
       "array([ 0.,  1.,  0., -0.,  1.,  1.,  0., -0.])"
      ]
     },
     "execution_count": 32,
     "metadata": {},
     "output_type": "execute_result"
    }
   ],
   "source": [
    "A = np.array([[1, 0, 0, 0, 0, 0, 0, 0], \n",
    "              [1, 1, 1, 1, 0, 0, 0, 0], \n",
    "              [0, 0, 0, 0, 1, 0, 0, 0],\n",
    "              [0, 0, 0, 0, 1, 1, 1, 1],\n",
    "              [0, 1, 2, 3, 0, -1, 0, 0],\n",
    "              [0, 0, 2, 6, 0, 0, -2, 0],\n",
    "              [0, 0, 2, 0, 0, 0, 0, 0],\n",
    "              [0, 0, 0, 0, 0, 0, 2, 6]])\n",
    "b = np.array([0, 1, 1, 2, 0, 0, 0, 0])\n",
    "x = np.linalg.solve(A, b)\n",
    "x"
   ]
  },
  {
   "cell_type": "markdown",
   "id": "5169e4da-e4ec-48b3-a807-1c8b31b13f78",
   "metadata": {
    "tags": []
   },
   "source": [
    "## Exo19:"
   ]
  },
  {
   "cell_type": "markdown",
   "id": "9cc8b0e1-b90a-49dc-9866-348b6a3b4d66",
   "metadata": {
    "tags": []
   },
   "source": [
    "Determine the clamped cubic spline $s$ that interpolates the data $f(0) = 0, f(1)=1, f(2) = 2$ and satisfies $s'(0) = s''(2) = 1$."
   ]
  },
  {
   "cell_type": "markdown",
   "id": "2e739aac-c037-4f4d-a7e7-b85f0b3ae274",
   "metadata": {},
   "source": [
    "This spline consists of two cubics. The first for the interval $[0, 1]$, denoted by:\n",
    "$$\n",
    "s_0(x)=a_0+b_0(x-0)+c_0(x-0)^2+d_0(x-0)^3\n",
    "$$\n",
    "and the other for $[1,2]$, denoted by:\n",
    "$$\n",
    "s_1(x)=a_1+b_1(x-1)+c_1(x-1)^2+d_1(x-1)^3\n",
    "$$\n",
    "There are 8 constants to be determined, which requires 8 conditions. Four conditions come from the fact that the splines must agree with the data at the nodes. Hence,\n",
    "$$\n",
    "\\begin{aligned}\n",
    "& 0=f(0)=a_0, \\quad 1=f(1)=a_0+b_0+c_0+d_0, \\quad 1=f(1)=a_1, \\quad \\text { and } \\\\\n",
    "& 2=f(2)=a_1+b_1+c_1+d_1 \n",
    "\\end{aligned}\n",
    "$$\n",
    "Two more come from the fact that $s_0^{\\prime}(1)=s_1^{\\prime}(1)$ and $s_0^{\\prime \\prime}(1)=s_1^{\\prime \\prime}(1)$ (continuity of a function). These are:\n",
    "$$\n",
    "s_0^{\\prime}(1)=s_1^{\\prime}(1): \\quad b_0+2 c_0+3 d_0=b_1 \\quad \\text { and } \\quad s_0^{\\prime \\prime}(1)=s_1^{\\prime \\prime}(1): \\quad 2 c_0+6 d_0=2 c_1\n",
    "$$\n",
    "However, the boundary conditions are now:\n",
    "$$\n",
    "s_0^{\\prime }(0)=1: \\quad b_0=1 \\quad \\text { and } \\quad s_1^{\\prime }(2)=1: \\quad b_1 + 2c_1 + 3d_1 =1 .\n",
    "$$\n",
    "Solving this system of equations gives the following results:\n",
    "$$\n",
    "\\left\\{\\begin{array}{l}\n",
    "a_1=b_1=b_0=1 \\\\\n",
    "a_0=c_0=d_0=c_1=d_1=0\n",
    "\\end{array}\\right.\n",
    "$$\n",
    "Therefore, the clamped spline is:\n",
    "$$\n",
    "s(x)=x, \\text { for } x \\in[0,2]\n",
    "$$"
   ]
  },
  {
   "cell_type": "code",
   "execution_count": 34,
   "id": "08f400af-1b6a-41b1-90d9-cb5f31ea6c26",
   "metadata": {
    "tags": []
   },
   "outputs": [
    {
     "data": {
      "text/plain": [
       "array([ 0.,  1.,  0.,  0.,  1.,  1.,  0., -0.])"
      ]
     },
     "execution_count": 34,
     "metadata": {},
     "output_type": "execute_result"
    }
   ],
   "source": [
    "A_ = np.array([[1, 0, 0, 0, 0, 0, 0, 0], \n",
    "              [1, 1, 1, 1, 0, 0, 0, 0], \n",
    "              [0, 0, 0, 0, 1, 0, 0, 0],\n",
    "              [0, 0, 0, 0, 1, 1, 1, 1],\n",
    "              [0, 1, 2, 3, 0, -1, 0, 0],\n",
    "              [0, 0, 2, 6, 0, 0, -2, 0],\n",
    "              [0, 1, 0, 0, 0, 0, 0, 0],\n",
    "              [0, 0, 0, 0, 0, 1, 2, 3]])\n",
    "b_ = np.array([0, 1, 1, 2, 0, 0, 1, 1])\n",
    "x_ = np.linalg.solve(A_, b_)\n",
    "x_"
   ]
  },
  {
   "cell_type": "markdown",
   "id": "4903481c-c37b-42d4-9f0d-1d9a59b2c8f1",
   "metadata": {},
   "source": [
    "## Exo20:"
   ]
  },
  {
   "cell_type": "markdown",
   "id": "19815d0d-2524-4b7e-91e7-0315c4a100f6",
   "metadata": {},
   "source": [
    "The equation of the respective free cubic splines are:\n",
    "$$\n",
    "S(x) = S_i(x) = a_i + b_i(x-x_i)+c_i(x-x_i)^2 + d_i(x-x_i)^3\n",
    "$$\n",
    "for $x$ in $[x_i, x_{i+1}]$."
   ]
  },
  {
   "cell_type": "code",
   "execution_count": 88,
   "id": "7955facd-6f42-4bfe-9da3-7d9034d396da",
   "metadata": {
    "tags": []
   },
   "outputs": [],
   "source": [
    "def reduced_row_echelon_form(matrix):\n",
    "    pivot = 0 # Tracks pivot element index\n",
    "    back_swap = len(matrix)-1 # To move any rows containing zeroes to the end of the matrix\n",
    "    m = len(matrix) # Number of rows\n",
    "    n = len(matrix[0]) # Number of columns\n",
    "\n",
    "    for r in range(m): # Loop through each row\n",
    "        scan_r = r # scan_r allows look-ahead for rows with non-zero pivot\n",
    "        while matrix[scan_r][pivot] == 0: # While the current row has a zero pivot element,\n",
    "            scan_r += 1 # We increment our look-ahead row counter\n",
    "            if scan_r == m: # If we hit the end of the end of the matrix, then we know that all the rows contains a zero at that pivot index.\n",
    "                scan_r = r # So we start from the same row, but now we look for non-zero pivot in the next column.\n",
    "                pivot += 1\n",
    "                if pivot == n: # If pivot == number of columns, stop. We are done. We hit the end of the matrix.\n",
    "                    break\n",
    "        matrix[r], matrix[scan_r] = matrix[scan_r], matrix[r] # scan_r now has the index of non-zero pivot row. Swap raw r with scan_r row.\n",
    "        pivot_element = matrix[r][pivot]  # Get  the pivot element\n",
    "        for i in range(n):  # We divide all the numbers in that row by the pivot element, to make our pivot element = 1\t\n",
    "            matrix[r][i] /= pivot_element\n",
    "        for i in range(m):# Then loop through all the other rows\n",
    "            if i != r: # Ensures we don't reduce the pivot row with pivot row\n",
    "                factor = matrix[i][pivot] # Factor is the number by which we need to multiply our pivot row in order to reduce row i\n",
    "                for j in range(n): # Subtract all the elements in row i by factor * corresponding element in our pivot row\n",
    "                    matrix[i][j] -= factor*matrix[r][j]\n",
    "        pivot += 1\n",
    "    return matrix"
   ]
  },
  {
   "cell_type": "code",
   "execution_count": 158,
   "id": "1af9300d-ca2b-4b06-ab9c-613e1f809469",
   "metadata": {
    "tags": []
   },
   "outputs": [],
   "source": [
    "def natural_cubic_spline(x, y):\n",
    "    n = len(x)\n",
    "    h = [x[i+1] - x[i] for i in range(n-1)]\n",
    "    A = [0] * n # first row in A is [1, 0, 0, ...]\n",
    "    A[0] = [0]*(n+1)\n",
    "    A[0][0] = 1\n",
    "    A[n-1] = [0] * (n+1)\n",
    "    A[n-1][n-1] = 1 # Last row in A is [0, 0, 0, ......, 1]\n",
    "    A[n-1][n] = 0\n",
    "    idx = 0\n",
    "\n",
    "    for i in range(1,n-1):\n",
    "        a = [0] * (n+1)\n",
    "        a[idx] = h[i-1]\n",
    "        a[idx+1] = 2*(h[i-1] + h[i])\n",
    "        a[idx+2] = h[i]\n",
    "        a[n] = 3*((y[i+1]-y[i])/h[i] - (y[i]-y[i-1])/h[i-1])\n",
    "        idx += 1\n",
    "        A[i] = a\n",
    "    reduced = reduced_row_echelon_form(A) # Reduce the augmented matrix A|b to get the c in the last column\n",
    "\n",
    "    b = [0] * (n-1)\n",
    "    c = [0] * (n-1)\n",
    "    d = [0] * (n-1)\n",
    "    for i in range(n-1):\n",
    "        c[i] = reduced[i][-1]\n",
    "        c2 = reduced[i+1][-1]\n",
    "        b[i] = (y[i+1]-y[i])/h[i] - h[i]*(c2 + 2*c[i])/3 # Compute b and d\n",
    "        d[i] = (c2-c[i])/(3*h[i]) \n",
    "\n",
    "    for i in range(n-1): # Print out each equation if requested.\n",
    "        factor = f\"(x{')' if x[i] == 0 else f' - {x[i]:.2f})' }\"\n",
    "        print(f\"S_{i}(x) = \", end='')\n",
    "        if y[i] != 0:\n",
    "            if y[i] < 0:\n",
    "                print(\"-\", end ='')\n",
    "            print(\"%5.4f\" % abs(y[i]), end = ' ')\n",
    "        if b[i] != 0:\n",
    "            print(\"-\" if b[i] < 0 else \"+\", end =' ')\n",
    "            print(\"%5.4f%s\" % (abs(b[i]), factor), end = ' ')\n",
    "        if c[i] != 0:\n",
    "            print(\"-\" if c[i] < 0 else \"+\", end =' ')\n",
    "            print(\"%5.4f%s^2\" % (abs(c[i]), factor), end = ' ')\n",
    "        if d[i] != 0:\n",
    "            print(\"-\" if d[i] < 0 else \"+\", end =' ')\n",
    "            print(\"%5.4f%s^3\" % (abs(d[i]), factor))\n",
    "        print(\"\\n\")\n",
    "    return [y[:(n-1)], b, c, d]"
   ]
  },
  {
   "cell_type": "code",
   "execution_count": 159,
   "id": "8271f2a7-2214-45c0-856b-748182cbfa9d",
   "metadata": {
    "tags": []
   },
   "outputs": [
    {
     "name": "stdout",
     "output_type": "stream",
     "text": [
      "S_0(x) = + 1.0000(x) \n",
      "\n",
      "S_1(x) = 1.0000 + 1.0000(x - 1.00) \n",
      "\n",
      "[[0, 1], [1.0, 1.0], [0.0, 0.0], [0.0, 0.0]]\n"
     ]
    }
   ],
   "source": [
    "## TEST\n",
    "coeff_x = [0, 1, 2]\n",
    "coeff_y = [0, 1, 2]\n",
    "print(natural_cubic_spline(x=coeff_x, y=coeff_y))"
   ]
  },
  {
   "cell_type": "code",
   "execution_count": 259,
   "id": "26772cf1-3914-4128-9ac4-ed19c9829982",
   "metadata": {
    "tags": []
   },
   "outputs": [],
   "source": [
    "## ALGORITHM IN COURSE (FOR NATURAL CUBIC SPLINE) ##\n",
    "# zero vectors\n",
    "def zeroV(m):\n",
    "    z = [0]*m\n",
    "    return(z)\n",
    "\n",
    "#INPUT: n; x0, x1, ... ,xn; a0 = f(x0), a1 =f(x1), ... , an = f(xn).\n",
    "def natural_spline(x, y):\n",
    "    \"\"\"This function interpolates between the knots\n",
    "       specified by lists x and y. The function computes the coefficients\n",
    "       and outputs the solution of possible S(x).\"\"\"          \n",
    "    \n",
    "    n = len(x)\n",
    "    a = y\n",
    "    h = zeroV(n-1)\n",
    "\n",
    "    # alpha will be values in a system of eq's that will allow us to solve for c\n",
    "    # and then from there we can find b, d through substitution.\n",
    "    alpha = zeroV(n-1)\n",
    "\n",
    "    # l, u, z are used in the method for solving the linear system\n",
    "    l = zeroV(n+1)\n",
    "    u = zeroV(n)\n",
    "    z = zeroV(n+1)\n",
    "\n",
    "    # b, c, d will be the coefficients along with a.\n",
    "    b = zeroV(n)     \n",
    "    c = zeroV(n+1)\n",
    "    d = zeroV(n)    \n",
    "\n",
    "    for i in range(n-1):\n",
    "        # h[i] is used to satisfy the condition that \n",
    "        # Si+1(xi+l) = Si(xi+l) for each i = 0,..,n-1\n",
    "        # i.e., the values at the knots are \"doubled up\"\n",
    "        h[i] = x[i+1]-x[i]  \n",
    "\n",
    "    for i in range(1, n-1):\n",
    "        # Sets up the linear system and allows us to find c.  Once we have \n",
    "        # c then b and d follow in terms of it.\n",
    "        alpha[i] = (3./h[i])*(a[i+1]-a[i])-(3./h[i-1])*(a[i] - a[i-1])\n",
    "\n",
    "    # I, II, (part of) III Sets up and solves tridiagonal linear system...\n",
    "    # I   \n",
    "    l[0] = 1      \n",
    "    u[0] = 0      \n",
    "    z[0] = 0\n",
    "\n",
    "    # II\n",
    "    for i in range(1, n-1):\n",
    "        l[i] = 2*(x[i+1] - x[i-1]) - h[i-1]*u[i-1]\n",
    "        u[i] = h[i]/l[i]\n",
    "        z[i] = (alpha[i] - h[i-1]*z[i-1])/l[i]\n",
    "\n",
    "    l[n] = 1\n",
    "    z[n] = 0\n",
    "    c[n] = 0\n",
    "\n",
    "    # III... also find b, d in terms of c.\n",
    "    for j in range(n-2, -1, -1):      \n",
    "        c[j] = z[j] - u[j]*c[j+1]\n",
    "        b[j] = (a[j+1] - a[j])/h[j] - h[j]*(c[j+1] + 2*c[j])/3.\n",
    "        d[j] = (c[j+1] - c[j])/(3*h[j]) \n",
    "        \n",
    "    for i in range(n-1): # Print out each equation if requested.\n",
    "        factor = f\"(x{')' if x[i] == 0 else f' - {x[i]:.2f})' }\"\n",
    "        print(f\"S_{i}(x) = \", end='')\n",
    "        if y[i] != 0:\n",
    "            if y[i] < 0:\n",
    "                print(\"-\", end ='')\n",
    "            print(\"%5.4f\" % abs(y[i]), end = ' ')\n",
    "        if b[i] != 0:\n",
    "            print(\"-\" if b[i] < 0 else \"+\", end =' ')\n",
    "            print(\"%5.4f%s\" % (abs(b[i]), factor), end = ' ')\n",
    "        if c[i] != 0:\n",
    "            print(\"-\" if c[i] < 0 else \"+\", end =' ')\n",
    "            print(\"%5.4f%s^2\" % (abs(c[i]), factor), end = ' ')\n",
    "        if d[i] != 0:\n",
    "            print(\"-\" if d[i] < 0 else \"+\", end =' ')\n",
    "            print(\"%5.4f%s^3\" % (abs(d[i]), factor))\n",
    "        print(\"\\n\")\n",
    "        \n",
    "    return [y[:(n-1)], b[:(n-1)], c[:(n-1)], d[:(n-1)]]"
   ]
  },
  {
   "cell_type": "code",
   "execution_count": 262,
   "id": "2a16fe61-4baf-4a61-be97-510209de6d3d",
   "metadata": {
    "tags": []
   },
   "outputs": [
    {
     "name": "stdout",
     "output_type": "stream",
     "text": [
      "S_0(x) = + 1.0000(x) \n",
      "\n",
      "S_1(x) = 1.0000 + 1.0000(x - 1.00) \n",
      "\n",
      "[[0, 1], [1.0, 1.0], [0.0, 0.0], [0.0, 0.0]]\n"
     ]
    }
   ],
   "source": [
    "## TEST\n",
    "coeff_x = [0, 1, 2]\n",
    "coeff_y = [0, 1, 2]\n",
    "print(natural_spline(x=coeff_x, y=coeff_y))"
   ]
  },
  {
   "cell_type": "markdown",
   "id": "85709132-1b1c-47ca-88be-f8e2daecb6d7",
   "metadata": {
    "tags": []
   },
   "source": [
    "## (a)."
   ]
  },
  {
   "cell_type": "code",
   "execution_count": 263,
   "id": "043a50b5-ff40-48f2-8fac-f2bcb1aba402",
   "metadata": {
    "tags": []
   },
   "outputs": [
    {
     "name": "stdout",
     "output_type": "stream",
     "text": [
      "S_0(x) = 0.2236 + 2.1723(x - 0.80) \n",
      "\n",
      "[[0.22363362], [2.1722917500000003], [0.0], [0.0]]\n"
     ]
    }
   ],
   "source": [
    "coeff_x = [0.8, 1.0]\n",
    "coeff_y = [0.22363362, 0.65809197]\n",
    "print(natural_cubic_spline(x=coeff_x, y=coeff_y))"
   ]
  },
  {
   "cell_type": "markdown",
   "id": "2ccc57ab-6da3-4598-926c-bebe880fb1f9",
   "metadata": {},
   "source": [
    "## (b)."
   ]
  },
  {
   "cell_type": "code",
   "execution_count": 121,
   "id": "9e05ab9c-c22a-4fc1-bfa3-89f60cab9ac0",
   "metadata": {
    "tags": []
   },
   "outputs": [
    {
     "name": "stdout",
     "output_type": "stream",
     "text": [
      "S_0(x) = -0.6205 + 3.4551(x - 0.10) - 8.9958(x - 0.10)^3\n",
      "\n",
      "\n",
      "S_1(x) = -0.2840 + 3.1852(x - 0.20) - 2.6987(x - 0.20)^2 - 0.9463(x - 0.20)^3\n",
      "\n",
      "\n",
      "S_2(x) = 0.0066 + 2.6171(x - 0.30) - 2.9826(x - 0.30)^2 + 9.9421(x - 0.30)^3\n",
      "\n",
      "\n",
      "[[-0.62049958, -0.28398668, 0.00660095], [3.455086933333334, 3.185213133333334, 2.617076433333333], [0.0, -2.6987379999999974, -2.982629000000011], [-8.995793333333323, -0.9463033333333783, 9.9420966666667]]\n"
     ]
    }
   ],
   "source": [
    "coeff_x = [0.1, 0.2, 0.3, 0.4]\n",
    "coeff_y = [-0.62049958, -0.28398668, 0.00660095, 0.24842440]\n",
    "print(natural_cubic_spline(x=coeff_x, y=coeff_y))"
   ]
  },
  {
   "cell_type": "markdown",
   "id": "987e1305-c5a2-4b3d-a9b2-e04bd1896fab",
   "metadata": {},
   "source": [
    "## Exo21:"
   ]
  },
  {
   "cell_type": "markdown",
   "id": "e31dc65e-2a4a-45fc-8cff-326dbf787cac",
   "metadata": {},
   "source": [
    "We denote the function in $[0,1]$ by $f_1(x)$ and the function in $[1,2]$ by $f_2(x)$. We then have\n",
    "$$\n",
    "\\begin{aligned}\n",
    "f_1(x) & = S_0(x)=1 + 2x - x^3, \\\\\n",
    "f_1^{\\prime}(x) & =2 - 3x^2, \\\\\n",
    "f_1^{\\prime \\prime}(x) & = -6 x, \\\\\n",
    "f_2(x) & = S_1(x) = 2 + b(x-1)+c(x-1)^2+d(x-1)^3, \\\\\n",
    "f_2^{\\prime}(x) & =b + 2c(x-1)+3d(x-1)^2, \\\\\n",
    "f_2^{\\prime \\prime}(x) & =2 c+6d(x-1) \n",
    "\\end{aligned}\n",
    "$$\n",
    "For $S(x)$ to be a natural spline, the second derivative at the first node $(x=0)$ and at the last node $(x=2)$\n",
    "should be 0. That is $f_1^{\\prime \\prime}(0)=0$ and $f_2^{\\prime \\prime}(2)=0$, which implies that $2c + 6d=0$.\n",
    "\n",
    "The continuity of $S(x)$ at $x=1$ implies that:\n",
    "$$\n",
    "f_1(1)=f_2(1) \\Longleftrightarrow 2=2 \\quad \\text{(True)}\n",
    "$$\n",
    "The continuity of $S^{\\prime}(x)$ at $x=1$ implies that:\n",
    "$$\n",
    "f_1^{\\prime}(1)=f_2^{\\prime}(1) \\Longleftrightarrow b=-1\n",
    "$$\n",
    "Finally, the continuity of $S^{\\prime \\prime}(x)$ at $x=1$ implies that\n",
    "$$\n",
    "f_1^{\\prime \\prime}(1) = f_2^{\\prime \\prime}(1) \\Longleftrightarrow c=-3\n",
    "$$\n",
    "Thus, these equations are satisfies when $b=-1, c=-3$, and $d=1$."
   ]
  },
  {
   "cell_type": "markdown",
   "id": "05d68288-de2f-444a-9943-647c9f78c3cc",
   "metadata": {},
   "source": [
    "## Exo22:"
   ]
  },
  {
   "cell_type": "markdown",
   "id": "f90a035b-a1f5-49db-8e35-04c9c7909381",
   "metadata": {},
   "source": [
    "We denote the function in $[1,2]$ by $f_1(x)$ and the function in $[2,3]$ by $f_2(x)$. We then have\n",
    "$$\n",
    "\\begin{aligned}\n",
    "f_1(x) & = S_0(x) = 3(x-1) + 2(x-1)^2 - (x-1)^3, \\\\\n",
    "f_1^{\\prime}(x) & =3 + 4(x-1) - 3(x-1)^2, \\\\\n",
    "f_1^{\\prime \\prime}(x) & = 4 - 6(x-1), \\\\\n",
    "f_2(x) & = S_1(x) = a + b(x-2) + c(x-2)^2 + d(x-2)^3, \\\\\n",
    "f_2^{\\prime}(x) & = b + 2c(x-2)+3d(x-2)^2, \\\\\n",
    "f_2^{\\prime \\prime}(x) & = 2 c + 6d(x-2) \n",
    "\\end{aligned}\n",
    "$$\n",
    "For $S(x)$ to be a clamped spline, we have $f_1^{\\prime }(1)=f_2^{\\prime }(3)$ , which implies that $b+2c + 3d=3$.\n",
    "\n",
    "The continuity of $S(x)$ at $x=2$ implies that:\n",
    "$$\n",
    "f_1(2)=f_2(2) \\Longleftrightarrow a = 4 \n",
    "$$\n",
    "The continuity of $S^{\\prime}(x)$ at $x=2$ implies that:\n",
    "$$\n",
    "f_1^{\\prime}(2)=f_2^{\\prime}(2) \\Longleftrightarrow b=4\n",
    "$$\n",
    "Finally, the continuity of $S^{\\prime \\prime}(x)$ at $x=2$ implies that:\n",
    "$$\n",
    "f_1^{\\prime \\prime}(2) = f_2^{\\prime \\prime}(2) \\Longleftrightarrow c=-1\n",
    "$$\n",
    "Thus, these equations are satisfies when $a=4, b=4, c=-1$, and $d=\\frac{1}{3}$."
   ]
  },
  {
   "cell_type": "markdown",
   "id": "566beaa2-1dc2-40a7-92fd-a6509bb73913",
   "metadata": {},
   "source": [
    "## Exo23:"
   ]
  },
  {
   "cell_type": "code",
   "execution_count": 254,
   "id": "95b7786e-cb42-4e97-95e9-7f7abd6d8366",
   "metadata": {
    "tags": []
   },
   "outputs": [],
   "source": [
    "## ALGORITHM IN COURSE (FOR CLAMPED CUBIC SPLINE) ##\n",
    "\n",
    "#INPUT: n; x0, x1, ... ,xn; a0 = f(x0), a1 =f(x1), ... , an = f(xn), FPO=f'(x0), FPN=f'(xn).\n",
    "def clamped_cubic_spline(x, y, FPO, FPN):\n",
    "    \"\"\"This function interpolates between the knots\n",
    "       specified by lists x and y. The function computes the coefficients\n",
    "       and outputs the solution of possible S(x).\"\"\"        \n",
    "    \n",
    "    n = len(x)\n",
    "    a = y\n",
    "    h = zeroV(n-1)\n",
    "\n",
    "    # alpha will be values in a system of eq's that will allow us to solve for c\n",
    "    # and then from there we can find b, d through substitution.\n",
    "    alpha = zeroV(n)\n",
    "\n",
    "    # l, u, z are used in the method for solving the linear system\n",
    "    l = zeroV(n+1)\n",
    "    u = zeroV(n)\n",
    "    z = zeroV(n+1)\n",
    "\n",
    "    # b, c, d will be the coefficients along with a.\n",
    "    b = zeroV(n)     \n",
    "    c = zeroV(n+1)\n",
    "    d = zeroV(n)    \n",
    "\n",
    "    for i in range(n-1):\n",
    "        # h[i] is used to satisfy the condition that \n",
    "        # Si+1(xi+l) = Si(xi+l) for each i = 0,..,n-1\n",
    "        # i.e., the values at the knots are \"doubled up\"\n",
    "        h[i] = x[i+1]-x[i]  \n",
    "        \n",
    "    alpha[0] = 3*(a[1] - a[0])/h[0] - 3*FPO\n",
    "    alpha[n-1] = 3*FPN - 3*(a[n-1] - a[n-2])/h[n-2]\n",
    "\n",
    "    for i in range(1, n-1):\n",
    "        # Sets up the linear system and allows us to find c.  Once we have \n",
    "        # c then b and d follow in terms of it.\n",
    "        alpha[i] = (3./h[i])*(a[i+1]-a[i])-(3./h[i-1])*(a[i] - a[i-1])\n",
    "\n",
    "    # I, II, (part of) III Sets up and solves tridiagonal linear system...\n",
    "    # I   \n",
    "    l[0] = 2*h[0]     \n",
    "    u[0] = 0.5      \n",
    "    z[0] = alpha[0]/l[0]\n",
    "\n",
    "    # II\n",
    "    for i in range(1, n-1):\n",
    "        l[i] = 2*(x[i+1] - x[i-1]) - h[i-1]*u[i-1]\n",
    "        u[i] = h[i]/l[i]\n",
    "        z[i] = (alpha[i] - h[i-1]*z[i-1])/l[i]\n",
    "\n",
    "    l[n] = h[n-2]*(2-u[n-2])\n",
    "    z[n] = (alpha[n-1] - h[n-2]*z[n-2])/l[n]\n",
    "    c[n] = z[n]\n",
    "\n",
    "    # III... also find b, d in terms of c.\n",
    "    for j in range(n-2, -1, -1):      \n",
    "        c[j] = z[j] - u[j]*c[j+1]\n",
    "        b[j] = (a[j+1] - a[j])/h[j] - h[j]*(c[j+1] + 2*c[j])/3.\n",
    "        d[j] = (c[j+1] - c[j])/(3*h[j]) \n",
    "        \n",
    "    for i in range(n-1): # Print out each equation if requested.\n",
    "        factor = f\"(x{')' if x[i] == 0 else f' - {x[i]:.2f})' }\"\n",
    "        print(f\"s_{i}(x) = \", end='')\n",
    "        if y[i] != 0:\n",
    "            if y[i] < 0:\n",
    "                print(\"-\", end ='')\n",
    "            print(\"%5.4f\" % abs(y[i]), end = ' ')\n",
    "        if b[i] != 0:\n",
    "            print(\"-\" if b[i] < 0 else \"+\", end =' ')\n",
    "            print(\"%5.4f%s\" % (abs(b[i]), factor), end = ' ')\n",
    "        if c[i] != 0:\n",
    "            print(\"-\" if c[i] < 0 else \"+\", end =' ')\n",
    "            print(\"%5.4f%s^2\" % (abs(c[i]), factor), end = ' ')\n",
    "        if d[i] != 0:\n",
    "            print(\"-\" if d[i] < 0 else \"+\", end =' ')\n",
    "            print(\"%5.4f%s^3\" % (abs(d[i]), factor))\n",
    "        print(\"\\n\")\n",
    "        \n",
    "    return [y[:(n-1)], b[:(n-1)], c[:(n-1)], d[:(n-1)]]"
   ]
  },
  {
   "cell_type": "code",
   "execution_count": 255,
   "id": "5d8f472d-bf83-405a-ac53-a596af534672",
   "metadata": {
    "tags": []
   },
   "outputs": [
    {
     "name": "stdout",
     "output_type": "stream",
     "text": [
      "s_0(x) = + 1.0000(x) \n",
      "\n",
      "s_1(x) = 1.0000 + 1.0000(x - 1.00) \n",
      "\n",
      "[[0, 1], [1.0, 1.0], [0.0, 0.0], [0.0, 0.0]]\n"
     ]
    }
   ],
   "source": [
    "## TEST\n",
    "coeff_x = [0, 1, 2]\n",
    "coeff_y = [0, 1, 2]\n",
    "print(clamped_cubic_spline(x=coeff_x, y=coeff_y, FPO=1, FPN=1))"
   ]
  },
  {
   "cell_type": "markdown",
   "id": "f7a99d09-30a6-4107-99a3-d9e3622016f9",
   "metadata": {},
   "source": [
    "## (a)."
   ]
  },
  {
   "cell_type": "markdown",
   "id": "2f76b0ba-f49a-4126-96fd-8bb5fef93780",
   "metadata": {},
   "source": [
    "Use a clamped cubic spline to predict the position of the car and its speed when $t = 10s$."
   ]
  },
  {
   "cell_type": "markdown",
   "id": "6bc81f87-bfd9-47e4-90eb-8d92347a946b",
   "metadata": {},
   "source": [
    "The equation of the clamped cubic splines are given by:\n",
    "$$\n",
    "s(x) = s_i(x) = a_i + b_i(x-x_i)+c_i(x-x_i)^2 + d_i(x-x_i)^3\n",
    "$$\n",
    "for $x$ in $[x_i, x_{i+1}]$."
   ]
  },
  {
   "cell_type": "code",
   "execution_count": 241,
   "id": "e2df3b04-cbd5-479a-b11d-178aa61c9a9f",
   "metadata": {
    "tags": []
   },
   "outputs": [
    {
     "name": "stdout",
     "output_type": "stream",
     "text": [
      "s_0(x) = + 75.0000(x) - 0.6593(x)^2 + 0.2198(x)^3\n",
      "\n",
      "\n",
      "s_1(x) = 225.0000 + 76.9779(x - 3.00) + 1.3186(x - 3.00)^2 - 0.1538(x - 3.00)^3\n",
      "\n",
      "\n",
      "s_2(x) = 383.0000 + 80.4071(x - 5.00) + 0.3961(x - 5.00)^2 - 0.1773(x - 5.00)^3\n",
      "\n",
      "\n",
      "s_3(x) = 623.0000 + 77.9975(x - 8.00) - 1.1993(x - 8.00)^2 + 0.0800(x - 8.00)^3\n",
      "\n",
      "\n",
      "[[0, 225, 383, 623], [75.0, 76.97785977859779, 80.4071340713407, 77.99753997539976], [-0.6592865928659287, 1.3185731857318574, 0.3960639606396064, -1.1992619926199264], [0.21976219762197624, -0.15375153751537518, -0.1772584392510592, 0.0799507995079951]]\n"
     ]
    }
   ],
   "source": [
    "coeff_x = [0, 3, 5, 8, 13]\n",
    "coeff_y = [0, 225, 383, 623, 993]\n",
    "print(clamped_cubic_spline(x=coeff_x, y=coeff_y, FPO=75, FPN=72))"
   ]
  },
  {
   "cell_type": "markdown",
   "id": "0da2ef02-84f2-4984-82cf-997cafeab421",
   "metadata": {},
   "source": [
    "We obatain then:\n",
    "$$\n",
    "s_3(x) = 623.0000 + 77.9975(x - 8.00) - 1.1993(x - 8.00)^2 + 0.0800(x - 8.00)^3 \\quad \\text{for} \\quad x \\in [8,13]\n",
    "$$\n",
    "And \n",
    "$$\n",
    "s^{\\prime}_3(x) = 77.9975 - 2.3986(x - 8.00) + 0.24(x - 8.00)^2 \\quad \\text{for} \\quad x \\in [8,13]\n",
    "$$\n",
    "So that: $s_3(10)=774.8378$ and $s^{\\prime}_3(10) = 74.16029999999999$.\n",
    "\n",
    "Therefore, the clamped cubic spline predicts the position of the car and its speed when $t = 10s$ with $s_3(10)=774.84$ ft and the speed of $s^{\\prime}_3(x) = 74.16$ ft/s."
   ]
  },
  {
   "cell_type": "code",
   "execution_count": 242,
   "id": "34c213d4-42b1-45dc-96c8-43f6ab9c1793",
   "metadata": {
    "tags": []
   },
   "outputs": [
    {
     "name": "stdout",
     "output_type": "stream",
     "text": [
      "774.8378\n",
      "74.16029999999999\n"
     ]
    }
   ],
   "source": [
    "S_3 = lambda x: 623.0000 + 77.9975*(x - 8.00) - 1.1993*(x - 8.00)**2 + 0.0800*(x - 8.00)**3\n",
    "S_prime_3 = lambda x: 77.9975 - 2.3986*(x - 8.00) + 0.24*(x - 8.00)**2\n",
    "print(S_3(10))\n",
    "print(S_prime_3(10))"
   ]
  },
  {
   "cell_type": "markdown",
   "id": "fceb0d12-5797-43eb-bd4b-8c62dc25b60d",
   "metadata": {},
   "source": [
    "## (b)."
   ]
  },
  {
   "cell_type": "markdown",
   "id": "d57a5f94-c408-48d1-b8fb-49396dee93d0",
   "metadata": {},
   "source": [
    "Use the derivative of the spline to determine whether the car ever exceeds a 55mi/h speed limit on the road; if so, what is the first time the car exceeds this speed?"
   ]
  },
  {
   "cell_type": "markdown",
   "id": "f3885b9c-cd12-421a-931b-d585ccb42d6a",
   "metadata": {},
   "source": [
    "First, let's take a look at the speed in mi/h. Note that the formula to convert from ft/s to mi/h is given by:\n",
    "\n",
    "mi/h = ft/s $\\times 0.681818$"
   ]
  },
  {
   "cell_type": "markdown",
   "id": "260d3c5f-d9bf-443d-bc5a-d23ecdcc9c8d",
   "metadata": {},
   "source": [
    "\\begin{array}{|c|c|c|c|c|c|}\n",
    "\\hline \\text{Time} & 0 & 3  & 5 & 8 & 13 \\\\\n",
    "\\hline \\text{Distance} & 0 & 225 & 383 & 623 & 993 \\\\\n",
    "\\hline \\text{Speed (mi/h)}  & 51.13635 & 52.499986 & 54.54544 & 50.454532 & 49.090896 \\\\\n",
    "\\hline\n",
    "\\end{array}"
   ]
  },
  {
   "cell_type": "code",
   "execution_count": 264,
   "id": "d429418a-daa8-4c6d-b8f2-a97353c3b8f1",
   "metadata": {
    "tags": []
   },
   "outputs": [
    {
     "name": "stdout",
     "output_type": "stream",
     "text": [
      "[51.13635, 52.499986, 54.54544, 50.454532, 49.090896]\n"
     ]
    }
   ],
   "source": [
    "def ft_s_TO_mi_h(x):\n",
    "    return x*0.681818\n",
    "list_speed_ft_s = [75, 77, 80, 74, 72]\n",
    "list_speed_mi_h = [ft_s_TO_mi_h(s) for s in list_speed_ft_s]\n",
    "print(list_speed_mi_h)"
   ]
  },
  {
   "cell_type": "markdown",
   "id": "0cd15e5b-98cd-448a-b056-16550d725301",
   "metadata": {},
   "source": [
    "To maximize the speed, we find the single critical point of $s^{\\prime}(x)$, and compare the values of $s(x)$ at this point and the endpoint."
   ]
  },
  {
   "cell_type": "markdown",
   "id": "35bca40f-6b2f-47a6-a897-1fb9c3b034ad",
   "metadata": {},
   "source": [
    "By using the table above, we will use the function $s_2(x)$ and we will find the critical point of the speed $s'_2(x)$ using the classical method, $s''_{2}(x)=0$. We have:\n",
    "$$\n",
    "s_2(x) = 383.0000 + 80.4071(x - 5.00) + 0.3961(x - 5.00)^2 - 0.1773(x - 5.00)^3\n",
    "$$\n",
    "So that:\n",
    "$$\n",
    "s'_2(x) = 80.4071+ 0.7922(x - 5.00) - 0.5319(x - 5.00)^2\n",
    "$$\n",
    "And\n",
    "$$\n",
    "s''_2(x) =0.7922 - 1.0638(x - 5.00)\n",
    "$$\n",
    "Since $s''_{2}(x)=0$, it implies that $x=5.745$.\n",
    "\n",
    "We obtain then: $s'_2(5.745)=80.7$ ft/s $=55.024$ mi/h.\n",
    "\n",
    "Therefore, we conclude that the speed $55$ mi/h was first exceeded at approximately $5.5 s$."
   ]
  },
  {
   "cell_type": "code",
   "execution_count": 244,
   "id": "8b691cb0-c3df-49d1-a86d-3a43f64efb12",
   "metadata": {
    "tags": []
   },
   "outputs": [
    {
     "name": "stdout",
     "output_type": "stream",
     "text": [
      "443.04982248278753\n",
      "80.7020712025\n",
      "55.02412478314614\n"
     ]
    }
   ],
   "source": [
    "s_2 = lambda x: 383.0000 + 80.4071*(x - 5.00) + 0.3961*(x - 5.00)**2 - 0.1773*(x - 5.00)**3\n",
    "s_prime_2 = lambda x: 80.4071+ 0.7922*(x - 5.00) - 0.5319*(x - 5.00)**2\n",
    "print(s_2(5.745))\n",
    "print(s_prime_2(5.745))\n",
    "print(ft_s_TO_mi_h(s_prime_2(5.745)))"
   ]
  },
  {
   "cell_type": "markdown",
   "id": "774468ed-6753-4626-8864-5eb9788ff057",
   "metadata": {},
   "source": [
    "## (c)."
   ]
  },
  {
   "cell_type": "markdown",
   "id": "e83488cf-866c-4cdb-8312-540bca2f536e",
   "metadata": {},
   "source": [
    "The predicted maximum speed for the car is:  $s'_2(5.745)=80.7$ ft/s $=55.024$ mi/h."
   ]
  },
  {
   "cell_type": "markdown",
   "id": "bcbc30e0-0297-4ce8-b4a4-d2bca57ce237",
   "metadata": {},
   "source": [
    "## Exo24:"
   ]
  },
  {
   "cell_type": "code",
   "execution_count": 245,
   "id": "af9660d5-e954-4be4-853a-a5fb8646a9c5",
   "metadata": {
    "tags": []
   },
   "outputs": [
    {
     "name": "stdout",
     "output_type": "stream",
     "text": [
      "For Curve 1 (Clamped Cubic Spline 1):\n",
      "s_0(x) = 3.0000 + 1.0000(x - 1.00) - 0.3468(x - 1.00)^2 + 0.0468(x - 1.00)^3\n",
      "\n",
      "\n",
      "s_1(x) = 3.7000 + 0.4468(x - 2.00) - 0.2064(x - 2.00)^2 + 0.0266(x - 2.00)^3\n",
      "\n",
      "\n",
      "s_2(x) = 3.9000 - 0.0745(x - 5.00) + 0.0326(x - 5.00)^2 + 0.3419(x - 5.00)^3\n",
      "\n",
      "\n",
      "s_3(x) = 4.2000 + 1.0163(x - 6.00) + 1.0582(x - 6.00)^2 - 0.5745(x - 6.00)^3\n",
      "\n",
      "\n",
      "s_4(x) = 5.7000 + 1.4091(x - 7.00) - 0.6654(x - 7.00)^2 + 0.1562(x - 7.00)^3\n",
      "\n",
      "\n",
      "s_5(x) = 6.6000 + 0.5471(x - 8.00) - 0.1967(x - 8.00)^2 + 0.0241(x - 8.00)^3\n",
      "\n",
      "\n",
      "s_6(x) = 7.1000 + 0.0492(x - 10.00) - 0.0522(x - 10.00)^2 - 0.0029(x - 10.00)^3\n",
      "\n",
      "\n",
      "s_7(x) = 6.7000 - 0.3418(x - 13.00) - 0.0781(x - 13.00)^2 + 0.0065(x - 13.00)^3\n",
      "\n",
      "\n",
      "[[3, 3.7, 3.9, 4.2, 5.7, 6.6, 7.1, 6.7], [1.0, 0.44680946969363283, -0.07447575754906177, 1.0163321968996213, 1.4091469699505779, 0.5470799232980652, 0.04922652031044922, -0.34175248649934364], [-0.34680946969363236, -0.20638106061273476, 0.03261931819850325, 1.0581886362501796, -0.6653738631992229, -0.1966931834532899, -0.052233518040518116, -0.07809281756274616], [0.04680946969363253, 0.02655559764569311, 0.34185643935055876, -0.5745208331498008, 0.15622689324864433, 0.02407661090212863, -0.002873255502469783, 0.006507734796895513]]\n"
     ]
    }
   ],
   "source": [
    "print(\"For Curve 1 (Clamped Cubic Spline 1):\")\n",
    "coeff_x = [1, 2, 5, 6, 7, 8, 10, 13, 17]\n",
    "coeff_y = [3, 3.7, 3.9, 4.2, 5.7, 6.6, 7.1, 6.7, 4.5]\n",
    "print(clamped_cubic_spline(x=coeff_x, y=coeff_y, FPO=1, FPN=-0.67))"
   ]
  },
  {
   "cell_type": "code",
   "execution_count": 246,
   "id": "ed640820-ec31-462f-a9c3-950cf548cbf1",
   "metadata": {
    "tags": []
   },
   "outputs": [
    {
     "name": "stdout",
     "output_type": "stream",
     "text": [
      "For Curve 2 (Clamped Cubic Spline 2):\n",
      "s_0(x) = 4.5000 + 3.0000(x - 17.00) - 1.0993(x - 17.00)^2 + 0.1257(x - 17.00)^3\n",
      "\n",
      "\n",
      "s_1(x) = 7.0000 - 0.2021(x - 20.00) + 0.0319(x - 20.00)^2 - 0.0215(x - 20.00)^3\n",
      "\n",
      "\n",
      "s_2(x) = 6.1000 - 0.5915(x - 23.00) - 0.1617(x - 23.00)^2 + 0.2532(x - 23.00)^3\n",
      "\n",
      "\n",
      "s_3(x) = 5.6000 - 0.1552(x - 24.00) + 0.5980(x - 24.00)^2 - 0.2428(x - 24.00)^3\n",
      "\n",
      "\n",
      "s_4(x) = 5.8000 + 0.3125(x - 25.00) - 0.1303(x - 25.00)^2 - 0.0880(x - 25.00)^3\n",
      "\n",
      "\n",
      "s_5(x) = 5.2000 - 1.2643(x - 27.00) - 0.6581(x - 27.00)^2 + 0.3134(x - 27.00)^3\n",
      "\n",
      "\n",
      "[[4.5, 7, 6.1, 5.6, 5.8, 5.2], [3.0, -0.20211961050923294, -0.5915215579630686, -0.15523597526207294, 0.3124654590113607, -1.264320803544017], [-1.099293463163589, 0.03192025966051137, -0.1617209088117899, 0.5980064915127856, -0.13030505723935193, -0.6580880740383369], [0.12569041364712225, -0.021515685385811254, 0.2532424667748585, -0.24277051625071253, -0.08796383613316416, 0.3133752733515893]]\n"
     ]
    }
   ],
   "source": [
    "print(\"For Curve 2 (Clamped Cubic Spline 2):\")\n",
    "coeff_x = [17, 20, 23, 24, 25, 27, 27.7]\n",
    "coeff_y = [4.5, 7, 6.1, 5.6, 5.8, 5.2, 4.1]\n",
    "print(clamped_cubic_spline(x=coeff_x, y=coeff_y, FPO=3, FPN=-4))"
   ]
  },
  {
   "cell_type": "code",
   "execution_count": 247,
   "id": "ba03fccf-5897-4b8a-ac0f-d22eab6c8f52",
   "metadata": {
    "tags": []
   },
   "outputs": [
    {
     "name": "stdout",
     "output_type": "stream",
     "text": [
      "For Curve 3 (Clamped Cubic Spline 3):\n",
      "s_0(x) = 4.1000 + 0.3300(x - 27.70) + 2.2356(x - 27.70)^2 - 3.7113(x - 27.70)^3\n",
      "\n",
      "\n",
      "s_1(x) = 4.3000 + 0.6693(x - 28.00) - 1.1045(x - 28.00)^2 + 0.2352(x - 28.00)^3\n",
      "\n",
      "\n",
      "s_2(x) = 4.1000 - 0.8341(x - 29.00) - 0.3989(x - 29.00)^2 + 0.1330(x - 29.00)^3\n",
      "\n",
      "\n",
      "[[4.1, 4.3, 4.1], [0.33, 0.6693181818181805, -0.8340909090909087], [2.2356060606060506, -1.1045454545454527, -0.3988636363636365], [-3.7112794612794393, 0.2352272727272721, 0.1329545454545455]]\n"
     ]
    }
   ],
   "source": [
    "print(\"For Curve 3 (Clamped Cubic Spline 3):\")\n",
    "coeff_x = [27.7, 28, 29, 30]\n",
    "coeff_y = [4.1, 4.3, 4.1, 3]\n",
    "print(clamped_cubic_spline(x=coeff_x, y=coeff_y, FPO=0.33, FPN=-1.5))"
   ]
  },
  {
   "cell_type": "markdown",
   "id": "90a521bd-6b22-4cae-b586-40a0d1f270a4",
   "metadata": {},
   "source": [
    "## Exo25:"
   ]
  },
  {
   "cell_type": "code",
   "execution_count": 248,
   "id": "abb0a544-3f86-47ed-b3d5-1a32712325fa",
   "metadata": {
    "tags": []
   },
   "outputs": [
    {
     "name": "stdout",
     "output_type": "stream",
     "text": [
      "For Curve 1 (Natural Cubic Spline 1):\n",
      "S_0(x) = 3.0000 + 0.7857(x - 1.00) - 0.0857(x - 1.00)^3\n",
      "\n",
      "\n",
      "S_1(x) = 3.7000 + 0.5286(x - 2.00) - 0.2571(x - 2.00)^2 + 0.0344(x - 2.00)^3\n",
      "\n",
      "\n",
      "S_2(x) = 3.9000 - 0.0858(x - 5.00) + 0.0523(x - 5.00)^2 + 0.3335(x - 5.00)^3\n",
      "\n",
      "\n",
      "S_3(x) = 4.2000 + 1.0194(x - 6.00) + 1.0529(x - 6.00)^2 - 0.5723(x - 6.00)^3\n",
      "\n",
      "\n",
      "S_4(x) = 5.7000 + 1.4083(x - 7.00) - 0.6640(x - 7.00)^2 + 0.1557(x - 7.00)^3\n",
      "\n",
      "\n",
      "S_5(x) = 6.6000 + 0.5474(x - 8.00) - 0.1969(x - 8.00)^2 + 0.0241(x - 8.00)^3\n",
      "\n",
      "\n",
      "S_6(x) = 7.1000 + 0.0491(x - 10.00) - 0.0522(x - 10.00)^2 - 0.0029(x - 10.00)^3\n",
      "\n",
      "\n",
      "S_7(x) = 6.7000 - 0.3417(x - 13.00) - 0.0781(x - 13.00)^2 + 0.0065(x - 13.00)^3\n",
      "\n",
      "\n",
      "[[3, 3.7, 3.9, 4.2, 5.7, 6.6, 7.1, 6.7], [0.78570442264633, 0.5285911547073402, -0.08584250559771212, 1.0193829633581195, 1.4083106521652347, 0.54737442798094, 0.049132127783886814, -0.34172228089084367], [0.0, -0.2571132679389896, 0.05230204783730551, 1.052923421118526, -0.6639957323114111, -0.19694049187288346, -0.052180658225643176, -0.07810414466593364], [-0.08570442264632987, 0.034379479530699454, 0.33354045776040686, -0.5723063844766457, 0.15568508014617588, 0.024126638941206712, -0.002880387382254496, 0.006508678722161137]]\n"
     ]
    }
   ],
   "source": [
    "print(\"For Curve 1 (Natural Cubic Spline 1):\")\n",
    "coeff_x = [1, 2, 5, 6, 7, 8, 10, 13, 17]\n",
    "coeff_y = [3, 3.7, 3.9, 4.2, 5.7, 6.6, 7.1, 6.7, 4.5]\n",
    "print(natural_cubic_spline(x=coeff_x, y=coeff_y))"
   ]
  },
  {
   "cell_type": "code",
   "execution_count": 249,
   "id": "85284056-f4df-416e-956e-fca62abefc4e",
   "metadata": {
    "tags": []
   },
   "outputs": [
    {
     "name": "stdout",
     "output_type": "stream",
     "text": [
      "For Curve 2 (Natural Cubic Spline 2):\n",
      "S_0(x) = 4.5000 + 1.1057(x - 17.00) - 0.0303(x - 17.00)^3\n",
      "\n",
      "\n",
      "S_1(x) = 7.0000 + 0.2885(x - 20.00) - 0.2724(x - 20.00)^2 + 0.0254(x - 20.00)^3\n",
      "\n",
      "\n",
      "S_2(x) = 6.1000 - 0.6599(x - 23.00) - 0.0437(x - 23.00)^2 + 0.2036(x - 23.00)^3\n",
      "\n",
      "\n",
      "S_3(x) = 5.6000 - 0.1366(x - 24.00) + 0.5670(x - 24.00)^2 - 0.2305(x - 24.00)^3\n",
      "\n",
      "\n",
      "S_4(x) = 5.8000 + 0.3061(x - 25.00) - 0.1244(x - 25.00)^2 - 0.0893(x - 25.00)^3\n",
      "\n",
      "\n",
      "S_5(x) = 5.2000 - 1.2633(x - 27.00) - 0.6603(x - 27.00)^2 + 0.3144(x - 27.00)^3\n",
      "\n",
      "\n",
      "[[4.5, 7, 6.1, 5.6, 5.8, 5.2], [1.1057343776079311, 0.2885312447841381, -0.6598593567444835, -0.13655213027609037, 0.30606787784884537, -1.2633030065408895], [0.0, -0.2724010442745977, -0.043729156234942834, 0.567036382703336, -0.12441637457840032, -0.6602690676164671], [-0.030266782697177523, 0.025407987559961653, 0.2035885129794263, -0.23048425242724546, -0.08930878217301112, 0.3144138417221275]]\n"
     ]
    }
   ],
   "source": [
    "print(\"For Curve 2 (Natural Cubic Spline 2):\")\n",
    "coeff_x = [17, 20, 23, 24, 25, 27, 27.7]\n",
    "coeff_y = [4.5, 7, 6.1, 5.6, 5.8, 5.2, 4.1]\n",
    "print(natural_cubic_spline(x=coeff_x, y=coeff_y))"
   ]
  },
  {
   "cell_type": "code",
   "execution_count": 250,
   "id": "2b7f415b-5aab-4534-8bcc-ad2e6341ed2d",
   "metadata": {
    "tags": []
   },
   "outputs": [
    {
     "name": "stdout",
     "output_type": "stream",
     "text": [
      "For Curve 3 (Natural Cubic Spline 3):\n",
      "S_0(x) = 4.1000 + 0.7486(x - 27.70) - 0.9102(x - 27.70)^3\n",
      "\n",
      "\n",
      "S_1(x) = 4.3000 + 0.5028(x - 28.00) - 0.8191(x - 28.00)^2 + 0.1163(x - 28.00)^3\n",
      "\n",
      "\n",
      "S_2(x) = 4.1000 - 0.7865(x - 29.00) - 0.4702(x - 29.00)^2 + 0.1567(x - 29.00)^3\n",
      "\n",
      "\n",
      "[[4.1, 4.3, 4.1], [0.7485815602836869, 0.502836879432623, -0.7865248226950352], [0.0, -0.8191489361702113, -0.47021276595744677], [-0.910165484633566, 0.1163120567375882, 0.15673758865248225]]\n"
     ]
    }
   ],
   "source": [
    "print(\"For Curve 3 (Natural Cubic Spline 3):\")\n",
    "coeff_x = [27.7, 28, 29, 30]\n",
    "coeff_y = [4.1, 4.3, 4.1, 3]\n",
    "print(natural_cubic_spline(x=coeff_x, y=coeff_y))"
   ]
  },
  {
   "cell_type": "code",
   "execution_count": null,
   "id": "63d63d03-e2f4-45d1-ae8d-dc3ef2df3450",
   "metadata": {},
   "outputs": [],
   "source": []
  }
 ],
 "metadata": {
  "kernelspec": {
   "display_name": "Python 3 (ipykernel)",
   "language": "python",
   "name": "python3"
  },
  "language_info": {
   "codemirror_mode": {
    "name": "ipython",
    "version": 3
   },
   "file_extension": ".py",
   "mimetype": "text/x-python",
   "name": "python",
   "nbconvert_exporter": "python",
   "pygments_lexer": "ipython3",
   "version": "3.12.7"
  }
 },
 "nbformat": 4,
 "nbformat_minor": 5
}
