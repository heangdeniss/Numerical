{
 "cells": [
  {
   "attachments": {
    "image.png": {
     "image/png": "[encoded data removed]"
    }
   },
   "cell_type": "markdown",
   "metadata": {},
   "source": [
    "![image.png](attachment:image.png)"
   ]
  },
  {
   "cell_type": "markdown",
   "metadata": {},
   "source": [
    "## Solution\n",
    "$$ \\textbf{1. Integrating a Constant Function} \\quad f(x) = 1 $$\n",
    "### The exact integral of a constant function 1 over the interval [−1,1] is:\n",
    "$$ \\int_{-1}^{1} 1 \\, dx = 2 $$\n",
    "### Let use quatrature formula\n",
    "$$ f\\left( \\frac{-\\sqrt{3}}{3} \\right) + f\\left( \\frac{\\sqrt{3}}{3} \\right) = 1 + 1 = 2 $$\n",
    "\n",
    "$$ \\textbf{2. Integrating a Linear Function} \\quad f(x) = x $$\n",
    "$$ \\int_{-1}^{1} x \\, dx = 0 $$\n",
    "\n",
    "### Use Quatrature formula\n",
    "$$ f\\left( \\frac{-\\sqrt{3}}{3} \\right) + f\\left( \\frac{\\sqrt{3}}{3} \\right) = \\frac{-\\sqrt{3}}{3} + \\frac{\\sqrt{3}}{3} = 0 $$\n",
    "\n",
    "$$ \\textbf{3. Integrating a Quadratic Function} \\quad f(x) = x^2 $$\n",
    "\n",
    "$$ \\int_{-1}^{1} x^2 \\, dx = \\frac{2}{3} $$\n",
    "### Use quadrature formula: \n",
    "$$ f\\left( \\frac{-\\sqrt{3}}{3} \\right) + f\\left( \\frac{\\sqrt{3}}{3} \\right) = \\left( \\frac{-\\sqrt{3}}{3} \\right)^2 + \\left( \\frac{\\sqrt{3}}{3} \\right)^2 = \\frac{3}{9} + \\frac{3}{9} = \\frac{2}{3} $$\n",
    "\n",
    "$$ \\textbf{4. Integrating a Cubic Function} \\quad f(x) = x^3 $$\n",
    "$$ \\int_{-1}^{1} x^3 \\, dx = 0 $$\n",
    "\n",
    "### Let use Quadrature formula:\n",
    "\n",
    "$$ f\\left( \\frac{-\\sqrt{3}}{3} \\right) + f\\left( \\frac{\\sqrt{3}}{3} \\right) = \\left( \\frac{-\\sqrt{3}}{3} \\right)^3 + \\left( \\frac{\\sqrt{3}}{3} \\right)^3 = \\frac{-\\sqrt{3}}{27} + \\frac{\\sqrt{3}}{27} = 0 $$\n",
    "\n",
    "## Therefore, the degree of precision of this quadrature formula is 2\n"
   ]
  },
  {
   "cell_type": "code",
   "execution_count": 2,
   "metadata": {},
   "outputs": [
    {
     "name": "stdout",
     "output_type": "stream",
     "text": [
      "Testing function: f_constant\n",
      "Quadrature result: 2\n",
      "Exact result: 2\n",
      "Error: 0\n",
      "\n",
      "Testing function: f_linear\n",
      "Quadrature result: 0.0\n",
      "Exact result: 0\n",
      "Error: 0.0\n",
      "\n",
      "Testing function: f_quadratic\n",
      "Quadrature result: 0.6666666666666666\n",
      "Exact result: 0.6666666666666666\n",
      "Error: 0.0\n",
      "\n",
      "Testing function: f_cubic\n",
      "Quadrature result: 0.0\n",
      "Exact result: 0\n",
      "Error: 0.0\n",
      "\n"
     ]
    }
   ],
   "source": [
    "import numpy as np\n",
    "\n",
    "# Define the quadrature formula\n",
    "def quadrature_formula(f):\n",
    "    x1 = -np.sqrt(3) / 3\n",
    "    x2 = np.sqrt(3) / 3\n",
    "    return 1 * (f(x1)) + 1 * (f(x2))\n",
    "\n",
    "def f_constant(x):\n",
    "    return 1\n",
    "\n",
    "def f_linear(x):\n",
    "    return x\n",
    "\n",
    "def f_quadratic(x):\n",
    "    return x**2\n",
    "\n",
    "def f_cubic(x):\n",
    "    return x**3\n",
    "\n",
    "def exact_integral(func):\n",
    "    if func == f_constant:\n",
    "        return 2  # ∫ from -1 to 1 of 1 is 2\n",
    "    elif func == f_linear:\n",
    "        return 0  # ∫ from -1 to 1 of x is 0\n",
    "    elif func == f_quadratic:\n",
    "        return 2 / 3  # ∫ from -1 to 1 of x^2 is 2/3\n",
    "    elif func == f_cubic:\n",
    "        return 0  # ∫ from -1 to 1 of x^3 is 0\n",
    "\n",
    "def test_quadrature(func):\n",
    "    quadrature_result = quadrature_formula(func)  # Pass the function here\n",
    "    exact_result = exact_integral(func)\n",
    "    print(f\"Testing function: {func.__name__}\")\n",
    "    print(f\"Quadrature result: {quadrature_result}\")\n",
    "    print(f\"Exact result: {exact_result}\")\n",
    "    print(f\"Error: {abs(quadrature_result - exact_result)}\")\n",
    "    print(\"\")\n",
    "\n",
    "# Test the quadrature formula with different polynomials\n",
    "test_quadrature(f_constant)\n",
    "test_quadrature(f_linear)\n",
    "test_quadrature(f_quadratic)\n",
    "test_quadrature(f_cubic)\n"
   ]
  },
  {
   "cell_type": "code",
   "execution_count": null,
   "metadata": {},
   "outputs": [],
   "source": []
  }
 ],
 "metadata": {
  "kernelspec": {
   "display_name": "Python 3",
   "language": "python",
   "name": "python3"
  },
  "language_info": {
   "codemirror_mode": {
    "name": "ipython",
    "version": 3
   },
   "file_extension": ".py",
   "mimetype": "text/x-python",
   "name": "python",
   "nbconvert_exporter": "python",
   "pygments_lexer": "ipython3",
   "version": "3.12.7"
  }
 },
 "nbformat": 4,
 "nbformat_minor": 2
}
